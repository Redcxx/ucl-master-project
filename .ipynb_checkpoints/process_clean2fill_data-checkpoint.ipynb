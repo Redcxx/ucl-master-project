{
 "cells": [
  {
   "cell_type": "markdown",
   "id": "2d5e588c",
   "metadata": {},
   "source": [
    "# Imports"
   ]
  },
  {
   "cell_type": "code",
   "execution_count": 1,
   "id": "f9027ef9",
   "metadata": {
    "ExecuteTime": {
     "end_time": "2022-06-01T10:43:59.222236Z",
     "start_time": "2022-06-01T10:43:58.244618Z"
    }
   },
   "outputs": [],
   "source": [
    "import os\n",
    "import re\n",
    "import sys\n",
    "import time\n",
    "import hashlib\n",
    "import shutil\n",
    "from pathlib import Path\n",
    "from pprint import pprint\n",
    "# thread instead of process: https://stackoverflow.com/questions/21198857/python-multiprocessing-example-not-working\n",
    "from multiprocessing.dummy import Pool\n",
    "import multiprocessing\n",
    "\n",
    "from tqdm.notebook import tqdm\n",
    "from PIL import Image, ImageOps, ImageColor\n",
    "from matplotlib import pyplot as plt\n",
    "from sklearn.model_selection import train_test_split"
   ]
  },
  {
   "cell_type": "markdown",
   "id": "fa2d8add",
   "metadata": {},
   "source": [
    "# Settings"
   ]
  },
  {
   "cell_type": "code",
   "execution_count": 2,
   "id": "99129409",
   "metadata": {
    "ExecuteTime": {
     "end_time": "2022-06-01T10:43:59.237238Z",
     "start_time": "2022-06-01T10:43:59.225238Z"
    }
   },
   "outputs": [],
   "source": [
    "ROOT_DIR = r'.\\datasets\\RAW_DATA-20220516T194619Z-001\\RAW_DATA'  # containing shots\n",
    "DATASET_ROOT_DIR = r'./datasets/processed_data'  # output dir\n",
    "TRAIN_TEST_RATIO = 0.8\n",
    "RANDOM_SEED = 42"
   ]
  },
  {
   "cell_type": "markdown",
   "id": "680c46f8",
   "metadata": {},
   "source": [
    "## Folder Structure\n",
    "- RAW_DATA: 1\n",
    "    - [SHOT_NAME]: n\n",
    "        - [CHAR_NAME]: n\n",
    "            - ?cleanup|spotkeys\n",
    "                - ?[number]\\_[type]\\_[other]:   type = line / clean  --> line\n",
    "                - ?[number]\\_[type]\\_[other]:   type = fill / col    --> color"
   ]
  },
  {
   "cell_type": "markdown",
   "id": "b9a7cd6f",
   "metadata": {},
   "source": [
    "# Utilities"
   ]
  },
  {
   "cell_type": "code",
   "execution_count": 3,
   "id": "6cf34825",
   "metadata": {
    "ExecuteTime": {
     "end_time": "2022-06-01T10:43:59.253238Z",
     "start_time": "2022-06-01T10:43:59.239240Z"
    }
   },
   "outputs": [],
   "source": [
    "IMG_EXTENSIONS = [\n",
    "    '.jpg', '.jpeg',\n",
    "    '.png', '.ppm', '.bmp',\n",
    "    '.tif', '.tiff',\n",
    "]\n",
    "\n",
    "def is_image_file(filename):\n",
    "    return any(filename.lower().endswith(ext) for ext in IMG_EXTENSIONS)\n",
    "\n",
    "def find_all_image_paths(root):\n",
    "    paths = []\n",
    "    assert os.path.isdir(root)\n",
    "\n",
    "    for root, _, filenames in sorted(os.walk(root)):\n",
    "        for filename in filenames:\n",
    "            if is_image_file(filename):\n",
    "                paths.append(os.path.join(root, filename))\n",
    "    \n",
    "    return paths\n",
    "\n",
    "def find_all_folders(root):\n",
    "    try:\n",
    "        return list(next(os.walk(root))[1])\n",
    "    except StopIteration:\n",
    "        return []"
   ]
  },
  {
   "cell_type": "markdown",
   "id": "46976865",
   "metadata": {},
   "source": [
    "# Find Mapping Image Pairs"
   ]
  },
  {
   "cell_type": "code",
   "execution_count": 4,
   "id": "057c6dba",
   "metadata": {
    "ExecuteTime": {
     "end_time": "2022-06-01T10:43:59.300238Z",
     "start_time": "2022-06-01T10:43:59.254239Z"
    },
    "scrolled": true
   },
   "outputs": [
    {
     "data": {
      "application/vnd.jupyter.widget-view+json": {
       "model_id": "4d8a137fbd1142d0be57e771aeeb83d9",
       "version_major": 2,
       "version_minor": 0
      },
      "text/plain": [
       "  0%|          | 0/5 [00:00<?, ?it/s]"
      ]
     },
     "metadata": {},
     "output_type": "display_data"
    },
    {
     "name": "stdout",
     "output_type": "stream",
     "text": [
      "\n",
      ".\\datasets\\RAW_DATA-20220516T194619Z-001\\RAW_DATA\\SH_0010\n",
      ".\\datasets\\RAW_DATA-20220516T194619Z-001\\RAW_DATA\\SH_0010\\Connie\\cleanup\n",
      "02_CONNIE_HAIR_LINE -> 03_COL_ConnieHair\n",
      "04_CONNIE_HAND_LINE -> 05_COL_ConnieHand\n",
      "06_LINE_CONNIE_UPPERBODY -> 07_COL_ConnieUpperbody\n",
      "08_LINE_CONNIE_STILL -> 09_COL_ConnieStill\n",
      ".\\datasets\\RAW_DATA-20220516T194619Z-001\\RAW_DATA\\SH_0010\\Connie\\spotkeys\n",
      "01_Line_ConnieHair -> 02_COL_ConnieHair\n",
      "03_Line_ConnieHand -> 04_COL_ConnieHand\n",
      "05_Line_ConnieUpperbody -> 06_COL_ConnieUpperbody\n",
      "07_Line_ConnieStill -> 08_COL_ConnieStill\n",
      ".\\datasets\\RAW_DATA-20220516T194619Z-001\\RAW_DATA\\SH_0010\\OldDude\\cleanup\n",
      "19_OLdDudeLine -> 23_OldDudeCol\n",
      ".\\datasets\\RAW_DATA-20220516T194619Z-001\\RAW_DATA\\SH_0010\\OldDude\\spotkeys\n",
      ".\\datasets\\RAW_DATA-20220516T194619Z-001\\RAW_DATA\\SH_0010\\Ruben\\cleanup\n",
      "24_RubenLine -> 27_RubenCol\n",
      ".\\datasets\\RAW_DATA-20220516T194619Z-001\\RAW_DATA\\SH_0010\\Ruben\\spotkeys\n",
      ".\\datasets\\RAW_DATA-20220516T194619Z-001\\RAW_DATA\\SH_0010\\SleepingDude\\cleanup\n",
      "11_SleepingDude_Clean -> 13_SLeepingDudeCol\n",
      ".\\datasets\\RAW_DATA-20220516T194619Z-001\\RAW_DATA\\SH_0010\\SleepingDude\\spotkeys\n",
      "\n",
      ".\\datasets\\RAW_DATA-20220516T194619Z-001\\RAW_DATA\\SH_0030\n",
      ".\\datasets\\RAW_DATA-20220516T194619Z-001\\RAW_DATA\\SH_0030\\BGguy\\cleanup\n",
      "14_BGguy_LINE -> 16_BGguy_FILL\n",
      ".\\datasets\\RAW_DATA-20220516T194619Z-001\\RAW_DATA\\SH_0030\\BGguy\\spotkeys\n",
      "13_BGguy_LINE -> 15_BGguy_FILL\n",
      ".\\datasets\\RAW_DATA-20220516T194619Z-001\\RAW_DATA\\SH_0030\\BGkid\\cleanup\n",
      "07_BGkidLINE -> 10_BGkidFILL\n",
      ".\\datasets\\RAW_DATA-20220516T194619Z-001\\RAW_DATA\\SH_0030\\BGkid\\spotkeys\n",
      "06_BGkidLINE -> 09_BGkidFILL\n",
      ".\\datasets\\RAW_DATA-20220516T194619Z-001\\RAW_DATA\\SH_0030\\BGmum\\cleanup\n",
      "11_BGmum_LINE -> 13_BGmum_FILL\n",
      ".\\datasets\\RAW_DATA-20220516T194619Z-001\\RAW_DATA\\SH_0030\\BGmum\\spotkeys\n",
      "10_BGmum_LINE -> 12_BGmum_FILL\n",
      ".\\datasets\\RAW_DATA-20220516T194619Z-001\\RAW_DATA\\SH_0030\\BGoldman\\cleanup\n",
      "20_BGoldmanLINE -> 22_BGoldmanFILL\n",
      ".\\datasets\\RAW_DATA-20220516T194619Z-001\\RAW_DATA\\SH_0030\\BGoldman\\spotkeys\n",
      "19_BGoldmanLINE -> 21_BGoldmanFILL\n",
      ".\\datasets\\RAW_DATA-20220516T194619Z-001\\RAW_DATA\\SH_0030\\BGStall\\cleanup\n",
      "23_BGStallCharctersLine -> 25_BGStallCharctersFIll\n",
      ".\\datasets\\RAW_DATA-20220516T194619Z-001\\RAW_DATA\\SH_0030\\BGStall\\spotkeys\n",
      ".\\datasets\\RAW_DATA-20220516T194619Z-001\\RAW_DATA\\SH_0030\\BGwoman\\cleanup\n",
      "17_BGwomanLINE -> 19_BGwomanFILL\n",
      ".\\datasets\\RAW_DATA-20220516T194619Z-001\\RAW_DATA\\SH_0030\\BGwoman\\spotkeys\n",
      "16_BGwomanLINE -> 18_BGwomanFILL\n",
      ".\\datasets\\RAW_DATA-20220516T194619Z-001\\RAW_DATA\\SH_0030\\FGcharacter\\cleanup\n",
      "01_FGCHarcterLine -> 04_FGCHarcterFill\n",
      "05_FGCHarcterLegsClean -> 06_FGCHarcterLegsFill\n",
      ".\\datasets\\RAW_DATA-20220516T194619Z-001\\RAW_DATA\\SH_0030\\FGcharacter\\spotkeys\n",
      "01_FGCHarcterLine -> 03_FGCHarcterFill\n",
      "04_FGCHarcterLegsClean -> 05_FGCHarcterLegsFill\n",
      "\n",
      ".\\datasets\\RAW_DATA-20220516T194619Z-001\\RAW_DATA\\SH_0040\n",
      ".\\datasets\\RAW_DATA-20220516T194619Z-001\\RAW_DATA\\SH_0040\\Connie\\cleanup\n",
      "22_Line_Connie_armTablet -> 24_COL_Connie_armTablet\n",
      "25_Line_Connie -> 27_COL_Connie\n",
      "28_Line_ConnieStill -> 30_COL_ConnieStill\n",
      ".\\datasets\\RAW_DATA-20220516T194619Z-001\\RAW_DATA\\SH_0040\\Connie\\spotkeys\n",
      ".\\datasets\\RAW_DATA-20220516T194619Z-001\\RAW_DATA\\SH_0040\\Janelle\\cleanup\n",
      "19_Line_Janelle_hands -> 21_COL_Janelle_hands\n",
      "31_Line_Janelle_body -> 33_COL_Janelle_body\n",
      "34_Line_JanelleStill -> 36_COL_JanelleStill\n",
      ".\\datasets\\RAW_DATA-20220516T194619Z-001\\RAW_DATA\\SH_0040\\Janelle\\spotkeys\n",
      ".\\datasets\\RAW_DATA-20220516T194619Z-001\\RAW_DATA\\SH_0040\\Kurt\\cleanup\n",
      "10_Line_Kurt -> 12_COL_Kurt\n",
      "13_Line_KurtStill -> 15_COL_KurtStill\n",
      ".\\datasets\\RAW_DATA-20220516T194619Z-001\\RAW_DATA\\SH_0040\\Kurt\\spotkeys\n",
      ".\\datasets\\RAW_DATA-20220516T194619Z-001\\RAW_DATA\\SH_0040\\props\\cleanup\n",
      "06_CushionClean -> 08_CushionFill\n",
      ".\\datasets\\RAW_DATA-20220516T194619Z-001\\RAW_DATA\\SH_0040\\props\\spotkeys\n",
      "\n",
      ".\\datasets\\RAW_DATA-20220516T194619Z-001\\RAW_DATA\\SH_0050\n",
      ".\\datasets\\RAW_DATA-20220516T194619Z-001\\RAW_DATA\\SH_0050\\Connie\\cleanup\n",
      "09_CONNIE_BODY_LINE -> 12_CONNIE_BODY_COL\n",
      "13_CONNIE_HEAD_LINE -> 14_CONNIE_HEAD_COL\n",
      ".\\datasets\\RAW_DATA-20220516T194619Z-001\\RAW_DATA\\SH_0050\\Connie\\spotkeys\n",
      ".\\datasets\\RAW_DATA-20220516T194619Z-001\\RAW_DATA\\SH_0050\\fx\\cleanup\n",
      ".\\datasets\\RAW_DATA-20220516T194619Z-001\\RAW_DATA\\SH_0050\\fx\\spotkeys\n",
      ".\\datasets\\RAW_DATA-20220516T194619Z-001\\RAW_DATA\\SH_0050\\Kurt\\cleanup\n",
      "02_KURT_BODY_LINE -> 03_KURT_BODY_COL\n",
      ".\\datasets\\RAW_DATA-20220516T194619Z-001\\RAW_DATA\\SH_0050\\Kurt\\spotkeys\n",
      "\n",
      ".\\datasets\\RAW_DATA-20220516T194619Z-001\\RAW_DATA\\SH_0060\n",
      ".\\datasets\\RAW_DATA-20220516T194619Z-001\\RAW_DATA\\SH_0060\\Background\\cleanup\n",
      ".\\datasets\\RAW_DATA-20220516T194619Z-001\\RAW_DATA\\SH_0060\\Background\\spotkeys\n",
      ".\\datasets\\RAW_DATA-20220516T194619Z-001\\RAW_DATA\\SH_0060\\cleanup\\cleanup\n",
      ".\\datasets\\RAW_DATA-20220516T194619Z-001\\RAW_DATA\\SH_0060\\cleanup\\spotkeys\n",
      ".\\datasets\\RAW_DATA-20220516T194619Z-001\\RAW_DATA\\SH_0060\\col\\cleanup\n",
      ".\\datasets\\RAW_DATA-20220516T194619Z-001\\RAW_DATA\\SH_0060\\col\\spotkeys\n",
      ".\\datasets\\RAW_DATA-20220516T194619Z-001\\RAW_DATA\\SH_0060\\Connie\\cleanup\n",
      ".\\datasets\\RAW_DATA-20220516T194619Z-001\\RAW_DATA\\SH_0060\\Connie\\spotkeys\n",
      ".\\datasets\\RAW_DATA-20220516T194619Z-001\\RAW_DATA\\SH_0060\\Dad\\cleanup\n",
      ".\\datasets\\RAW_DATA-20220516T194619Z-001\\RAW_DATA\\SH_0060\\Dad\\spotkeys\n",
      ".\\datasets\\RAW_DATA-20220516T194619Z-001\\RAW_DATA\\SH_0060\\Janelle\\cleanup\n",
      ".\\datasets\\RAW_DATA-20220516T194619Z-001\\RAW_DATA\\SH_0060\\Janelle\\spotkeys\n",
      "24_JANELLE_HAIR -> 25_JANELLE_HAIR_COL\n",
      "26_JANELLE_SHIRT -> 27_JANELLE_SHIRT_COL\n",
      ".\\datasets\\RAW_DATA-20220516T194619Z-001\\RAW_DATA\\SH_0060\\Kurt\\cleanup\n",
      ".\\datasets\\RAW_DATA-20220516T194619Z-001\\RAW_DATA\\SH_0060\\Kurt\\spotkeys\n",
      ".\\datasets\\RAW_DATA-20220516T194619Z-001\\RAW_DATA\\SH_0060\\Rando\\cleanup\n",
      ".\\datasets\\RAW_DATA-20220516T194619Z-001\\RAW_DATA\\SH_0060\\Rando\\spotkeys\n",
      ".\\datasets\\RAW_DATA-20220516T194619Z-001\\RAW_DATA\\SH_0060\\Yoyota\\cleanup\n",
      ".\\datasets\\RAW_DATA-20220516T194619Z-001\\RAW_DATA\\SH_0060\\Yoyota\\spotkeys\n"
     ]
    }
   ],
   "source": [
    "clean_line = re.compile(r'line|clean|_', re.IGNORECASE)\n",
    "clean_fill = re.compile(r'col|fill|_', re.IGNORECASE)\n",
    "\n",
    "def process_char_dir(char_dir):\n",
    "    print(char_dir)\n",
    "    \n",
    "    line2fill_map = {}\n",
    "    \n",
    "    part_dirs = find_all_folders(char_dir)\n",
    "    \n",
    "    # map clean to original \n",
    "    clean_line_dirs = {}  \n",
    "    clean_fill_dirs = {}\n",
    "    \n",
    "    # for each part folder:\n",
    "    for part_dir in part_dirs:\n",
    "        \n",
    "        # remove seq no and convert to lower case\n",
    "        clean_folder = part_dir.split('_', maxsplit=1)[1].lower()\n",
    "        \n",
    "        # remove line, clean, _ from the folder name\n",
    "        clean_line_dirs[clean_line.sub('', clean_folder)] = part_dir  # keep track of original folder name\n",
    "        \n",
    "        # remove col, fill, _ from the folder name\n",
    "        clean_fill_dirs[clean_fill.sub('', clean_folder)] = part_dir  # keep track of original folder name\n",
    "\n",
    "    for clean_line_dir in clean_line_dirs:\n",
    "        \n",
    "        if clean_line_dir in clean_fill_dirs:\n",
    "            \n",
    "            line_original_dir = clean_line_dirs[clean_line_dir]\n",
    "            fill_original_dir = clean_fill_dirs[clean_line_dir]\n",
    "            \n",
    "            if line_original_dir != fill_original_dir:  # if its not just a random folder\n",
    "                # we got a matching folder, line -> fill\n",
    "                print(f'{line_original_dir} -> {fill_original_dir}')\n",
    "                line_path = os.path.join(char_dir, line_original_dir)\n",
    "                fill_path = os.path.join(char_dir, fill_original_dir)\n",
    "\n",
    "                line2fill_map[line_path] = fill_path\n",
    "                \n",
    "    return line2fill_map\n",
    "\n",
    "def process_shot_dir(shot_dir):\n",
    "    print()\n",
    "    print(shot_dir)\n",
    "    \n",
    "    line2fill_map = {}\n",
    "    char_names = find_all_folders(shot_dir)\n",
    "    for char in char_names:\n",
    "        \n",
    "        char_dir = os.path.join(shot_dir, char, 'cleanup')\n",
    "        line2fill_map.update(process_char_dir(char_dir))\n",
    "        \n",
    "        char_dir = os.path.join(shot_dir, char, 'spotkeys')\n",
    "        line2fill_map.update(process_char_dir(char_dir))\n",
    "    \n",
    "    return line2fill_map\n",
    "\n",
    "\n",
    "line2fill_map = {}\n",
    "\n",
    "for shot_folder in tqdm(find_all_folders(ROOT_DIR)):\n",
    "    line2fill_map.update(process_shot_dir(os.path.join(ROOT_DIR, shot_folder)))"
   ]
  },
  {
   "cell_type": "code",
   "execution_count": 5,
   "id": "ac69ea5c",
   "metadata": {
    "ExecuteTime": {
     "end_time": "2022-06-01T10:43:59.348238Z",
     "start_time": "2022-06-01T10:43:59.302239Z"
    }
   },
   "outputs": [
    {
     "data": {
      "application/vnd.jupyter.widget-view+json": {
       "model_id": "0a35f706c32f40c29945458253f20610",
       "version_major": 2,
       "version_minor": 0
      },
      "text/plain": [
       "  0%|          | 0/40 [00:00<?, ?it/s]"
      ]
     },
     "metadata": {},
     "output_type": "display_data"
    }
   ],
   "source": [
    "line_fill_paths = []\n",
    "for line_path, fill_path in tqdm(line2fill_map.items()):\n",
    "    line_im_paths = sorted(find_all_image_paths(line_path))\n",
    "    fill_im_paths = sorted(find_all_image_paths(fill_path))\n",
    "    line_fill_paths += list(zip(line_im_paths, fill_im_paths))"
   ]
  },
  {
   "cell_type": "markdown",
   "id": "b2384bce",
   "metadata": {},
   "source": [
    "# Process and Create Training Samples"
   ]
  },
  {
   "cell_type": "code",
   "execution_count": 6,
   "id": "24ac0021",
   "metadata": {
    "ExecuteTime": {
     "end_time": "2022-06-01T10:43:59.364238Z",
     "start_time": "2022-06-01T10:43:59.350241Z"
    }
   },
   "outputs": [],
   "source": [
    "def process(paths):\n",
    "    line_path, fill_path, save_path = paths\n",
    "    \n",
    "    # read image\n",
    "    im_A = Image.open(line_path)\n",
    "    im_B = Image.open(fill_path)\n",
    "\n",
    "    # crop to non empty region\n",
    "    non_empty_coord = im_A.getbbox()\n",
    "    \n",
    "    if non_empty_coord is None:\n",
    "        # empty image\n",
    "        return None\n",
    "    \n",
    "    im_A = im_A.crop(non_empty_coord)\n",
    "    im_B = im_B.crop(non_empty_coord)\n",
    "    \n",
    "    # pad and resize to square\n",
    "    size = 512\n",
    "    im_A = ImageOps.pad(im_A, (size, size), method=Image.BICUBIC, color='rgba(0,0,0,0)')\n",
    "    im_B = ImageOps.pad(im_B, (size, size), method=Image.BICUBIC, color='rgba(0,0,0,0)')\n",
    "    \n",
    "    # combine\n",
    "    im = Image.new('RGBA', (size * 2, size))\n",
    "    im.paste(im_A, (0, 0))\n",
    "    im.paste(im_B, (size, 0))\n",
    "    \n",
    "    # convert to RGB, do not use .convert('RGB') as it gives black background\n",
    "    rgb = Image.new(\"RGB\", im.size, (255, 255, 255))\n",
    "    rgb.paste(im, mask=im.split()[3])\n",
    "\n",
    "    rgb.save(save_path)\n",
    "    return rgb"
   ]
  },
  {
   "cell_type": "code",
   "execution_count": 9,
   "id": "83ade74f",
   "metadata": {
    "ExecuteTime": {
     "end_time": "2022-06-01T10:45:44.002441Z",
     "start_time": "2022-06-01T10:44:49.571331Z"
    }
   },
   "outputs": [
    {
     "name": "stdout",
     "output_type": "stream",
     "text": [
      "Output Directory: ./datasets/processed_data\\RAW_DATA\n"
     ]
    },
    {
     "data": {
      "application/vnd.jupyter.widget-view+json": {
       "model_id": "5c43518ec7ea4aedb5658bfb5ddb86af",
       "version_major": 2,
       "version_minor": 0
      },
      "text/plain": [
       "  0%|          | 0/2155 [00:00<?, ?it/s]"
      ]
     },
     "metadata": {},
     "output_type": "display_data"
    },
    {
     "name": "stdout",
     "output_type": "stream",
     "text": [
      "Number of            data pairs: 2155\n",
      "Number of non empty  data pairs: 1477\n",
      "Number of duplicates data pairs: 1104\n",
      "Number of remaining  data pairs: 373\n"
     ]
    }
   ],
   "source": [
    "input_dataset_folder = os.path.basename(os.path.normpath(ROOT_DIR))\n",
    "output_dataset_root = os.path.join(DATASET_ROOT_DIR, input_dataset_folder)\n",
    "\n",
    "print(f'Output Directory: {output_dataset_root}')\n",
    "Path(output_dataset_root).mkdir(parents=True, exist_ok=True)\n",
    "\n",
    "# set up worker input\n",
    "worker_inputs = []\n",
    "for i, (line_path, fill_path) in enumerate(line_fill_paths, 1):\n",
    "    save_path = os.path.join(output_dataset_root, f'{i}.jpg')\n",
    "    worker_inputs.append((line_path, fill_path, save_path)) \n",
    "    \n",
    "valid_pairs = 0\n",
    "seen = set()\n",
    "dups = []\n",
    "remains = 0\n",
    "\n",
    "with Pool(8) as pool:\n",
    "    for i, im in tqdm(enumerate(pool.imap_unordered(process, worker_inputs)), total=len(worker_inputs)):\n",
    "        if im:\n",
    "            valid_pairs += 1\n",
    "            \n",
    "            h = hashlib.sha256(im.tobytes()).hexdigest()\n",
    "            save_path = worker_inputs[i][2]\n",
    "            if h in seen:\n",
    "                dups.append(save_path)  # append the save_path\n",
    "            else:\n",
    "                remains += 1\n",
    "                seen.add(h)\n",
    "\n",
    "# remove duplicates\n",
    "for p in dups:\n",
    "    Path(p).unlink(missing_ok=True)\n",
    "\n",
    "print(f'Number of            data pairs: {len(worker_inputs)}')    \n",
    "print(f'Number of non empty  data pairs: {valid_pairs}')\n",
    "print(f'Number of duplicates data pairs: {len(dups)}')\n",
    "print(f'Number of remaining  data pairs: {remains}')"
   ]
  },
  {
   "cell_type": "markdown",
   "id": "ac848540",
   "metadata": {},
   "source": [
    "# Train Test Split"
   ]
  },
  {
   "cell_type": "code",
   "execution_count": 11,
   "id": "cbdc4eee",
   "metadata": {
    "ExecuteTime": {
     "end_time": "2022-06-01T10:46:42.483357Z",
     "start_time": "2022-06-01T10:46:42.442358Z"
    }
   },
   "outputs": [
    {
     "name": "stdout",
     "output_type": "stream",
     "text": [
      "Number of training samples: ['./datasets/processed_data\\\\RAW_DATA\\\\train\\\\1990.jpg', './datasets/processed_data\\\\RAW_DATA\\\\train\\\\83.jpg', './datasets/processed_data\\\\RAW_DATA\\\\train\\\\1893.jpg', './datasets/processed_data\\\\RAW_DATA\\\\train\\\\105.jpg', './datasets/processed_data\\\\RAW_DATA\\\\train\\\\1988.jpg', './datasets/processed_data\\\\RAW_DATA\\\\train\\\\1598.jpg', './datasets/processed_data\\\\RAW_DATA\\\\test\\\\1156.jpg', './datasets/processed_data\\\\RAW_DATA\\\\test\\\\1956.jpg', './datasets/processed_data\\\\RAW_DATA\\\\train\\\\1260.jpg', './datasets/processed_data\\\\RAW_DATA\\\\train\\\\705.jpg', './datasets/processed_data\\\\RAW_DATA\\\\train\\\\1950.jpg', './datasets/processed_data\\\\RAW_DATA\\\\test\\\\1375.jpg', './datasets/processed_data\\\\RAW_DATA\\\\train\\\\879.jpg', './datasets/processed_data\\\\RAW_DATA\\\\train\\\\681.jpg', './datasets/processed_data\\\\RAW_DATA\\\\train\\\\2002.jpg', './datasets/processed_data\\\\RAW_DATA\\\\test\\\\1121.jpg', './datasets/processed_data\\\\RAW_DATA\\\\test\\\\147.jpg', './datasets/processed_data\\\\RAW_DATA\\\\train\\\\1894.jpg', './datasets/processed_data\\\\RAW_DATA\\\\test\\\\666.jpg', './datasets/processed_data\\\\RAW_DATA\\\\train\\\\1880.jpg', './datasets/processed_data\\\\RAW_DATA\\\\train\\\\702.jpg', './datasets/processed_data\\\\RAW_DATA\\\\test\\\\763.jpg', './datasets/processed_data\\\\RAW_DATA\\\\train\\\\712.jpg', './datasets/processed_data\\\\RAW_DATA\\\\train\\\\876.jpg', './datasets/processed_data\\\\RAW_DATA\\\\train\\\\891.jpg', './datasets/processed_data\\\\RAW_DATA\\\\train\\\\1443.jpg', './datasets/processed_data\\\\RAW_DATA\\\\train\\\\1879.jpg', './datasets/processed_data\\\\RAW_DATA\\\\train\\\\1937.jpg', './datasets/processed_data\\\\RAW_DATA\\\\test\\\\1508.jpg', './datasets/processed_data\\\\RAW_DATA\\\\test\\\\1166.jpg', './datasets/processed_data\\\\RAW_DATA\\\\train\\\\291.jpg', './datasets/processed_data\\\\RAW_DATA\\\\train\\\\1931.jpg', './datasets/processed_data\\\\RAW_DATA\\\\train\\\\122.jpg', './datasets/processed_data\\\\RAW_DATA\\\\train\\\\1160.jpg', './datasets/processed_data\\\\RAW_DATA\\\\train\\\\1882.jpg', './datasets/processed_data\\\\RAW_DATA\\\\test\\\\1608.jpg', './datasets/processed_data\\\\RAW_DATA\\\\train\\\\1482.jpg', './datasets/processed_data\\\\RAW_DATA\\\\train\\\\86.jpg', './datasets/processed_data\\\\RAW_DATA\\\\train\\\\1269.jpg', './datasets/processed_data\\\\RAW_DATA\\\\train\\\\590.jpg', './datasets/processed_data\\\\RAW_DATA\\\\train\\\\1249.jpg', './datasets/processed_data\\\\RAW_DATA\\\\train\\\\1926.jpg', './datasets/processed_data\\\\RAW_DATA\\\\test\\\\915.jpg', './datasets/processed_data\\\\RAW_DATA\\\\train\\\\1438.jpg', './datasets/processed_data\\\\RAW_DATA\\\\train\\\\1954.jpg', './datasets/processed_data\\\\RAW_DATA\\\\train\\\\1958.jpg', './datasets/processed_data\\\\RAW_DATA\\\\train\\\\1878.jpg', './datasets/processed_data\\\\RAW_DATA\\\\train\\\\79.jpg', './datasets/processed_data\\\\RAW_DATA\\\\train\\\\774.jpg', './datasets/processed_data\\\\RAW_DATA\\\\train\\\\2012.jpg', './datasets/processed_data\\\\RAW_DATA\\\\train\\\\1943.jpg', './datasets/processed_data\\\\RAW_DATA\\\\train\\\\1575.jpg', './datasets/processed_data\\\\RAW_DATA\\\\train\\\\1660.jpg', './datasets/processed_data\\\\RAW_DATA\\\\train\\\\1221.jpg', './datasets/processed_data\\\\RAW_DATA\\\\train\\\\1663.jpg', './datasets/processed_data\\\\RAW_DATA\\\\train\\\\771.jpg', './datasets/processed_data\\\\RAW_DATA\\\\train\\\\1593.jpg', './datasets/processed_data\\\\RAW_DATA\\\\train\\\\2091.jpg', './datasets/processed_data\\\\RAW_DATA\\\\test\\\\995.jpg', './datasets/processed_data\\\\RAW_DATA\\\\train\\\\166.jpg', './datasets/processed_data\\\\RAW_DATA\\\\train\\\\1675.jpg', './datasets/processed_data\\\\RAW_DATA\\\\test\\\\914.jpg', './datasets/processed_data\\\\RAW_DATA\\\\train\\\\188.jpg', './datasets/processed_data\\\\RAW_DATA\\\\train\\\\127.jpg', './datasets/processed_data\\\\RAW_DATA\\\\train\\\\841.jpg', './datasets/processed_data\\\\RAW_DATA\\\\train\\\\1725.jpg', './datasets/processed_data\\\\RAW_DATA\\\\train\\\\1912.jpg', './datasets/processed_data\\\\RAW_DATA\\\\train\\\\1602.jpg', './datasets/processed_data\\\\RAW_DATA\\\\train\\\\1738.jpg', './datasets/processed_data\\\\RAW_DATA\\\\train\\\\767.jpg', './datasets/processed_data\\\\RAW_DATA\\\\train\\\\347.jpg', './datasets/processed_data\\\\RAW_DATA\\\\test\\\\1877.jpg', './datasets/processed_data\\\\RAW_DATA\\\\train\\\\1498.jpg', './datasets/processed_data\\\\RAW_DATA\\\\train\\\\91.jpg', './datasets/processed_data\\\\RAW_DATA\\\\train\\\\1892.jpg', './datasets/processed_data\\\\RAW_DATA\\\\train\\\\882.jpg', './datasets/processed_data\\\\RAW_DATA\\\\train\\\\1904.jpg', './datasets/processed_data\\\\RAW_DATA\\\\test\\\\586.jpg', './datasets/processed_data\\\\RAW_DATA\\\\train\\\\1233.jpg', './datasets/processed_data\\\\RAW_DATA\\\\train\\\\1888.jpg', './datasets/processed_data\\\\RAW_DATA\\\\train\\\\1876.jpg', './datasets/processed_data\\\\RAW_DATA\\\\test\\\\1163.jpg', './datasets/processed_data\\\\RAW_DATA\\\\train\\\\2005.jpg', './datasets/processed_data\\\\RAW_DATA\\\\train\\\\74.jpg', './datasets/processed_data\\\\RAW_DATA\\\\train\\\\1605.jpg', './datasets/processed_data\\\\RAW_DATA\\\\train\\\\1584.jpg', './datasets/processed_data\\\\RAW_DATA\\\\test\\\\1203.jpg', './datasets/processed_data\\\\RAW_DATA\\\\train\\\\367.jpg', './datasets/processed_data\\\\RAW_DATA\\\\train\\\\117.jpg', './datasets/processed_data\\\\RAW_DATA\\\\test\\\\989.jpg', './datasets/processed_data\\\\RAW_DATA\\\\train\\\\1915.jpg', './datasets/processed_data\\\\RAW_DATA\\\\train\\\\195.jpg', './datasets/processed_data\\\\RAW_DATA\\\\train\\\\165.jpg', './datasets/processed_data\\\\RAW_DATA\\\\train\\\\869.jpg', './datasets/processed_data\\\\RAW_DATA\\\\train\\\\1917.jpg', './datasets/processed_data\\\\RAW_DATA\\\\train\\\\443.jpg', './datasets/processed_data\\\\RAW_DATA\\\\train\\\\2087.jpg', './datasets/processed_data\\\\RAW_DATA\\\\train\\\\884.jpg', './datasets/processed_data\\\\RAW_DATA\\\\train\\\\102.jpg', './datasets/processed_data\\\\RAW_DATA\\\\train\\\\54.jpg', './datasets/processed_data\\\\RAW_DATA\\\\train\\\\1619.jpg', './datasets/processed_data\\\\RAW_DATA\\\\train\\\\1524.jpg', './datasets/processed_data\\\\RAW_DATA\\\\train\\\\1941.jpg', './datasets/processed_data\\\\RAW_DATA\\\\train\\\\1028.jpg', './datasets/processed_data\\\\RAW_DATA\\\\test\\\\860.jpg', './datasets/processed_data\\\\RAW_DATA\\\\train\\\\1905.jpg', './datasets/processed_data\\\\RAW_DATA\\\\train\\\\1332.jpg', './datasets/processed_data\\\\RAW_DATA\\\\train\\\\107.jpg', './datasets/processed_data\\\\RAW_DATA\\\\train\\\\1512.jpg', './datasets/processed_data\\\\RAW_DATA\\\\train\\\\288.jpg', './datasets/processed_data\\\\RAW_DATA\\\\train\\\\112.jpg', './datasets/processed_data\\\\RAW_DATA\\\\train\\\\585.jpg', './datasets/processed_data\\\\RAW_DATA\\\\test\\\\809.jpg', './datasets/processed_data\\\\RAW_DATA\\\\test\\\\1492.jpg', './datasets/processed_data\\\\RAW_DATA\\\\test\\\\1883.jpg', './datasets/processed_data\\\\RAW_DATA\\\\train\\\\1514.jpg', './datasets/processed_data\\\\RAW_DATA\\\\train\\\\1331.jpg', './datasets/processed_data\\\\RAW_DATA\\\\train\\\\1982.jpg', './datasets/processed_data\\\\RAW_DATA\\\\train\\\\1887.jpg', './datasets/processed_data\\\\RAW_DATA\\\\train\\\\1741.jpg', './datasets/processed_data\\\\RAW_DATA\\\\test\\\\803.jpg', './datasets/processed_data\\\\RAW_DATA\\\\train\\\\515.jpg', './datasets/processed_data\\\\RAW_DATA\\\\train\\\\440.jpg', './datasets/processed_data\\\\RAW_DATA\\\\train\\\\1924.jpg', './datasets/processed_data\\\\RAW_DATA\\\\train\\\\1971.jpg', './datasets/processed_data\\\\RAW_DATA\\\\train\\\\492.jpg', './datasets/processed_data\\\\RAW_DATA\\\\train\\\\913.jpg', './datasets/processed_data\\\\RAW_DATA\\\\train\\\\1419.jpg', './datasets/processed_data\\\\RAW_DATA\\\\train\\\\1518.jpg', './datasets/processed_data\\\\RAW_DATA\\\\train\\\\346.jpg', './datasets/processed_data\\\\RAW_DATA\\\\train\\\\1009.jpg', './datasets/processed_data\\\\RAW_DATA\\\\train\\\\682.jpg', './datasets/processed_data\\\\RAW_DATA\\\\train\\\\2001.jpg', './datasets/processed_data\\\\RAW_DATA\\\\train\\\\686.jpg', './datasets/processed_data\\\\RAW_DATA\\\\train\\\\1909.jpg', './datasets/processed_data\\\\RAW_DATA\\\\train\\\\1972.jpg', './datasets/processed_data\\\\RAW_DATA\\\\train\\\\287.jpg', './datasets/processed_data\\\\RAW_DATA\\\\train\\\\1743.jpg', './datasets/processed_data\\\\RAW_DATA\\\\train\\\\1932.jpg', './datasets/processed_data\\\\RAW_DATA\\\\train\\\\2000.jpg', './datasets/processed_data\\\\RAW_DATA\\\\train\\\\1921.jpg', './datasets/processed_data\\\\RAW_DATA\\\\train\\\\200.jpg', './datasets/processed_data\\\\RAW_DATA\\\\train\\\\1434.jpg', './datasets/processed_data\\\\RAW_DATA\\\\test\\\\1895.jpg', './datasets/processed_data\\\\RAW_DATA\\\\test\\\\1237.jpg', './datasets/processed_data\\\\RAW_DATA\\\\train\\\\1987.jpg', './datasets/processed_data\\\\RAW_DATA\\\\train\\\\1748.jpg', './datasets/processed_data\\\\RAW_DATA\\\\train\\\\1934.jpg', './datasets/processed_data\\\\RAW_DATA\\\\train\\\\1240.jpg', './datasets/processed_data\\\\RAW_DATA\\\\train\\\\171.jpg', './datasets/processed_data\\\\RAW_DATA\\\\train\\\\595.jpg', './datasets/processed_data\\\\RAW_DATA\\\\train\\\\2007.jpg', './datasets/processed_data\\\\RAW_DATA\\\\train\\\\1995.jpg', './datasets/processed_data\\\\RAW_DATA\\\\train\\\\762.jpg', './datasets/processed_data\\\\RAW_DATA\\\\train\\\\1266.jpg', './datasets/processed_data\\\\RAW_DATA\\\\train\\\\811.jpg', './datasets/processed_data\\\\RAW_DATA\\\\train\\\\1994.jpg', './datasets/processed_data\\\\RAW_DATA\\\\train\\\\900.jpg', './datasets/processed_data\\\\RAW_DATA\\\\train\\\\2004.jpg', './datasets/processed_data\\\\RAW_DATA\\\\train\\\\1920.jpg', './datasets/processed_data\\\\RAW_DATA\\\\train\\\\791.jpg', './datasets/processed_data\\\\RAW_DATA\\\\train\\\\1946.jpg', './datasets/processed_data\\\\RAW_DATA\\\\train\\\\1625.jpg', './datasets/processed_data\\\\RAW_DATA\\\\train\\\\1955.jpg', './datasets/processed_data\\\\RAW_DATA\\\\train\\\\1471.jpg', './datasets/processed_data\\\\RAW_DATA\\\\train\\\\1596.jpg', './datasets/processed_data\\\\RAW_DATA\\\\train\\\\1884.jpg', './datasets/processed_data\\\\RAW_DATA\\\\train\\\\1881.jpg', './datasets/processed_data\\\\RAW_DATA\\\\train\\\\951.jpg', './datasets/processed_data\\\\RAW_DATA\\\\test\\\\1119.jpg', './datasets/processed_data\\\\RAW_DATA\\\\train\\\\192.jpg', './datasets/processed_data\\\\RAW_DATA\\\\train\\\\1889.jpg', './datasets/processed_data\\\\RAW_DATA\\\\train\\\\1257.jpg', './datasets/processed_data\\\\RAW_DATA\\\\train\\\\1273.jpg', './datasets/processed_data\\\\RAW_DATA\\\\train\\\\1911.jpg', './datasets/processed_data\\\\RAW_DATA\\\\train\\\\587.jpg', './datasets/processed_data\\\\RAW_DATA\\\\train\\\\1981.jpg', './datasets/processed_data\\\\RAW_DATA\\\\train\\\\1429.jpg', './datasets/processed_data\\\\RAW_DATA\\\\train\\\\711.jpg', './datasets/processed_data\\\\RAW_DATA\\\\train\\\\1207.jpg', './datasets/processed_data\\\\RAW_DATA\\\\train\\\\2019.jpg', './datasets/processed_data\\\\RAW_DATA\\\\train\\\\1448.jpg', './datasets/processed_data\\\\RAW_DATA\\\\train\\\\2008.jpg', './datasets/processed_data\\\\RAW_DATA\\\\test\\\\1951.jpg', './datasets/processed_data\\\\RAW_DATA\\\\train\\\\810.jpg', './datasets/processed_data\\\\RAW_DATA\\\\test\\\\779.jpg', './datasets/processed_data\\\\RAW_DATA\\\\train\\\\1005.jpg', './datasets/processed_data\\\\RAW_DATA\\\\train\\\\1929.jpg', './datasets/processed_data\\\\RAW_DATA\\\\train\\\\1751.jpg', './datasets/processed_data\\\\RAW_DATA\\\\train\\\\1609.jpg', './datasets/processed_data\\\\RAW_DATA\\\\test\\\\1245.jpg', './datasets/processed_data\\\\RAW_DATA\\\\test\\\\1825.jpg', './datasets/processed_data\\\\RAW_DATA\\\\test\\\\1582.jpg', './datasets/processed_data\\\\RAW_DATA\\\\train\\\\1655.jpg', './datasets/processed_data\\\\RAW_DATA\\\\train\\\\1509.jpg', './datasets/processed_data\\\\RAW_DATA\\\\train\\\\511.jpg', './datasets/processed_data\\\\RAW_DATA\\\\train\\\\1989.jpg', './datasets/processed_data\\\\RAW_DATA\\\\train\\\\1908.jpg', './datasets/processed_data\\\\RAW_DATA\\\\train\\\\1068.jpg', './datasets/processed_data\\\\RAW_DATA\\\\test\\\\2010.jpg', './datasets/processed_data\\\\RAW_DATA\\\\train\\\\1927.jpg', './datasets/processed_data\\\\RAW_DATA\\\\train\\\\865.jpg', './datasets/processed_data\\\\RAW_DATA\\\\train\\\\786.jpg', './datasets/processed_data\\\\RAW_DATA\\\\train\\\\169.jpg', './datasets/processed_data\\\\RAW_DATA\\\\test\\\\1914.jpg', './datasets/processed_data\\\\RAW_DATA\\\\train\\\\368.jpg', './datasets/processed_data\\\\RAW_DATA\\\\train\\\\1890.jpg', './datasets/processed_data\\\\RAW_DATA\\\\train\\\\1984.jpg', './datasets/processed_data\\\\RAW_DATA\\\\train\\\\1942.jpg', './datasets/processed_data\\\\RAW_DATA\\\\train\\\\662.jpg', './datasets/processed_data\\\\RAW_DATA\\\\test\\\\1125.jpg', './datasets/processed_data\\\\RAW_DATA\\\\train\\\\1944.jpg', './datasets/processed_data\\\\RAW_DATA\\\\train\\\\784.jpg', './datasets/processed_data\\\\RAW_DATA\\\\train\\\\115.jpg', './datasets/processed_data\\\\RAW_DATA\\\\train\\\\1913.jpg', './datasets/processed_data\\\\RAW_DATA\\\\train\\\\698.jpg', './datasets/processed_data\\\\RAW_DATA\\\\train\\\\1899.jpg', './datasets/processed_data\\\\RAW_DATA\\\\train\\\\1658.jpg', './datasets/processed_data\\\\RAW_DATA\\\\train\\\\1123.jpg', './datasets/processed_data\\\\RAW_DATA\\\\train\\\\1996.jpg', './datasets/processed_data\\\\RAW_DATA\\\\train\\\\1901.jpg', './datasets/processed_data\\\\RAW_DATA\\\\test\\\\674.jpg', './datasets/processed_data\\\\RAW_DATA\\\\test\\\\1975.jpg', './datasets/processed_data\\\\RAW_DATA\\\\test\\\\1664.jpg', './datasets/processed_data\\\\RAW_DATA\\\\train\\\\1957.jpg', './datasets/processed_data\\\\RAW_DATA\\\\train\\\\1885.jpg', './datasets/processed_data\\\\RAW_DATA\\\\train\\\\777.jpg', './datasets/processed_data\\\\RAW_DATA\\\\test\\\\1522.jpg', './datasets/processed_data\\\\RAW_DATA\\\\train\\\\419.jpg', './datasets/processed_data\\\\RAW_DATA\\\\train\\\\1918.jpg', './datasets/processed_data\\\\RAW_DATA\\\\train\\\\1948.jpg', './datasets/processed_data\\\\RAW_DATA\\\\train\\\\1992.jpg', './datasets/processed_data\\\\RAW_DATA\\\\train\\\\1616.jpg', './datasets/processed_data\\\\RAW_DATA\\\\train\\\\692.jpg', './datasets/processed_data\\\\RAW_DATA\\\\train\\\\1484.jpg', './datasets/processed_data\\\\RAW_DATA\\\\test\\\\738.jpg', './datasets/processed_data\\\\RAW_DATA\\\\train\\\\1452.jpg', './datasets/processed_data\\\\RAW_DATA\\\\train\\\\1430.jpg', './datasets/processed_data\\\\RAW_DATA\\\\test\\\\1177.jpg', './datasets/processed_data\\\\RAW_DATA\\\\test\\\\769.jpg', './datasets/processed_data\\\\RAW_DATA\\\\train\\\\2003.jpg', './datasets/processed_data\\\\RAW_DATA\\\\test\\\\1336.jpg', './datasets/processed_data\\\\RAW_DATA\\\\train\\\\1599.jpg', './datasets/processed_data\\\\RAW_DATA\\\\test\\\\1906.jpg', './datasets/processed_data\\\\RAW_DATA\\\\train\\\\81.jpg', './datasets/processed_data\\\\RAW_DATA\\\\train\\\\588.jpg', './datasets/processed_data\\\\RAW_DATA\\\\train\\\\1902.jpg', './datasets/processed_data\\\\RAW_DATA\\\\train\\\\1980.jpg', './datasets/processed_data\\\\RAW_DATA\\\\train\\\\710.jpg', './datasets/processed_data\\\\RAW_DATA\\\\train\\\\1923.jpg', './datasets/processed_data\\\\RAW_DATA\\\\train\\\\1891.jpg', './datasets/processed_data\\\\RAW_DATA\\\\train\\\\1897.jpg', './datasets/processed_data\\\\RAW_DATA\\\\train\\\\1999.jpg', './datasets/processed_data\\\\RAW_DATA\\\\train\\\\797.jpg', './datasets/processed_data\\\\RAW_DATA\\\\train\\\\1938.jpg', './datasets/processed_data\\\\RAW_DATA\\\\train\\\\916.jpg', './datasets/processed_data\\\\RAW_DATA\\\\train\\\\806.jpg', './datasets/processed_data\\\\RAW_DATA\\\\train\\\\2006.jpg', './datasets/processed_data\\\\RAW_DATA\\\\train\\\\197.jpg', './datasets/processed_data\\\\RAW_DATA\\\\train\\\\1886.jpg', './datasets/processed_data\\\\RAW_DATA\\\\train\\\\1614.jpg', './datasets/processed_data\\\\RAW_DATA\\\\test\\\\1949.jpg', './datasets/processed_data\\\\RAW_DATA\\\\train\\\\1903.jpg', './datasets/processed_data\\\\RAW_DATA\\\\train\\\\185.jpg', './datasets/processed_data\\\\RAW_DATA\\\\train\\\\2016.jpg', './datasets/processed_data\\\\RAW_DATA\\\\train\\\\1947.jpg', './datasets/processed_data\\\\RAW_DATA\\\\train\\\\1174.jpg', './datasets/processed_data\\\\RAW_DATA\\\\test\\\\2013.jpg', './datasets/processed_data\\\\RAW_DATA\\\\test\\\\1027.jpg', './datasets/processed_data\\\\RAW_DATA\\\\test\\\\1985.jpg', './datasets/processed_data\\\\RAW_DATA\\\\test\\\\986.jpg', './datasets/processed_data\\\\RAW_DATA\\\\train\\\\189.jpg', './datasets/processed_data\\\\RAW_DATA\\\\test\\\\1824.jpg', './datasets/processed_data\\\\RAW_DATA\\\\train\\\\1952.jpg', './datasets/processed_data\\\\RAW_DATA\\\\train\\\\1026.jpg', './datasets/processed_data\\\\RAW_DATA\\\\train\\\\59.jpg', './datasets/processed_data\\\\RAW_DATA\\\\test\\\\2011.jpg', './datasets/processed_data\\\\RAW_DATA\\\\train\\\\658.jpg', './datasets/processed_data\\\\RAW_DATA\\\\train\\\\1953.jpg', './datasets/processed_data\\\\RAW_DATA\\\\train\\\\1928.jpg', './datasets/processed_data\\\\RAW_DATA\\\\test\\\\1263.jpg', './datasets/processed_data\\\\RAW_DATA\\\\train\\\\2088.jpg', './datasets/processed_data\\\\RAW_DATA\\\\train\\\\1017.jpg', './datasets/processed_data\\\\RAW_DATA\\\\train\\\\1973.jpg', './datasets/processed_data\\\\RAW_DATA\\\\train\\\\1648.jpg', './datasets/processed_data\\\\RAW_DATA\\\\train\\\\439.jpg', './datasets/processed_data\\\\RAW_DATA\\\\train\\\\96.jpg', './datasets/processed_data\\\\RAW_DATA\\\\train\\\\1450.jpg', './datasets/processed_data\\\\RAW_DATA\\\\train\\\\2009.jpg', './datasets/processed_data\\\\RAW_DATA\\\\train\\\\897.jpg', './datasets/processed_data\\\\RAW_DATA\\\\train\\\\290.jpg', './datasets/processed_data\\\\RAW_DATA\\\\train\\\\1930.jpg', './datasets/processed_data\\\\RAW_DATA\\\\test\\\\2014.jpg', './datasets/processed_data\\\\RAW_DATA\\\\train\\\\713.jpg', './datasets/processed_data\\\\RAW_DATA\\\\test\\\\1986.jpg', './datasets/processed_data\\\\RAW_DATA\\\\train\\\\1661.jpg', './datasets/processed_data\\\\RAW_DATA\\\\train\\\\1822.jpg', './datasets/processed_data\\\\RAW_DATA\\\\train\\\\983.jpg', './datasets/processed_data\\\\RAW_DATA\\\\train\\\\1775.jpg', './datasets/processed_data\\\\RAW_DATA\\\\train\\\\1652.jpg', './datasets/processed_data\\\\RAW_DATA\\\\test\\\\55.jpg', './datasets/processed_data\\\\RAW_DATA\\\\test\\\\1983.jpg', './datasets/processed_data\\\\RAW_DATA\\\\train\\\\611.jpg', './datasets/processed_data\\\\RAW_DATA\\\\train\\\\1922.jpg', './datasets/processed_data\\\\RAW_DATA\\\\train\\\\1939.jpg', './datasets/processed_data\\\\RAW_DATA\\\\test\\\\1486.jpg', './datasets/processed_data\\\\RAW_DATA\\\\train\\\\2086.jpg', './datasets/processed_data\\\\RAW_DATA\\\\train\\\\1611.jpg', './datasets/processed_data\\\\RAW_DATA\\\\train\\\\1977.jpg', './datasets/processed_data\\\\RAW_DATA\\\\train\\\\1875.jpg', './datasets/processed_data\\\\RAW_DATA\\\\train\\\\814.jpg', './datasets/processed_data\\\\RAW_DATA\\\\train\\\\1997.jpg', './datasets/processed_data\\\\RAW_DATA\\\\train\\\\608.jpg', './datasets/processed_data\\\\RAW_DATA\\\\train\\\\1945.jpg', './datasets/processed_data\\\\RAW_DATA\\\\train\\\\2015.jpg', './datasets/processed_data\\\\RAW_DATA\\\\train\\\\1579.jpg', './datasets/processed_data\\\\RAW_DATA\\\\train\\\\1437.jpg', './datasets/processed_data\\\\RAW_DATA\\\\train\\\\1587.jpg', './datasets/processed_data\\\\RAW_DATA\\\\train\\\\708.jpg', './datasets/processed_data\\\\RAW_DATA\\\\train\\\\1129.jpg', './datasets/processed_data\\\\RAW_DATA\\\\train\\\\780.jpg', './datasets/processed_data\\\\RAW_DATA\\\\train\\\\1011.jpg', './datasets/processed_data\\\\RAW_DATA\\\\train\\\\441.jpg', './datasets/processed_data\\\\RAW_DATA\\\\train\\\\1900.jpg', './datasets/processed_data\\\\RAW_DATA\\\\train\\\\1323.jpg', './datasets/processed_data\\\\RAW_DATA\\\\train\\\\997.jpg', './datasets/processed_data\\\\RAW_DATA\\\\test\\\\1478.jpg', './datasets/processed_data\\\\RAW_DATA\\\\train\\\\181.jpg', './datasets/processed_data\\\\RAW_DATA\\\\test\\\\871.jpg', './datasets/processed_data\\\\RAW_DATA\\\\train\\\\119.jpg', './datasets/processed_data\\\\RAW_DATA\\\\train\\\\1970.jpg', './datasets/processed_data\\\\RAW_DATA\\\\train\\\\671.jpg', './datasets/processed_data\\\\RAW_DATA\\\\train\\\\1169.jpg']\n",
      "Number of testing  samples: ['./datasets/processed_data\\\\RAW_DATA\\\\train\\\\1590.jpg', './datasets/processed_data\\\\RAW_DATA\\\\train\\\\888.jpg', './datasets/processed_data\\\\RAW_DATA\\\\train\\\\967.jpg', './datasets/processed_data\\\\RAW_DATA\\\\train\\\\1063.jpg', './datasets/processed_data\\\\RAW_DATA\\\\test\\\\864.jpg', './datasets/processed_data\\\\RAW_DATA\\\\train\\\\992.jpg', './datasets/processed_data\\\\RAW_DATA\\\\train\\\\842.jpg', './datasets/processed_data\\\\RAW_DATA\\\\train\\\\1907.jpg', './datasets/processed_data\\\\RAW_DATA\\\\test\\\\1898.jpg', './datasets/processed_data\\\\RAW_DATA\\\\test\\\\2090.jpg', './datasets/processed_data\\\\RAW_DATA\\\\train\\\\678.jpg', './datasets/processed_data\\\\RAW_DATA\\\\train\\\\1919.jpg', './datasets/processed_data\\\\RAW_DATA\\\\train\\\\903.jpg', './datasets/processed_data\\\\RAW_DATA\\\\test\\\\1622.jpg', './datasets/processed_data\\\\RAW_DATA\\\\train\\\\909.jpg', './datasets/processed_data\\\\RAW_DATA\\\\train\\\\1991.jpg', './datasets/processed_data\\\\RAW_DATA\\\\train\\\\123.jpg', './datasets/processed_data\\\\RAW_DATA\\\\train\\\\1910.jpg', './datasets/processed_data\\\\RAW_DATA\\\\train\\\\366.jpg', './datasets/processed_data\\\\RAW_DATA\\\\test\\\\894.jpg', './datasets/processed_data\\\\RAW_DATA\\\\train\\\\1004.jpg', './datasets/processed_data\\\\RAW_DATA\\\\train\\\\1998.jpg', './datasets/processed_data\\\\RAW_DATA\\\\train\\\\1978.jpg', './datasets/processed_data\\\\RAW_DATA\\\\train\\\\369.jpg', './datasets/processed_data\\\\RAW_DATA\\\\train\\\\2021.jpg', './datasets/processed_data\\\\RAW_DATA\\\\train\\\\1025.jpg', './datasets/processed_data\\\\RAW_DATA\\\\test\\\\1179.jpg', './datasets/processed_data\\\\RAW_DATA\\\\train\\\\1171.jpg', './datasets/processed_data\\\\RAW_DATA\\\\train\\\\2018.jpg', './datasets/processed_data\\\\RAW_DATA\\\\test\\\\952.jpg', './datasets/processed_data\\\\RAW_DATA\\\\train\\\\1745.jpg', './datasets/processed_data\\\\RAW_DATA\\\\test\\\\953.jpg', './datasets/processed_data\\\\RAW_DATA\\\\test\\\\220.jpg', './datasets/processed_data\\\\RAW_DATA\\\\train\\\\1896.jpg', './datasets/processed_data\\\\RAW_DATA\\\\train\\\\94.jpg', './datasets/processed_data\\\\RAW_DATA\\\\train\\\\669.jpg', './datasets/processed_data\\\\RAW_DATA\\\\test\\\\906.jpg', './datasets/processed_data\\\\RAW_DATA\\\\train\\\\1933.jpg', './datasets/processed_data\\\\RAW_DATA\\\\test\\\\1671.jpg', './datasets/processed_data\\\\RAW_DATA\\\\train\\\\980.jpg', './datasets/processed_data\\\\RAW_DATA\\\\train\\\\1993.jpg', './datasets/processed_data\\\\RAW_DATA\\\\train\\\\977.jpg', './datasets/processed_data\\\\RAW_DATA\\\\train\\\\1916.jpg', './datasets/processed_data\\\\RAW_DATA\\\\train\\\\739.jpg', './datasets/processed_data\\\\RAW_DATA\\\\test\\\\1371.jpg', './datasets/processed_data\\\\RAW_DATA\\\\train\\\\1425.jpg', './datasets/processed_data\\\\RAW_DATA\\\\train\\\\1241.jpg', './datasets/processed_data\\\\RAW_DATA\\\\test\\\\1001.jpg', './datasets/processed_data\\\\RAW_DATA\\\\test\\\\1475.jpg', './datasets/processed_data\\\\RAW_DATA\\\\train\\\\89.jpg', './datasets/processed_data\\\\RAW_DATA\\\\train\\\\1976.jpg', './datasets/processed_data\\\\RAW_DATA\\\\train\\\\163.jpg', './datasets/processed_data\\\\RAW_DATA\\\\train\\\\1974.jpg', './datasets/processed_data\\\\RAW_DATA\\\\train\\\\1516.jpg', './datasets/processed_data\\\\RAW_DATA\\\\test\\\\98.jpg', './datasets/processed_data\\\\RAW_DATA\\\\train\\\\690.jpg', './datasets/processed_data\\\\RAW_DATA\\\\train\\\\1500.jpg', './datasets/processed_data\\\\RAW_DATA\\\\test\\\\1501.jpg', './datasets/processed_data\\\\RAW_DATA\\\\train\\\\789.jpg', './datasets/processed_data\\\\RAW_DATA\\\\train\\\\1669.jpg', './datasets/processed_data\\\\RAW_DATA\\\\train\\\\873.jpg', './datasets/processed_data\\\\RAW_DATA\\\\train\\\\795.jpg', './datasets/processed_data\\\\RAW_DATA\\\\train\\\\1925.jpg', './datasets/processed_data\\\\RAW_DATA\\\\test\\\\963.jpg', './datasets/processed_data\\\\RAW_DATA\\\\test\\\\1940.jpg', './datasets/processed_data\\\\RAW_DATA\\\\train\\\\1936.jpg', './datasets/processed_data\\\\RAW_DATA\\\\test\\\\99.jpg', './datasets/processed_data\\\\RAW_DATA\\\\train\\\\788.jpg', './datasets/processed_data\\\\RAW_DATA\\\\train\\\\696.jpg', './datasets/processed_data\\\\RAW_DATA\\\\train\\\\1504.jpg', './datasets/processed_data\\\\RAW_DATA\\\\train\\\\605.jpg', './datasets/processed_data\\\\RAW_DATA\\\\test\\\\1490.jpg', './datasets/processed_data\\\\RAW_DATA\\\\test\\\\1969.jpg', './datasets/processed_data\\\\RAW_DATA\\\\train\\\\1979.jpg', './datasets/processed_data\\\\RAW_DATA\\\\train\\\\740.jpg', './datasets/processed_data\\\\RAW_DATA\\\\train\\\\912.jpg', './datasets/processed_data\\\\RAW_DATA\\\\train\\\\1935.jpg', './datasets/processed_data\\\\RAW_DATA\\\\test\\\\292.jpg', './datasets/processed_data\\\\RAW_DATA\\\\train\\\\1335.jpg', './datasets/processed_data\\\\RAW_DATA\\\\test\\\\1494.jpg', './datasets/processed_data\\\\RAW_DATA\\\\test\\\\1446.jpg', './datasets/processed_data\\\\RAW_DATA\\\\test\\\\781.jpg', './datasets/processed_data\\\\RAW_DATA\\\\train\\\\1650.jpg', './datasets/processed_data\\\\RAW_DATA\\\\test\\\\1646.jpg']\n"
     ]
    },
    {
     "data": {
      "application/vnd.jupyter.widget-view+json": {
       "model_id": "327accf1bb5744a0a4e717e7b34d64b0",
       "version_major": 2,
       "version_minor": 0
      },
      "text/plain": [
       "  0%|          | 0/333 [00:00<?, ?it/s]"
      ]
     },
     "metadata": {},
     "output_type": "display_data"
    },
    {
     "ename": "Error",
     "evalue": "Destination path './datasets/processed_data\\RAW_DATA\\train\\1990.jpg' already exists",
     "output_type": "error",
     "traceback": [
      "\u001b[1;31m---------------------------------------------------------------------------\u001b[0m",
      "\u001b[1;31mError\u001b[0m                                     Traceback (most recent call last)",
      "\u001b[1;32m<ipython-input-11-c836b091b6cb>\u001b[0m in \u001b[0;36m<module>\u001b[1;34m\u001b[0m\n\u001b[0;32m     15\u001b[0m \u001b[1;33m\u001b[0m\u001b[0m\n\u001b[0;32m     16\u001b[0m \u001b[1;32mfor\u001b[0m \u001b[0mtrain_path\u001b[0m \u001b[1;32min\u001b[0m \u001b[0mtqdm\u001b[0m\u001b[1;33m(\u001b[0m\u001b[0mtrain_paths\u001b[0m\u001b[1;33m)\u001b[0m\u001b[1;33m:\u001b[0m\u001b[1;33m\u001b[0m\u001b[1;33m\u001b[0m\u001b[0m\n\u001b[1;32m---> 17\u001b[1;33m     \u001b[0mshutil\u001b[0m\u001b[1;33m.\u001b[0m\u001b[0mmove\u001b[0m\u001b[1;33m(\u001b[0m\u001b[0mtrain_path\u001b[0m\u001b[1;33m,\u001b[0m \u001b[0mtrain_out_folder\u001b[0m\u001b[1;33m)\u001b[0m\u001b[1;33m\u001b[0m\u001b[1;33m\u001b[0m\u001b[0m\n\u001b[0m\u001b[0;32m     18\u001b[0m \u001b[1;33m\u001b[0m\u001b[0m\n\u001b[0;32m     19\u001b[0m \u001b[1;32mfor\u001b[0m \u001b[0mtest_path\u001b[0m \u001b[1;32min\u001b[0m \u001b[0mtqdm\u001b[0m\u001b[1;33m(\u001b[0m\u001b[0mtest_paths\u001b[0m\u001b[1;33m)\u001b[0m\u001b[1;33m:\u001b[0m\u001b[1;33m\u001b[0m\u001b[1;33m\u001b[0m\u001b[0m\n",
      "\u001b[1;32md:\\environments\\python\\python\\lib\\shutil.py\u001b[0m in \u001b[0;36mmove\u001b[1;34m(src, dst, copy_function)\u001b[0m\n\u001b[0;32m    787\u001b[0m         \u001b[0mreal_dst\u001b[0m \u001b[1;33m=\u001b[0m \u001b[0mos\u001b[0m\u001b[1;33m.\u001b[0m\u001b[0mpath\u001b[0m\u001b[1;33m.\u001b[0m\u001b[0mjoin\u001b[0m\u001b[1;33m(\u001b[0m\u001b[0mdst\u001b[0m\u001b[1;33m,\u001b[0m \u001b[0m_basename\u001b[0m\u001b[1;33m(\u001b[0m\u001b[0msrc\u001b[0m\u001b[1;33m)\u001b[0m\u001b[1;33m)\u001b[0m\u001b[1;33m\u001b[0m\u001b[1;33m\u001b[0m\u001b[0m\n\u001b[0;32m    788\u001b[0m         \u001b[1;32mif\u001b[0m \u001b[0mos\u001b[0m\u001b[1;33m.\u001b[0m\u001b[0mpath\u001b[0m\u001b[1;33m.\u001b[0m\u001b[0mexists\u001b[0m\u001b[1;33m(\u001b[0m\u001b[0mreal_dst\u001b[0m\u001b[1;33m)\u001b[0m\u001b[1;33m:\u001b[0m\u001b[1;33m\u001b[0m\u001b[1;33m\u001b[0m\u001b[0m\n\u001b[1;32m--> 789\u001b[1;33m             \u001b[1;32mraise\u001b[0m \u001b[0mError\u001b[0m\u001b[1;33m(\u001b[0m\u001b[1;34m\"Destination path '%s' already exists\"\u001b[0m \u001b[1;33m%\u001b[0m \u001b[0mreal_dst\u001b[0m\u001b[1;33m)\u001b[0m\u001b[1;33m\u001b[0m\u001b[1;33m\u001b[0m\u001b[0m\n\u001b[0m\u001b[0;32m    790\u001b[0m     \u001b[1;32mtry\u001b[0m\u001b[1;33m:\u001b[0m\u001b[1;33m\u001b[0m\u001b[1;33m\u001b[0m\u001b[0m\n\u001b[0;32m    791\u001b[0m         \u001b[0mos\u001b[0m\u001b[1;33m.\u001b[0m\u001b[0mrename\u001b[0m\u001b[1;33m(\u001b[0m\u001b[0msrc\u001b[0m\u001b[1;33m,\u001b[0m \u001b[0mreal_dst\u001b[0m\u001b[1;33m)\u001b[0m\u001b[1;33m\u001b[0m\u001b[1;33m\u001b[0m\u001b[0m\n",
      "\u001b[1;31mError\u001b[0m: Destination path './datasets/processed_data\\RAW_DATA\\train\\1990.jpg' already exists"
     ]
    }
   ],
   "source": [
    "train_out_folder = os.path.join(output_dataset_root, 'train')\n",
    "test_out_folder = os.path.join(output_dataset_root, 'test')\n",
    "\n",
    "Path(train_out_folder).mkdir(parents=True, exist_ok=True)\n",
    "Path(test_out_folder).mkdir(parents=True, exist_ok=True)\n",
    "\n",
    "train_paths, test_paths = train_test_split(find_all_image_paths(output_dataset_root), \n",
    "                                           train_size=TRAIN_TEST_RATIO, \n",
    "                                           random_state=RANDOM_SEED, \n",
    "                                           shuffle=True, \n",
    "                                           stratify=None)\n",
    "\n",
    "print(f'Number of training samples: {train_paths}')\n",
    "print(f'Number of testing  samples: {test_paths}')\n",
    "\n",
    "\n",
    "# do not specify the specific file so that it raise warning whe file already exists\n",
    "# to avoid potential training samples.\n",
    "\n",
    "for train_path in tqdm(train_paths):\n",
    "    shutil.move(train_path, train_out_folder)\n",
    "    \n",
    "for test_path in tqdm(test_paths):\n",
    "    shutil.move(test_path, test_out_folder)"
   ]
  }
 ],
 "metadata": {
  "kernelspec": {
   "display_name": "Python 3",
   "language": "python",
   "name": "python3"
  },
  "language_info": {
   "codemirror_mode": {
    "name": "ipython",
    "version": 3
   },
   "file_extension": ".py",
   "mimetype": "text/x-python",
   "name": "python",
   "nbconvert_exporter": "python",
   "pygments_lexer": "ipython3",
   "version": "3.8.9"
  }
 },
 "nbformat": 4,
 "nbformat_minor": 5
}

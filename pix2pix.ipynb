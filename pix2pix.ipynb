{
  "nbformat": 4,
  "nbformat_minor": 0,
  "metadata": {
    "colab": {
      "name": "pix2pix.ipynb",
      "provenance": [],
      "collapsed_sections": [],
      "authorship_tag": "ABX9TyNF6NheFZ9wqdn8UVNegnB4",
      "include_colab_link": true
    },
    "kernelspec": {
      "name": "python3",
      "display_name": "Python 3"
    },
    "language_info": {
      "name": "python"
    }
  },
  "cells": [
    {
      "cell_type": "markdown",
      "metadata": {
        "id": "view-in-github",
        "colab_type": "text"
      },
      "source": [
        "<a href=\"https://colab.research.google.com/github/Redcxx/ucl-master-project/blob/master/pix2pix.ipynb\" target=\"_parent\"><img src=\"https://colab.research.google.com/assets/colab-badge.svg\" alt=\"Open In Colab\"/></a>"
      ]
    },
    {
      "cell_type": "code",
      "source": [
        "#@title pip installs\n",
        "\n",
        "%pip install pydrive2 > /dev/null\n",
        "%pip install torchinfo > /dev/null"
      ],
      "metadata": {
        "id": "b6AcNCCGK8nn",
        "cellView": "form"
      },
      "execution_count": 30,
      "outputs": []
    },
    {
      "cell_type": "code",
      "source": [
        "#@title imports\n",
        "\n",
        "import sys\n",
        "import os\n",
        "import random\n",
        "import functools\n",
        "from datetime import datetime\n",
        "from pathlib import Path\n",
        "from pprint import pprint\n",
        "\n",
        "import numpy as np\n",
        "import torch\n",
        "from torch import nn\n",
        "from torchinfo import summary"
      ],
      "metadata": {
        "id": "2kQXwgfm5sVP"
      },
      "execution_count": 126,
      "outputs": []
    },
    {
      "cell_type": "code",
      "source": [
        "#@title constants\n",
        "\n",
        "RUN_ID = datetime.now().strftime('%Y-%m-%d-%A-%Hh-%Mm-%Ss')\n",
        "RANDOM_SEED = 42\n",
        "WORKING_FOLDER_NAME = 'MasterProject'  # will be created on google drive\n",
        "PYDRIVE2_SETTING_FILE = 'settings.yaml'\n",
        "\n",
        "\n",
        "print(f'RUN_ID: {RUN_ID}')\n",
        "print(f'RANDOM_SEED: {RANDOM_SEED}')\n",
        "print(f'WORKING_FOLDER_NAME: {WORKING_FOLDER_NAME}')"
      ],
      "metadata": {
        "colab": {
          "base_uri": "https://localhost:8080/"
        },
        "id": "K82GrWHp7ffE",
        "outputId": "bd946099-8cdc-4829-832d-32cb072ad10f",
        "cellView": "form"
      },
      "execution_count": 32,
      "outputs": [
        {
          "output_type": "stream",
          "name": "stdout",
          "text": [
            "RUN_ID: 2022-05-25-Wednesday-13h-38m-05s\n",
            "RANDOM_SEED: 42\n",
            "WORKING_FOLDER_NAME: MasterProject\n"
          ]
        }
      ]
    },
    {
      "cell_type": "code",
      "source": [
        "#@title colab & jupyter notebook settings for saving file\n",
        "\n",
        "IN_COLAB = 'google.colab' in sys.modules\n",
        "\n",
        "if IN_COLAB:\n",
        "    from google.colab import files, drive\n",
        "\n",
        "    drive_dir = '/content/drive'\n",
        "    drive.mount(drive_dir)\n",
        "\n",
        "    working_dir = os.path.join(drive_dir, 'My Drive', WORKING_FOLDER_NAME)\n",
        "    Path(working_dir).mkdir(parents=True, exist_ok=True)  # create directory if not exists on google drive\n",
        "\n",
        "    def save_file(file_name):\n",
        "        files.download(file_name)  # save locally\n",
        "\n",
        "        # save on google drive\n",
        "        with open(file_name, 'rb') as src_file:\n",
        "            with open(os.path.join(working_dir, file_name), 'wb') as dest_file:\n",
        "                dest_file.write(src_file.read())\n",
        "\n",
        "else:\n",
        "    from pydrive2.auth import GoogleAuth\n",
        "    from pydrive2.drive import GoogleDrive\n",
        "\n",
        "    def ensure_folder_on_drive(drive, folder_name):\n",
        "        folders = drive.ListFile({\n",
        "            # see https://developers.google.com/drive/api/guides/search-files\n",
        "            'q': \"mimeType = 'application/vnd.google-apps.folder'\"\n",
        "        }).GetList()\n",
        "\n",
        "        folders = filter(lambda folder: folder['title'] == folder_name, folders)\n",
        "\n",
        "        if len(folders) == 1:\n",
        "            return folders[0]\n",
        "        \n",
        "        if len(folders) > 1:\n",
        "            pprint(folders)\n",
        "            raise AssertionError('Multiple Folders of the same name detected')\n",
        "\n",
        "        # folder not found, create a new one at root\n",
        "        print(f'Folder: {folder_name} not found, creating at root')\n",
        "\n",
        "        folder = drive.CreateFile({\n",
        "            'title': folder_name, \n",
        "            # \"parents\": [{\n",
        "            #     \"kind\": \"drive#fileLink\", \n",
        "            #     \"id\": parent_folder_id\n",
        "            # }],\n",
        "            \"mimeType\": \"application/vnd.google-apps.folder\"\n",
        "        })\n",
        "        folder.Upload()\n",
        "        return folder\n",
        "\n",
        "\n",
        "    g_auth = GoogleAuth(settings_file=PYDRIVE2_SETTING_FILE, http_timeout=None)\n",
        "    g_auth.LocalWebserverAuth(host_name=\"localhost\", port_numbers=None, launch_browser=True)\n",
        "    drive = GoogleDrive(g_auth)\n",
        "\n",
        "    folder = ensure_folder_on_drive(drive, WORKING_FOLDER_NAME)    \n",
        "\n",
        "    def save_file(file_name):\n",
        "        file = drive.CreateFile({\n",
        "            'title': file_name,\n",
        "            'parents': [{\n",
        "                'id': folder['id']\n",
        "            }]\n",
        "        })\n",
        "        file.SetContentFile(file_name)\n",
        "        file.Upload()  # save to google drive\n",
        "        file.GetContentFile(file_name)  # save locally    "
      ],
      "metadata": {
        "colab": {
          "base_uri": "https://localhost:8080/"
        },
        "id": "p0olvm5GkW_M",
        "outputId": "9a6b44eb-3261-4b9d-fd2f-aee16c588051",
        "cellView": "form"
      },
      "execution_count": 33,
      "outputs": [
        {
          "output_type": "stream",
          "name": "stdout",
          "text": [
            "Drive already mounted at /content/drive; to attempt to forcibly remount, call drive.mount(\"/content/drive\", force_remount=True).\n"
          ]
        }
      ]
    },
    {
      "cell_type": "code",
      "source": [
        "#@title misc\n",
        "\n",
        "# reproducibility\n",
        "random.seed(RANDOM_SEED)\n",
        "np.random.seed(RANDOM_SEED)\n",
        "torch.manual_seed(RANDOM_SEED)\n",
        "if torch.cuda.is_available():\n",
        "    torch.cuda.manual_seed(RANDOM_SEED)\n",
        "\n",
        "# training device\n",
        "device = torch.device('cuda' if torch.cuda.is_available() else 'cpu')\n",
        "print('Using device:', device)"
      ],
      "metadata": {
        "id": "BjJfPXh5Cdaw",
        "colab": {
          "base_uri": "https://localhost:8080/"
        },
        "cellView": "form",
        "outputId": "be813bf9-af9f-4cee-c185-b8c31db1c8c6"
      },
      "execution_count": 34,
      "outputs": [
        {
          "output_type": "stream",
          "name": "stdout",
          "text": [
            "Using device: cpu\n"
          ]
        }
      ]
    },
    {
      "cell_type": "code",
      "execution_count": 35,
      "metadata": {
        "colab": {
          "base_uri": "https://localhost:8080/"
        },
        "id": "lzCYs9x75RvS",
        "outputId": "48a80295-59e4-46ae-8074-60c11cfd85e8"
      },
      "outputs": [
        {
          "output_type": "stream",
          "name": "stdout",
          "text": [
            "NVIDIA-SMI has failed because it couldn't communicate with the NVIDIA driver. Make sure that the latest NVIDIA driver is installed and running.\n",
            "\n"
          ]
        }
      ],
      "source": [
        "!nvidia-smi"
      ]
    },
    {
      "cell_type": "code",
      "source": [
        "#@title Unet Block\n",
        "class UnetBlock(nn.Module):\n",
        "    def __init__(\n",
        "        self, \n",
        "        in_filters, out_filters,\n",
        "        submodule=None, sub_in_filters=None, sub_out_filters=None, sub_skip_connection=False, \n",
        "        skip_connection=True, \n",
        "        dropout=nn.Dropout, \n",
        "        in_norm=nn.BatchNorm2d, out_norm=nn.BatchNorm2d, \n",
        "        in_act=nn.LeakyReLU, out_act=nn.ReLU\n",
        "    ):\n",
        "        super().__init__()\n",
        "\n",
        "        if submodule is None:\n",
        "            sub_in_filters = in_filters\n",
        "            sub_out_filters = in_filters\n",
        "            sub_skip_connection = False\n",
        "        \n",
        "\n",
        "        layers = []\n",
        "\n",
        "        # encoder\n",
        "        layers.append(nn.Conv2d(in_channels=in_filters, out_channels=sub_in_filters, kernel_size=4, stride=2, padding=1))\n",
        "\n",
        "        if in_norm:\n",
        "            layers.append(in_norm(sub_in_filters))\n",
        "\n",
        "        if in_act:\n",
        "            layers.append(in_act())\n",
        "\n",
        "        \n",
        "        # submodule\n",
        "        if submodule:\n",
        "            layers.append(submodule)\n",
        "\n",
        "\n",
        "        # decoder\n",
        "        if sub_skip_connection:\n",
        "            layers.append(nn.ConvTranspose2d(in_channels=sub_out_filters * 2, out_channels=out_filters, kernel_size=4, stride=2, padding=1))\n",
        "        else:\n",
        "            layers.append(nn.ConvTranspose2d(in_channels=sub_out_filters    , out_channels=out_filters, kernel_size=4, stride=2, padding=1))\n",
        "\n",
        "        if out_norm:\n",
        "            layers.append(out_norm(out_filters))\n",
        "        \n",
        "        if dropout:\n",
        "            layers.append(dropout())\n",
        "        \n",
        "        if out_act:\n",
        "            layers.append(out_act())\n",
        "        \n",
        "        self.model = nn.Sequential(*layers)\n",
        "\n",
        "        self.skip_connection = skip_connection\n",
        "    \n",
        "    def forward(self, x):\n",
        "        if self.skip_connection:\n",
        "            return torch.cat([x, self.model(x)], dim=1)\n",
        "        else:\n",
        "            return self.model(x)"
      ],
      "metadata": {
        "cellView": "form",
        "id": "YCKkXJ751VOF"
      },
      "execution_count": 129,
      "outputs": []
    },
    {
      "cell_type": "code",
      "source": [
        "summary(\n",
        "    UnetBlock(in_filters=64, out_filters=64, submodule=None), \n",
        "    input_size=(16, 64, 16, 16),\n",
        "    col_names=['output_size', 'num_params', 'mult_adds']\n",
        ")"
      ],
      "metadata": {
        "colab": {
          "base_uri": "https://localhost:8080/"
        },
        "id": "Mg7-I2tUCO05",
        "outputId": "c0f870aa-e034-4820-8aa9-a617c15a4573"
      },
      "execution_count": 130,
      "outputs": [
        {
          "output_type": "execute_result",
          "data": {
            "text/plain": [
              "===================================================================================================================\n",
              "Layer (type:depth-idx)                   Output Shape              Param #                   Mult-Adds\n",
              "===================================================================================================================\n",
              "UnetBlock                                --                        --                        --\n",
              "├─Sequential: 1-1                        [16, 64, 16, 16]          --                        --\n",
              "│    └─Conv2d: 2-1                       [16, 64, 8, 8]            65,600                    67,174,400\n",
              "│    └─BatchNorm2d: 2-2                  [16, 64, 8, 8]            128                       2,048\n",
              "│    └─LeakyReLU: 2-3                    [16, 64, 8, 8]            --                        --\n",
              "│    └─ConvTranspose2d: 2-4              [16, 64, 16, 16]          65,600                    268,697,600\n",
              "│    └─BatchNorm2d: 2-5                  [16, 64, 16, 16]          128                       2,048\n",
              "│    └─Dropout: 2-6                      [16, 64, 16, 16]          --                        --\n",
              "│    └─ReLU: 2-7                         [16, 64, 16, 16]          --                        --\n",
              "===================================================================================================================\n",
              "Total params: 131,456\n",
              "Trainable params: 131,456\n",
              "Non-trainable params: 0\n",
              "Total mult-adds (M): 335.88\n",
              "===================================================================================================================\n",
              "Input size (MB): 1.05\n",
              "Forward/backward pass size (MB): 5.24\n",
              "Params size (MB): 0.53\n",
              "Estimated Total Size (MB): 6.82\n",
              "==================================================================================================================="
            ]
          },
          "metadata": {},
          "execution_count": 130
        }
      ]
    },
    {
      "cell_type": "code",
      "source": [
        "#@title Generator\n",
        "\n",
        "class Generator(nn.Module):\n",
        "\n",
        "    def __init__(self, config):\n",
        "        super().__init__()\n",
        "\n",
        "        # dependency injection\n",
        "        batch_norm = functools.partial(nn.BatchNorm2d, affine=True, track_running_stats=True)\n",
        "        relu = functools.partial(nn.ReLU, inplace=True)\n",
        "        leaky_relu = functools.partial(nn.LeakyReLU, inplace=True, negative_slope=0.2)\n",
        "        dropout = functools.partial(nn.Dropout, p=0.5)\n",
        "        tahn = nn.Tanh\n",
        "        \n",
        "        # build model recursively inside-out\n",
        "        blocks = config['blocks'][::-1]  \n",
        "\n",
        "        self.model = None\n",
        "        for i, layer in enumerate(blocks):\n",
        "            self.model = UnetBlock(\n",
        "                in_filters=layer['filters'], \n",
        "                out_filters=layer['filters'],\n",
        "\n",
        "                # the inner module\n",
        "                submodule=self.model, \n",
        "                sub_in_filters=blocks[i-1]['filters'] if i > 0 else None, \n",
        "                sub_out_filters=blocks[i-1]['filters'] if i > 0 else None,\n",
        "                sub_skip_connection=blocks[i-1]['skip_connection'],\n",
        "\n",
        "                skip_connection=blocks[i-1]['skip_connection'],\n",
        "                dropout=dropout if layer['dropout'] else None,\n",
        "                in_norm=batch_norm if i!=0 else None,\n",
        "                out_norm=batch_norm,\n",
        "                in_act=leaky_relu if i!=0 else relu,\n",
        "                out_act=relu\n",
        "            )\n",
        "        \n",
        "        # build outermost block\n",
        "        self.model = UnetBlock(\n",
        "            in_filters=config['in_channels'],\n",
        "            out_filters=config['out_channels'],\n",
        "\n",
        "            submodule=self.model, \n",
        "            sub_in_filters=blocks[-1]['filters'] if len(blocks) > 0 else None, \n",
        "            sub_out_filters=blocks[-1]['filters'] if len(blocks) > 0 else None,\n",
        "            sub_skip_connection=blocks[-1]['skip_connection'],\n",
        "\n",
        "            skip_connection=False, \n",
        "            dropout=None,\n",
        "            in_norm=None, out_norm=None,\n",
        "            in_act=leaky_relu, out_act=tahn\n",
        "        )\n",
        "\n",
        "    def forward(self, x):\n",
        "        return self.model(x)"
      ],
      "metadata": {
        "cellView": "form",
        "id": "7xqfiSdVxoaR"
      },
      "execution_count": 135,
      "outputs": []
    },
    {
      "cell_type": "code",
      "source": [
        "unet_config = {\n",
        "    'in_channels': 3,\n",
        "    'out_channels': 3,\n",
        "    'blocks': [{\n",
        "        'filters': 64,\n",
        "        'dropout': False,\n",
        "        'skip_connection': True\n",
        "    }, {\n",
        "        'filters': 128,\n",
        "        'dropout': False,\n",
        "        'skip_connection': True\n",
        "    }, {\n",
        "        'filters': 256,\n",
        "        'dropout': False,\n",
        "        'skip_connection': True\n",
        "    }, {\n",
        "        'filters': 512,\n",
        "        'dropout': False,\n",
        "        'skip_connection': True\n",
        "    }, {\n",
        "        'filters': 512,\n",
        "        'dropout': True,\n",
        "        'skip_connection': True\n",
        "    }, {\n",
        "        'filters': 512,\n",
        "        'dropout': True,\n",
        "        'skip_connection': True\n",
        "    }, {\n",
        "        'filters': 512,\n",
        "        'dropout': True,\n",
        "        'skip_connection': False\n",
        "    }]\n",
        "}\n",
        "\n",
        "summary(\n",
        "    Generator(unet_config),\n",
        "    input_size=(16, 3, 256, 256),\n",
        "    col_names=['output_size', 'num_params', 'mult_adds'],\n",
        "    depth=24\n",
        ")"
      ],
      "metadata": {
        "colab": {
          "base_uri": "https://localhost:8080/"
        },
        "id": "4CqJ7TvhgF68",
        "outputId": "4611919c-979e-47aa-c41c-2792f5305b93"
      },
      "execution_count": 136,
      "outputs": [
        {
          "output_type": "execute_result",
          "data": {
            "text/plain": [
              "=========================================================================================================================================================================================\n",
              "Layer (type:depth-idx)                                                                                         Output Shape              Param #                   Mult-Adds\n",
              "=========================================================================================================================================================================================\n",
              "Generator                                                                                                      --                        --                        --\n",
              "├─UnetBlock: 1-1                                                                                               [16, 3, 256, 256]         --                        --\n",
              "│    └─Sequential: 2-1                                                                                         [16, 3, 256, 256]         --                        --\n",
              "│    │    └─Conv2d: 3-1                                                                                        [16, 64, 128, 128]        3,136                     822,083,584\n",
              "│    │    └─LeakyReLU: 3-2                                                                                     [16, 64, 128, 128]        --                        --\n",
              "│    │    └─UnetBlock: 3-3                                                                                     [16, 128, 128, 128]       --                        --\n",
              "│    │    │    └─Sequential: 4-1                                                                               [16, 64, 128, 128]        --                        --\n",
              "│    │    │    │    └─Conv2d: 5-1                                                                              [16, 128, 64, 64]         131,200                   8,598,323,200\n",
              "│    │    │    │    └─BatchNorm2d: 5-2                                                                         [16, 128, 64, 64]         256                       4,096\n",
              "│    │    │    │    └─LeakyReLU: 5-3                                                                           [16, 128, 64, 64]         --                        --\n",
              "│    │    │    │    └─UnetBlock: 5-4                                                                           [16, 256, 64, 64]         --                        --\n",
              "│    │    │    │    │    └─Sequential: 6-1                                                                     [16, 128, 64, 64]         --                        --\n",
              "│    │    │    │    │    │    └─Conv2d: 7-1                                                                    [16, 256, 32, 32]         524,544                   8,594,128,896\n",
              "│    │    │    │    │    │    └─BatchNorm2d: 7-2                                                               [16, 256, 32, 32]         512                       8,192\n",
              "│    │    │    │    │    │    └─LeakyReLU: 7-3                                                                 [16, 256, 32, 32]         --                        --\n",
              "│    │    │    │    │    │    └─UnetBlock: 7-4                                                                 [16, 512, 32, 32]         --                        --\n",
              "│    │    │    │    │    │    │    └─Sequential: 8-1                                                           [16, 256, 32, 32]         --                        --\n",
              "│    │    │    │    │    │    │    │    └─Conv2d: 9-1                                                          [16, 512, 16, 16]         2,097,664                 8,592,031,744\n",
              "│    │    │    │    │    │    │    │    └─BatchNorm2d: 9-2                                                     [16, 512, 16, 16]         1,024                     16,384\n",
              "│    │    │    │    │    │    │    │    └─LeakyReLU: 9-3                                                       [16, 512, 16, 16]         --                        --\n",
              "│    │    │    │    │    │    │    │    └─UnetBlock: 9-4                                                       [16, 1024, 16, 16]        --                        --\n",
              "│    │    │    │    │    │    │    │    │    └─Sequential: 10-1                                                [16, 512, 16, 16]         --                        --\n",
              "│    │    │    │    │    │    │    │    │    │    └─Conv2d: 11-1                                               [16, 512, 8, 8]           4,194,816                 4,295,491,584\n",
              "│    │    │    │    │    │    │    │    │    │    └─BatchNorm2d: 11-2                                          [16, 512, 8, 8]           1,024                     16,384\n",
              "│    │    │    │    │    │    │    │    │    │    └─LeakyReLU: 11-3                                            [16, 512, 8, 8]           --                        --\n",
              "│    │    │    │    │    │    │    │    │    │    └─UnetBlock: 11-4                                            [16, 1024, 8, 8]          --                        --\n",
              "│    │    │    │    │    │    │    │    │    │    │    └─Sequential: 12-1                                      [16, 512, 8, 8]           --                        --\n",
              "│    │    │    │    │    │    │    │    │    │    │    │    └─Conv2d: 13-1                                     [16, 512, 4, 4]           4,194,816                 1,073,872,896\n",
              "│    │    │    │    │    │    │    │    │    │    │    │    └─BatchNorm2d: 13-2                                [16, 512, 4, 4]           1,024                     16,384\n",
              "│    │    │    │    │    │    │    │    │    │    │    │    └─LeakyReLU: 13-3                                  [16, 512, 4, 4]           --                        --\n",
              "│    │    │    │    │    │    │    │    │    │    │    │    └─UnetBlock: 13-4                                  [16, 1024, 4, 4]          --                        --\n",
              "│    │    │    │    │    │    │    │    │    │    │    │    │    └─Sequential: 14-1                            [16, 512, 4, 4]           --                        --\n",
              "│    │    │    │    │    │    │    │    │    │    │    │    │    │    └─Conv2d: 15-1                           [16, 512, 2, 2]           4,194,816                 268,468,224\n",
              "│    │    │    │    │    │    │    │    │    │    │    │    │    │    └─BatchNorm2d: 15-2                      [16, 512, 2, 2]           1,024                     16,384\n",
              "│    │    │    │    │    │    │    │    │    │    │    │    │    │    └─LeakyReLU: 15-3                        [16, 512, 2, 2]           --                        --\n",
              "│    │    │    │    │    │    │    │    │    │    │    │    │    │    └─UnetBlock: 15-4                        [16, 1024, 2, 2]          --                        --\n",
              "│    │    │    │    │    │    │    │    │    │    │    │    │    │    │    └─Sequential: 16-1                  [16, 512, 2, 2]           --                        --\n",
              "│    │    │    │    │    │    │    │    │    │    │    │    │    │    │    │    └─Conv2d: 17-1                 [16, 512, 1, 1]           4,194,816                 67,117,056\n",
              "│    │    │    │    │    │    │    │    │    │    │    │    │    │    │    │    └─ReLU: 17-2                   [16, 512, 1, 1]           --                        --\n",
              "│    │    │    │    │    │    │    │    │    │    │    │    │    │    │    │    └─ConvTranspose2d: 17-3        [16, 512, 2, 2]           4,194,816                 268,468,224\n",
              "│    │    │    │    │    │    │    │    │    │    │    │    │    │    │    │    └─BatchNorm2d: 17-4            [16, 512, 2, 2]           1,024                     16,384\n",
              "│    │    │    │    │    │    │    │    │    │    │    │    │    │    │    │    └─Dropout: 17-5                [16, 512, 2, 2]           --                        --\n",
              "│    │    │    │    │    │    │    │    │    │    │    │    │    │    │    │    └─ReLU: 17-6                   [16, 512, 2, 2]           --                        --\n",
              "│    │    │    │    │    │    │    │    │    │    │    │    │    │    └─ConvTranspose2d: 15-5                  [16, 512, 4, 4]           8,389,120                 2,147,614,720\n",
              "│    │    │    │    │    │    │    │    │    │    │    │    │    │    └─BatchNorm2d: 15-6                      [16, 512, 4, 4]           1,024                     16,384\n",
              "│    │    │    │    │    │    │    │    │    │    │    │    │    │    └─Dropout: 15-7                          [16, 512, 4, 4]           --                        --\n",
              "│    │    │    │    │    │    │    │    │    │    │    │    │    │    └─ReLU: 15-8                             [16, 512, 4, 4]           --                        --\n",
              "│    │    │    │    │    │    │    │    │    │    │    │    └─ConvTranspose2d: 13-5                            [16, 512, 8, 8]           8,389,120                 8,590,458,880\n",
              "│    │    │    │    │    │    │    │    │    │    │    │    └─BatchNorm2d: 13-6                                [16, 512, 8, 8]           1,024                     16,384\n",
              "│    │    │    │    │    │    │    │    │    │    │    │    └─Dropout: 13-7                                    [16, 512, 8, 8]           --                        --\n",
              "│    │    │    │    │    │    │    │    │    │    │    │    └─ReLU: 13-8                                       [16, 512, 8, 8]           --                        --\n",
              "│    │    │    │    │    │    │    │    │    │    └─ConvTranspose2d: 11-5                                      [16, 512, 16, 16]         8,389,120                 34,361,835,520\n",
              "│    │    │    │    │    │    │    │    │    │    └─BatchNorm2d: 11-6                                          [16, 512, 16, 16]         1,024                     16,384\n",
              "│    │    │    │    │    │    │    │    │    │    └─ReLU: 11-7                                                 [16, 512, 16, 16]         --                        --\n",
              "│    │    │    │    │    │    │    │    └─ConvTranspose2d: 9-5                                                 [16, 256, 32, 32]         4,194,560                 68,723,671,040\n",
              "│    │    │    │    │    │    │    │    └─BatchNorm2d: 9-6                                                     [16, 256, 32, 32]         512                       8,192\n",
              "│    │    │    │    │    │    │    │    └─ReLU: 9-7                                                            [16, 256, 32, 32]         --                        --\n",
              "│    │    │    │    │    │    └─ConvTranspose2d: 7-5                                                           [16, 128, 64, 64]         1,048,704                 68,727,865,344\n",
              "│    │    │    │    │    │    └─BatchNorm2d: 7-6                                                               [16, 128, 64, 64]         256                       4,096\n",
              "│    │    │    │    │    │    └─ReLU: 7-7                                                                      [16, 128, 64, 64]         --                        --\n",
              "│    │    │    │    └─ConvTranspose2d: 5-5                                                                     [16, 64, 128, 128]        262,208                   68,736,253,952\n",
              "│    │    │    │    └─BatchNorm2d: 5-6                                                                         [16, 64, 128, 128]        128                       2,048\n",
              "│    │    │    │    └─ReLU: 5-7                                                                                [16, 64, 128, 128]        --                        --\n",
              "│    │    └─ConvTranspose2d: 3-4                                                                               [16, 3, 256, 256]         6,147                     6,445,596,672\n",
              "│    │    └─Tanh: 3-5                                                                                          [16, 3, 256, 256]         --                        --\n",
              "=========================================================================================================================================================================================\n",
              "Total params: 54,419,459\n",
              "Trainable params: 54,419,459\n",
              "Non-trainable params: 0\n",
              "Total mult-adds (G): 290.31\n",
              "=========================================================================================================================================================================================\n",
              "Input size (MB): 12.58\n",
              "Forward/backward pass size (MB): 919.67\n",
              "Params size (MB): 217.68\n",
              "Estimated Total Size (MB): 1149.93\n",
              "========================================================================================================================================================================================="
            ]
          },
          "metadata": {},
          "execution_count": 136
        }
      ]
    },
    {
      "cell_type": "code",
      "source": [
        "class Discriminator(nn.Module):\n",
        "    def __init__(self, in_channels, n_filters, n_layers=3, norm='batch', init_type='normal', init_gain=0.0):\n",
        "        super().__init__()\n",
        "\n",
        "        \n",
        "\n",
        "\n"
      ],
      "metadata": {
        "id": "bTMsSqaA5lSj"
      },
      "execution_count": null,
      "outputs": []
    }
  ]
}
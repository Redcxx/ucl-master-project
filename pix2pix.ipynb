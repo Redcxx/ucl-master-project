{
  "nbformat": 4,
  "nbformat_minor": 0,
  "metadata": {
    "colab": {
      "name": "pix2pix.ipynb",
      "provenance": [],
      "collapsed_sections": [
        "fVMSbpvQAOgH"
      ],
      "machine_shape": "hm",
      "authorship_tag": "ABX9TyNsUHNyAR8kxYUmdN+b6ey0",
      "include_colab_link": true
    },
    "kernelspec": {
      "name": "python3",
      "display_name": "Python 3"
    },
    "language_info": {
      "name": "python"
    }
  },
  "cells": [
    {
      "cell_type": "markdown",
      "metadata": {
        "id": "view-in-github",
        "colab_type": "text"
      },
      "source": [
        "<a href=\"https://colab.research.google.com/github/Redcxx/ucl-master-project/blob/master/pix2pix.ipynb\" target=\"_parent\"><img src=\"https://colab.research.google.com/assets/colab-badge.svg\" alt=\"Open In Colab\"/></a>"
      ]
    },
    {
      "cell_type": "markdown",
      "source": [
        "# Settings"
      ],
      "metadata": {
        "id": "247rtPpgAHwQ"
      }
    },
    {
      "cell_type": "code",
      "source": [
        "#@title pip installs\n",
        "\n",
        "%pip install pydrive2 > /dev/null\n",
        "%pip install torchinfo > /dev/null"
      ],
      "metadata": {
        "id": "b6AcNCCGK8nn"
      },
      "execution_count": 2,
      "outputs": []
    },
    {
      "cell_type": "code",
      "source": [
        "#@title imports\n",
        "\n",
        "import sys\n",
        "import os\n",
        "import random\n",
        "import functools\n",
        "from datetime import datetime\n",
        "from pathlib import Path\n",
        "from pprint import pprint\n",
        "\n",
        "import numpy as np\n",
        "import torch\n",
        "from torch import nn\n",
        "from torch.utils.data import Dataset, DataLoader\n",
        "from torchvision import transforms\n",
        "from torchvision.transforms.functional import InterpolationMode\n",
        "from torchinfo import summary\n",
        "from PIL import Image\n"
      ],
      "metadata": {
        "id": "2kQXwgfm5sVP"
      },
      "execution_count": 3,
      "outputs": []
    },
    {
      "cell_type": "code",
      "source": [
        "#@title constants\n",
        "\n",
        "RUN_ID = datetime.now().strftime('%Y-%m-%d-%A-%Hh-%Mm-%Ss')\n",
        "RANDOM_SEED = 42\n",
        "WORKING_FOLDER_NAME = 'MasterProject'  # will be created on google drive\n",
        "PYDRIVE2_SETTING_FILE = 'settings.yaml'\n",
        "\n",
        "\n",
        "print(f'RUN_ID: {RUN_ID}')\n",
        "print(f'RANDOM_SEED: {RANDOM_SEED}')\n",
        "print(f'WORKING_FOLDER_NAME: {WORKING_FOLDER_NAME}')"
      ],
      "metadata": {
        "colab": {
          "base_uri": "https://localhost:8080/"
        },
        "id": "K82GrWHp7ffE",
        "outputId": "8d96bf85-f7a0-4ff0-9438-0411c9080a03",
        "cellView": "form"
      },
      "execution_count": 3,
      "outputs": [
        {
          "output_type": "stream",
          "name": "stdout",
          "text": [
            "RUN_ID: 2022-05-27-Friday-06h-30m-52s\n",
            "RANDOM_SEED: 42\n",
            "WORKING_FOLDER_NAME: MasterProject\n"
          ]
        }
      ]
    },
    {
      "cell_type": "code",
      "source": [
        "#@title colab & jupyter notebook settings for saving file\n",
        "\n",
        "IN_COLAB = 'google.colab' in sys.modules\n",
        "\n",
        "if IN_COLAB:\n",
        "    from google.colab import files, drive\n",
        "\n",
        "    drive_dir = '/content/drive'\n",
        "    drive.mount(drive_dir)\n",
        "\n",
        "    working_dir = os.path.join(drive_dir, 'My Drive', WORKING_FOLDER_NAME)\n",
        "    Path(working_dir).mkdir(parents=True, exist_ok=True)  # create directory if not exists on google drive\n",
        "\n",
        "    def save_file(file_name):\n",
        "        files.download(file_name)  # save locally\n",
        "\n",
        "        # save on google drive\n",
        "        with open(file_name, 'rb') as src_file:\n",
        "            with open(os.path.join(working_dir, file_name), 'wb') as dest_file:\n",
        "                dest_file.write(src_file.read())\n",
        "\n",
        "else:\n",
        "    from pydrive2.auth import GoogleAuth\n",
        "    from pydrive2.drive import GoogleDrive\n",
        "\n",
        "    def ensure_folder_on_drive(drive, folder_name):\n",
        "        folders = drive.ListFile({\n",
        "            # see https://developers.google.com/drive/api/guides/search-files\n",
        "            'q': \"mimeType = 'application/vnd.google-apps.folder'\"\n",
        "        }).GetList()\n",
        "\n",
        "        folders = filter(lambda folder: folder['title'] == folder_name, folders)\n",
        "\n",
        "        if len(folders) == 1:\n",
        "            return folders[0]\n",
        "        \n",
        "        if len(folders) > 1:\n",
        "            pprint(folders)\n",
        "            raise AssertionError('Multiple Folders of the same name detected')\n",
        "\n",
        "        # folder not found, create a new one at root\n",
        "        print(f'Folder: {folder_name} not found, creating at root')\n",
        "\n",
        "        folder = drive.CreateFile({\n",
        "            'title': folder_name, \n",
        "            # \"parents\": [{\n",
        "            #     \"kind\": \"drive#fileLink\", \n",
        "            #     \"id\": parent_folder_id\n",
        "            # }],\n",
        "            \"mimeType\": \"application/vnd.google-apps.folder\"\n",
        "        })\n",
        "        folder.Upload()\n",
        "        return folder\n",
        "\n",
        "\n",
        "    g_auth = GoogleAuth(settings_file=PYDRIVE2_SETTING_FILE, http_timeout=None)\n",
        "    g_auth.LocalWebserverAuth(host_name=\"localhost\", port_numbers=None, launch_browser=True)\n",
        "    drive = GoogleDrive(g_auth)\n",
        "\n",
        "    folder = ensure_folder_on_drive(drive, WORKING_FOLDER_NAME)    \n",
        "\n",
        "    def save_file(file_name):\n",
        "        file = drive.CreateFile({\n",
        "            'title': file_name,\n",
        "            'parents': [{\n",
        "                'id': folder['id']\n",
        "            }]\n",
        "        })\n",
        "        file.SetContentFile(file_name)\n",
        "        file.Upload()  # save to google drive\n",
        "        file.GetContentFile(file_name)  # save locally    "
      ],
      "metadata": {
        "colab": {
          "base_uri": "https://localhost:8080/"
        },
        "id": "p0olvm5GkW_M",
        "outputId": "a2b791b7-b0cb-42fd-c250-1e74521fb203",
        "cellView": "form"
      },
      "execution_count": 4,
      "outputs": [
        {
          "output_type": "stream",
          "name": "stdout",
          "text": [
            "Mounted at /content/drive\n"
          ]
        }
      ]
    },
    {
      "cell_type": "code",
      "source": [
        "#@title misc\n",
        "\n",
        "# reproducibility\n",
        "random.seed(RANDOM_SEED)\n",
        "np.random.seed(RANDOM_SEED)\n",
        "torch.manual_seed(RANDOM_SEED)\n",
        "if torch.cuda.is_available():\n",
        "    torch.cuda.manual_seed(RANDOM_SEED)\n",
        "\n",
        "# training device\n",
        "device = torch.device('cuda' if torch.cuda.is_available() else 'cpu')\n",
        "print('Using device:', device)"
      ],
      "metadata": {
        "id": "BjJfPXh5Cdaw",
        "colab": {
          "base_uri": "https://localhost:8080/"
        },
        "cellView": "form",
        "outputId": "1871b49f-bf6b-421e-a0bb-a4d239c841ef"
      },
      "execution_count": 5,
      "outputs": [
        {
          "output_type": "stream",
          "name": "stdout",
          "text": [
            "Using device: cpu\n"
          ]
        }
      ]
    },
    {
      "cell_type": "code",
      "execution_count": 6,
      "metadata": {
        "colab": {
          "base_uri": "https://localhost:8080/"
        },
        "id": "lzCYs9x75RvS",
        "outputId": "25699a68-7b07-4037-e864-4144dda42c6c"
      },
      "outputs": [
        {
          "output_type": "stream",
          "name": "stdout",
          "text": [
            "NVIDIA-SMI has failed because it couldn't communicate with the NVIDIA driver. Make sure that the latest NVIDIA driver is installed and running.\n",
            "\n"
          ]
        }
      ],
      "source": [
        "!nvidia-smi"
      ]
    },
    {
      "cell_type": "markdown",
      "source": [
        "# Models"
      ],
      "metadata": {
        "id": "fVMSbpvQAOgH"
      }
    },
    {
      "cell_type": "code",
      "source": [
        "#@title Unet Block\n",
        "\n",
        "class UnetBlock(nn.Module):\n",
        "    def __init__(\n",
        "        self, \n",
        "        in_filters, out_filters,\n",
        "\n",
        "        submodule=None, \n",
        "        sub_in_filters=None, \n",
        "        sub_out_filters=None, \n",
        "        sub_skip_connection=False, \n",
        "\n",
        "        skip_connection=True, \n",
        "        dropout=nn.Dropout, \n",
        "        in_norm=nn.BatchNorm2d, out_norm=nn.BatchNorm2d, \n",
        "        in_act=nn.LeakyReLU, out_act=nn.ReLU,\n",
        "    ):\n",
        "        super().__init__()\n",
        "\n",
        "        if submodule is None:\n",
        "            sub_in_filters = in_filters\n",
        "            sub_out_filters = in_filters\n",
        "            sub_skip_connection = False\n",
        "        \n",
        "        conv_common_args = {\n",
        "            'kernel_size': 4, \n",
        "            'stride': 2, \n",
        "            'padding': 1,\n",
        "            'bias': in_norm.func != nn.BatchNorm2d if type(in_norm) == functools.partial else in_norm != nn.BatchNorm2d  # batch norm has bias\n",
        "        }\n",
        "\n",
        "        layers = []\n",
        "\n",
        "        # encoder\n",
        "        layers.append(nn.Conv2d(in_channels=in_filters, out_channels=sub_in_filters, **conv_common_args))\n",
        "\n",
        "        if in_norm:\n",
        "            layers.append(in_norm(sub_in_filters))\n",
        "\n",
        "        if in_act:\n",
        "            layers.append(in_act())\n",
        "\n",
        "        \n",
        "        # submodule\n",
        "        if submodule:\n",
        "            layers.append(submodule)\n",
        "\n",
        "\n",
        "        # decoder\n",
        "        if sub_skip_connection:\n",
        "            layers.append(nn.ConvTranspose2d(in_channels=sub_out_filters * 2, out_channels=out_filters, **conv_common_args))\n",
        "        else:\n",
        "            layers.append(nn.ConvTranspose2d(in_channels=sub_out_filters    , out_channels=out_filters, **conv_common_args))\n",
        "\n",
        "        if out_norm:\n",
        "            layers.append(out_norm(out_filters))\n",
        "        \n",
        "        if dropout:\n",
        "            layers.append(dropout())\n",
        "        \n",
        "        if out_act:\n",
        "            layers.append(out_act())\n",
        "        \n",
        "        self.model = nn.Sequential(*layers)\n",
        "\n",
        "        self.skip_connection = skip_connection\n",
        "    \n",
        "    def forward(self, x):\n",
        "        if self.skip_connection:\n",
        "            return torch.cat([x, self.model(x)], dim=1)\n",
        "        else:\n",
        "            return self.model(x)"
      ],
      "metadata": {
        "id": "YCKkXJ751VOF"
      },
      "execution_count": 43,
      "outputs": []
    },
    {
      "cell_type": "code",
      "source": [
        "summary(\n",
        "    UnetBlock(in_filters=64, out_filters=64, submodule=None), \n",
        "    input_size=(16, 64, 16, 16),\n",
        "    col_names=['output_size', 'num_params', 'mult_adds']\n",
        ")"
      ],
      "metadata": {
        "colab": {
          "base_uri": "https://localhost:8080/"
        },
        "id": "Mg7-I2tUCO05",
        "outputId": "2a9d4d97-cf57-4413-cdce-8a57ef52b89f"
      },
      "execution_count": 44,
      "outputs": [
        {
          "output_type": "execute_result",
          "data": {
            "text/plain": [
              "===================================================================================================================\n",
              "Layer (type:depth-idx)                   Output Shape              Param #                   Mult-Adds\n",
              "===================================================================================================================\n",
              "UnetBlock                                --                        --                        --\n",
              "├─Sequential: 1-1                        [16, 64, 16, 16]          --                        --\n",
              "│    └─Conv2d: 2-1                       [16, 64, 8, 8]            65,536                    67,108,864\n",
              "│    └─BatchNorm2d: 2-2                  [16, 64, 8, 8]            128                       2,048\n",
              "│    └─LeakyReLU: 2-3                    [16, 64, 8, 8]            --                        --\n",
              "│    └─ConvTranspose2d: 2-4              [16, 64, 16, 16]          65,536                    268,435,456\n",
              "│    └─BatchNorm2d: 2-5                  [16, 64, 16, 16]          128                       2,048\n",
              "│    └─Dropout: 2-6                      [16, 64, 16, 16]          --                        --\n",
              "│    └─ReLU: 2-7                         [16, 64, 16, 16]          --                        --\n",
              "===================================================================================================================\n",
              "Total params: 131,328\n",
              "Trainable params: 131,328\n",
              "Non-trainable params: 0\n",
              "Total mult-adds (M): 335.55\n",
              "===================================================================================================================\n",
              "Input size (MB): 1.05\n",
              "Forward/backward pass size (MB): 5.24\n",
              "Params size (MB): 0.53\n",
              "Estimated Total Size (MB): 6.82\n",
              "==================================================================================================================="
            ]
          },
          "metadata": {},
          "execution_count": 44
        }
      ]
    },
    {
      "cell_type": "code",
      "source": [
        "#@title Generator\n",
        "\n",
        "class Generator(nn.Module):\n",
        "\n",
        "    def __init__(self, config):\n",
        "        super().__init__()\n",
        "\n",
        "        # dependency injection\n",
        "        batch_norm = functools.partial(nn.BatchNorm2d, affine=True, track_running_stats=True)\n",
        "        relu = functools.partial(nn.ReLU, inplace=True)\n",
        "        leaky_relu = functools.partial(nn.LeakyReLU, inplace=True, negative_slope=0.2)\n",
        "        dropout = functools.partial(nn.Dropout, p=0.5)\n",
        "        tahn = nn.Tanh\n",
        "        \n",
        "        # build model recursively inside-out\n",
        "        blocks = config['blocks'][::-1]  \n",
        "\n",
        "        self.model = None\n",
        "\n",
        "        # build innermost block\n",
        "        self.model = UnetBlock(\n",
        "            in_filters=blocks[0]['filters'], \n",
        "            out_filters=blocks[0]['filters'],\n",
        "\n",
        "            submodule=None, \n",
        "            sub_in_filters=None, \n",
        "            sub_out_filters=None,\n",
        "            sub_skip_connection=False,\n",
        "\n",
        "            skip_connection=False,\n",
        "            dropout=dropout if blocks[0]['dropout'] else None,\n",
        "            in_norm=None, out_norm=False,\n",
        "            in_act=relu, out_act=relu\n",
        "        )\n",
        "        \n",
        "        # build between blocks\n",
        "        for i, layer in enumerate(blocks[1:], 1):\n",
        "            self.model = UnetBlock(\n",
        "                in_filters=layer['filters'], \n",
        "                out_filters=layer['filters'],\n",
        "\n",
        "                submodule=self.model, \n",
        "                sub_in_filters=blocks[i-1]['filters'], \n",
        "                sub_out_filters=blocks[i-1]['filters'],\n",
        "                sub_skip_connection=blocks[i-1]['skip_connection'],\n",
        "\n",
        "                skip_connection=blocks[i]['skip_connection'],\n",
        "                dropout=dropout if layer['dropout'] else None,\n",
        "                in_norm=batch_norm, out_norm=batch_norm,\n",
        "                in_act=leaky_relu, out_act=relu\n",
        "            )\n",
        "        \n",
        "        # build outermost block\n",
        "        self.model = UnetBlock(\n",
        "            in_filters=config['in_channels'],\n",
        "            out_filters=config['out_channels'],\n",
        "\n",
        "            submodule=self.model,\n",
        "            sub_in_filters=blocks[-1]['filters'], \n",
        "            sub_out_filters=blocks[-1]['filters'],\n",
        "            sub_skip_connection=blocks[-1]['skip_connection'],\n",
        "\n",
        "            skip_connection=False, \n",
        "            dropout=None,\n",
        "            in_norm=None, out_norm=None,\n",
        "            in_act=leaky_relu, out_act=tahn\n",
        "        )\n",
        "\n",
        "    def forward(self, x):\n",
        "        return self.model(x)"
      ],
      "metadata": {
        "id": "7xqfiSdVxoaR"
      },
      "execution_count": 47,
      "outputs": []
    },
    {
      "cell_type": "code",
      "source": [
        "#@title Generator summary\n",
        "\n",
        "generator_config = {\n",
        "    'in_channels': 3,\n",
        "    'out_channels': 3,\n",
        "    'blocks': [\n",
        "    {\n",
        "        'filters': 64,\n",
        "        'dropout': False,\n",
        "        'skip_connection': True\n",
        "    }, \n",
        "    {\n",
        "        'filters': 128,\n",
        "        'dropout': False,\n",
        "        'skip_connection': True\n",
        "    }, \n",
        "    {\n",
        "        'filters': 256,\n",
        "        'dropout': False,\n",
        "        'skip_connection': True\n",
        "    }, \n",
        "    {\n",
        "        'filters': 512,\n",
        "        'dropout': False,\n",
        "        'skip_connection': True\n",
        "    }, \n",
        "    {\n",
        "        'filters': 512,\n",
        "        'dropout': True,\n",
        "        'skip_connection': True\n",
        "    }, \n",
        "    {\n",
        "        'filters': 512,\n",
        "        'dropout': True,\n",
        "        'skip_connection': True\n",
        "    }, \n",
        "    {\n",
        "        'filters': 512,\n",
        "        'dropout': True,\n",
        "        'skip_connection': False\n",
        "    }]\n",
        "}\n",
        "\n",
        "summary(\n",
        "    Generator(generator_config),\n",
        "    input_size=(16, 3, 256, 256),\n",
        "    col_names=['output_size', 'num_params', 'mult_adds'],\n",
        "    depth=24\n",
        ")"
      ],
      "metadata": {
        "colab": {
          "base_uri": "https://localhost:8080/"
        },
        "id": "4CqJ7TvhgF68",
        "outputId": "3339b5c3-e641-4a90-d69f-5479a0d76441"
      },
      "execution_count": 48,
      "outputs": [
        {
          "output_type": "execute_result",
          "data": {
            "text/plain": [
              "=========================================================================================================================================================================================\n",
              "Layer (type:depth-idx)                                                                                         Output Shape              Param #                   Mult-Adds\n",
              "=========================================================================================================================================================================================\n",
              "Generator                                                                                                      --                        --                        --\n",
              "├─UnetBlock: 1-1                                                                                               [16, 3, 256, 256]         --                        --\n",
              "│    └─Sequential: 2-1                                                                                         [16, 3, 256, 256]         --                        --\n",
              "│    │    └─Conv2d: 3-1                                                                                        [16, 64, 128, 128]        3,072                     805,306,368\n",
              "│    │    └─LeakyReLU: 3-2                                                                                     [16, 64, 128, 128]        --                        --\n",
              "│    │    └─UnetBlock: 3-3                                                                                     [16, 128, 128, 128]       --                        --\n",
              "│    │    │    └─Sequential: 4-1                                                                               [16, 64, 128, 128]        --                        --\n",
              "│    │    │    │    └─Conv2d: 5-1                                                                              [16, 128, 64, 64]         131,072                   8,589,934,592\n",
              "│    │    │    │    └─BatchNorm2d: 5-2                                                                         [16, 128, 64, 64]         256                       4,096\n",
              "│    │    │    │    └─LeakyReLU: 5-3                                                                           [16, 128, 64, 64]         --                        --\n",
              "│    │    │    │    └─UnetBlock: 5-4                                                                           [16, 256, 64, 64]         --                        --\n",
              "│    │    │    │    │    └─Sequential: 6-1                                                                     [16, 128, 64, 64]         --                        --\n",
              "│    │    │    │    │    │    └─Conv2d: 7-1                                                                    [16, 256, 32, 32]         524,288                   8,589,934,592\n",
              "│    │    │    │    │    │    └─BatchNorm2d: 7-2                                                               [16, 256, 32, 32]         512                       8,192\n",
              "│    │    │    │    │    │    └─LeakyReLU: 7-3                                                                 [16, 256, 32, 32]         --                        --\n",
              "│    │    │    │    │    │    └─UnetBlock: 7-4                                                                 [16, 512, 32, 32]         --                        --\n",
              "│    │    │    │    │    │    │    └─Sequential: 8-1                                                           [16, 256, 32, 32]         --                        --\n",
              "│    │    │    │    │    │    │    │    └─Conv2d: 9-1                                                          [16, 512, 16, 16]         2,097,152                 8,589,934,592\n",
              "│    │    │    │    │    │    │    │    └─BatchNorm2d: 9-2                                                     [16, 512, 16, 16]         1,024                     16,384\n",
              "│    │    │    │    │    │    │    │    └─LeakyReLU: 9-3                                                       [16, 512, 16, 16]         --                        --\n",
              "│    │    │    │    │    │    │    │    └─UnetBlock: 9-4                                                       [16, 1024, 16, 16]        --                        --\n",
              "│    │    │    │    │    │    │    │    │    └─Sequential: 10-1                                                [16, 512, 16, 16]         --                        --\n",
              "│    │    │    │    │    │    │    │    │    │    └─Conv2d: 11-1                                               [16, 512, 8, 8]           4,194,304                 4,294,967,296\n",
              "│    │    │    │    │    │    │    │    │    │    └─BatchNorm2d: 11-2                                          [16, 512, 8, 8]           1,024                     16,384\n",
              "│    │    │    │    │    │    │    │    │    │    └─LeakyReLU: 11-3                                            [16, 512, 8, 8]           --                        --\n",
              "│    │    │    │    │    │    │    │    │    │    └─UnetBlock: 11-4                                            [16, 1024, 8, 8]          --                        --\n",
              "│    │    │    │    │    │    │    │    │    │    │    └─Sequential: 12-1                                      [16, 512, 8, 8]           --                        --\n",
              "│    │    │    │    │    │    │    │    │    │    │    │    └─Conv2d: 13-1                                     [16, 512, 4, 4]           4,194,304                 1,073,741,824\n",
              "│    │    │    │    │    │    │    │    │    │    │    │    └─BatchNorm2d: 13-2                                [16, 512, 4, 4]           1,024                     16,384\n",
              "│    │    │    │    │    │    │    │    │    │    │    │    └─LeakyReLU: 13-3                                  [16, 512, 4, 4]           --                        --\n",
              "│    │    │    │    │    │    │    │    │    │    │    │    └─UnetBlock: 13-4                                  [16, 1024, 4, 4]          --                        --\n",
              "│    │    │    │    │    │    │    │    │    │    │    │    │    └─Sequential: 14-1                            [16, 512, 4, 4]           --                        --\n",
              "│    │    │    │    │    │    │    │    │    │    │    │    │    │    └─Conv2d: 15-1                           [16, 512, 2, 2]           4,194,304                 268,435,456\n",
              "│    │    │    │    │    │    │    │    │    │    │    │    │    │    └─BatchNorm2d: 15-2                      [16, 512, 2, 2]           1,024                     16,384\n",
              "│    │    │    │    │    │    │    │    │    │    │    │    │    │    └─LeakyReLU: 15-3                        [16, 512, 2, 2]           --                        --\n",
              "│    │    │    │    │    │    │    │    │    │    │    │    │    │    └─UnetBlock: 15-4                        [16, 512, 2, 2]           --                        --\n",
              "│    │    │    │    │    │    │    │    │    │    │    │    │    │    │    └─Sequential: 16-1                  [16, 512, 2, 2]           --                        --\n",
              "│    │    │    │    │    │    │    │    │    │    │    │    │    │    │    │    └─Conv2d: 17-1                 [16, 512, 1, 1]           4,194,304                 67,108,864\n",
              "│    │    │    │    │    │    │    │    │    │    │    │    │    │    │    │    └─ReLU: 17-2                   [16, 512, 1, 1]           --                        --\n",
              "│    │    │    │    │    │    │    │    │    │    │    │    │    │    │    │    └─ConvTranspose2d: 17-3        [16, 512, 2, 2]           4,194,304                 268,435,456\n",
              "│    │    │    │    │    │    │    │    │    │    │    │    │    │    │    │    └─Dropout: 17-4                [16, 512, 2, 2]           --                        --\n",
              "│    │    │    │    │    │    │    │    │    │    │    │    │    │    │    │    └─ReLU: 17-5                   [16, 512, 2, 2]           --                        --\n",
              "│    │    │    │    │    │    │    │    │    │    │    │    │    │    └─ConvTranspose2d: 15-5                  [16, 512, 4, 4]           4,194,304                 1,073,741,824\n",
              "│    │    │    │    │    │    │    │    │    │    │    │    │    │    └─BatchNorm2d: 15-6                      [16, 512, 4, 4]           1,024                     16,384\n",
              "│    │    │    │    │    │    │    │    │    │    │    │    │    │    └─Dropout: 15-7                          [16, 512, 4, 4]           --                        --\n",
              "│    │    │    │    │    │    │    │    │    │    │    │    │    │    └─ReLU: 15-8                             [16, 512, 4, 4]           --                        --\n",
              "│    │    │    │    │    │    │    │    │    │    │    │    └─ConvTranspose2d: 13-5                            [16, 512, 8, 8]           8,388,608                 8,589,934,592\n",
              "│    │    │    │    │    │    │    │    │    │    │    │    └─BatchNorm2d: 13-6                                [16, 512, 8, 8]           1,024                     16,384\n",
              "│    │    │    │    │    │    │    │    │    │    │    │    └─Dropout: 13-7                                    [16, 512, 8, 8]           --                        --\n",
              "│    │    │    │    │    │    │    │    │    │    │    │    └─ReLU: 13-8                                       [16, 512, 8, 8]           --                        --\n",
              "│    │    │    │    │    │    │    │    │    │    └─ConvTranspose2d: 11-5                                      [16, 512, 16, 16]         8,388,608                 34,359,738,368\n",
              "│    │    │    │    │    │    │    │    │    │    └─BatchNorm2d: 11-6                                          [16, 512, 16, 16]         1,024                     16,384\n",
              "│    │    │    │    │    │    │    │    │    │    └─ReLU: 11-7                                                 [16, 512, 16, 16]         --                        --\n",
              "│    │    │    │    │    │    │    │    └─ConvTranspose2d: 9-5                                                 [16, 256, 32, 32]         4,194,304                 68,719,476,736\n",
              "│    │    │    │    │    │    │    │    └─BatchNorm2d: 9-6                                                     [16, 256, 32, 32]         512                       8,192\n",
              "│    │    │    │    │    │    │    │    └─ReLU: 9-7                                                            [16, 256, 32, 32]         --                        --\n",
              "│    │    │    │    │    │    └─ConvTranspose2d: 7-5                                                           [16, 128, 64, 64]         1,048,576                 68,719,476,736\n",
              "│    │    │    │    │    │    └─BatchNorm2d: 7-6                                                               [16, 128, 64, 64]         256                       4,096\n",
              "│    │    │    │    │    │    └─ReLU: 7-7                                                                      [16, 128, 64, 64]         --                        --\n",
              "│    │    │    │    └─ConvTranspose2d: 5-5                                                                     [16, 64, 128, 128]        262,144                   68,719,476,736\n",
              "│    │    │    │    └─BatchNorm2d: 5-6                                                                         [16, 64, 128, 128]        128                       2,048\n",
              "│    │    │    │    └─ReLU: 5-7                                                                                [16, 64, 128, 128]        --                        --\n",
              "│    │    └─ConvTranspose2d: 3-4                                                                               [16, 3, 256, 256]         6,144                     6,442,450,944\n",
              "│    │    └─Tanh: 3-5                                                                                          [16, 3, 256, 256]         --                        --\n",
              "=========================================================================================================================================================================================\n",
              "Total params: 50,218,624\n",
              "Trainable params: 50,218,624\n",
              "Non-trainable params: 0\n",
              "Total mult-adds (G): 289.17\n",
              "=========================================================================================================================================================================================\n",
              "Input size (MB): 12.58\n",
              "Forward/backward pass size (MB): 919.40\n",
              "Params size (MB): 200.87\n",
              "Estimated Total Size (MB): 1132.86\n",
              "========================================================================================================================================================================================="
            ]
          },
          "metadata": {},
          "execution_count": 48
        }
      ]
    },
    {
      "cell_type": "code",
      "source": [
        "class Discriminator(nn.Module):\n",
        "    def __init__(self, config):\n",
        "        super().__init__()\n",
        "\n",
        "        # we do not use bias in conv2d layer if batch norm is used, because batch norm already has bias\n",
        "        batch_norm = functools.partial(nn.BatchNorm2d, affine=True, track_running_stats=True)\n",
        "        leaky_relu = functools.partial(nn.LeakyReLU, negative_slope=0.2, inplace=True)\n",
        "\n",
        "        conv_common_args = {\n",
        "            'kernel_size': 4, \n",
        "            'padding': 1,\n",
        "        }\n",
        "\n",
        "        blocks = config['blocks']\n",
        "        layers = []\n",
        "\n",
        "        # build first block\n",
        "        layers += [\n",
        "            nn.Conv2d(config['in_channels'], blocks[0]['filters'], stride=2, **conv_common_args),\n",
        "            leaky_relu()\n",
        "        ]\n",
        "\n",
        "        # build between block\n",
        "        prev_filters = blocks[0]['filters']\n",
        "        for i, layer in enumerate(blocks[1:-1], 1):\n",
        "            curr_filters = min(blocks[i]['filters'], blocks[0]['filters']*8)\n",
        "            layers += [\n",
        "                nn.Conv2d(prev_filters, curr_filters, bias=False, stride=2, **conv_common_args),\n",
        "                batch_norm(curr_filters),\n",
        "                leaky_relu()\n",
        "            ]\n",
        "            prev_filters = curr_filters\n",
        "\n",
        "        # build last block\n",
        "        curr_filters = min(blocks[-1]['filters'], blocks[0]['filters'] * 8)\n",
        "        layers += [\n",
        "            # stride = 1 for last block\n",
        "            nn.Conv2d(prev_filters, curr_filters, stride=1, bias=False, **conv_common_args),\n",
        "            batch_norm(curr_filters),\n",
        "            leaky_relu(),\n",
        "            # convert to 1 dimensional output\n",
        "            nn.Conv2d(curr_filters, 1, stride=1, **conv_common_args)\n",
        "        ]\n",
        "\n",
        "        self.model = nn.Sequential(*layers)\n",
        "\n",
        "    def forward(self, x):\n",
        "        return self.model(x)"
      ],
      "metadata": {
        "id": "bTMsSqaA5lSj"
      },
      "execution_count": 49,
      "outputs": []
    },
    {
      "cell_type": "code",
      "source": [
        "discriminator_config = {\n",
        "    'in_channels': 3,\n",
        "    'out_channels': 3,\n",
        "    'blocks': [\n",
        "    {\n",
        "        'filters': 64,\n",
        "    }, \n",
        "    {\n",
        "        'filters': 128,\n",
        "    }, \n",
        "    {\n",
        "        'filters': 256,\n",
        "    }, \n",
        "    {\n",
        "        'filters': 512,\n",
        "    }]\n",
        "}\n",
        "\n",
        "summary(\n",
        "    Discriminator(discriminator_config),\n",
        "    input_size=(16, 3, 256, 256),\n",
        "    col_names=['output_size', 'num_params', 'mult_adds'],\n",
        "    depth=24\n",
        ")"
      ],
      "metadata": {
        "colab": {
          "base_uri": "https://localhost:8080/"
        },
        "id": "ptgC-cZVQJrZ",
        "outputId": "fd1ad897-a6d8-45a7-8570-1f76101e22d4"
      },
      "execution_count": 50,
      "outputs": [
        {
          "output_type": "execute_result",
          "data": {
            "text/plain": [
              "===================================================================================================================\n",
              "Layer (type:depth-idx)                   Output Shape              Param #                   Mult-Adds\n",
              "===================================================================================================================\n",
              "Discriminator                            --                        --                        --\n",
              "├─Sequential: 1-1                        [16, 1, 30, 30]           --                        --\n",
              "│    └─Conv2d: 2-1                       [16, 64, 128, 128]        3,136                     822,083,584\n",
              "│    └─LeakyReLU: 2-2                    [16, 64, 128, 128]        --                        --\n",
              "│    └─Conv2d: 2-3                       [16, 128, 64, 64]         131,072                   8,589,934,592\n",
              "│    └─BatchNorm2d: 2-4                  [16, 128, 64, 64]         256                       4,096\n",
              "│    └─LeakyReLU: 2-5                    [16, 128, 64, 64]         --                        --\n",
              "│    └─Conv2d: 2-6                       [16, 256, 32, 32]         524,288                   8,589,934,592\n",
              "│    └─BatchNorm2d: 2-7                  [16, 256, 32, 32]         512                       8,192\n",
              "│    └─LeakyReLU: 2-8                    [16, 256, 32, 32]         --                        --\n",
              "│    └─Conv2d: 2-9                       [16, 512, 31, 31]         2,097,152                 32,245,809,152\n",
              "│    └─BatchNorm2d: 2-10                 [16, 512, 31, 31]         1,024                     16,384\n",
              "│    └─LeakyReLU: 2-11                   [16, 512, 31, 31]         --                        --\n",
              "│    └─Conv2d: 2-12                      [16, 1, 30, 30]           8,193                     117,979,200\n",
              "===================================================================================================================\n",
              "Total params: 2,765,633\n",
              "Trainable params: 2,765,633\n",
              "Non-trainable params: 0\n",
              "Total mult-adds (G): 50.37\n",
              "===================================================================================================================\n",
              "Input size (MB): 12.58\n",
              "Forward/backward pass size (MB): 461.62\n",
              "Params size (MB): 11.06\n",
              "Estimated Total Size (MB): 485.27\n",
              "==================================================================================================================="
            ]
          },
          "metadata": {},
          "execution_count": 50
        }
      ]
    },
    {
      "cell_type": "markdown",
      "source": [
        "# Data"
      ],
      "metadata": {
        "id": "_c_T8k_F_1-i"
      }
    },
    {
      "cell_type": "code",
      "source": [
        "%%bash\n",
        "\n",
        "FILE=\"facades\"\n",
        "\n",
        "if [[ $FILE != \"cityscapes\" && $FILE != \"night2day\" && $FILE != \"edges2handbags\" && $FILE != \"edges2shoes\" && $FILE != \"facades\" && $FILE != \"maps\" ]]; then\n",
        "  echo \"Available datasets are cityscapes, night2day, edges2handbags, edges2shoes, facades, maps\"\n",
        "  exit 1\n",
        "fi\n",
        "\n",
        "if [[ $FILE == \"cityscapes\" ]]; then\n",
        "    echo \"Due to license issue, we cannot provide the Cityscapes dataset from our repository. Please download the Cityscapes dataset from https://cityscapes-dataset.com, and use the script ./datasets/prepare_cityscapes_dataset.py.\"\n",
        "    echo \"You need to download gtFine_trainvaltest.zip and leftImg8bit_trainvaltest.zip. For further instruction, please read ./datasets/prepare_cityscapes_dataset.py\"\n",
        "    exit 1\n",
        "fi\n",
        "\n",
        "echo \"Specified [$FILE]\"\n",
        "\n",
        "URL=http://efrosgans.eecs.berkeley.edu/pix2pix/datasets/$FILE.tar.gz\n",
        "TAR_FILE=./datasets/$FILE.tar.gz\n",
        "TARGET_DIR=./datasets/$FILE/\n",
        "wget -N $URL -O $TAR_FILE > /dev/null\n",
        "mkdir -p $TARGET_DIR\n",
        "tar -zxvf $TAR_FILE -C ./datasets/ > /dev/null\n",
        "rm $TAR_FILE"
      ],
      "metadata": {
        "id": "JMHnAibAA5vK"
      },
      "execution_count": null,
      "outputs": []
    },
    {
      "cell_type": "code",
      "source": [
        "#@title util functions\n",
        "\n",
        "IMG_EXTENSIONS = [\n",
        "    '.jpg', '.jpeg',\n",
        "    '.png', '.ppm', '.bmp',\n",
        "    '.tif', '.tiff',\n",
        "]\n",
        "\n",
        "def is_image_file(filename):\n",
        "    return any(filename.lower().endswith(ext) for ext in IMG_EXTENSIONS)\n",
        "\n",
        "def get_all_image_paths(root):\n",
        "    paths = []\n",
        "    assert os.path.isdir(root)\n",
        "\n",
        "    for root, _folders, filenames in sorted(os.walk(root)):\n",
        "        for filename in filenames:\n",
        "            if is_image_file(filename):\n",
        "                paths.append(os.path.join(root, filename))\n",
        "    \n",
        "    return paths"
      ],
      "metadata": {
        "id": "emuZ1ZgzFUut"
      },
      "execution_count": 9,
      "outputs": []
    },
    {
      "cell_type": "code",
      "source": [
        "class MyDataset(Dataset):\n",
        "\n",
        "    def __init__(self, root):\n",
        "        self.paths = sorted(get_all_image_paths(root))\n",
        "        \n",
        "    def __len__(self):\n",
        "        return len(self.paths)\n",
        "    \n",
        "    def __getitem__(self, i):\n",
        "        A, B = self._split_input_output(self._read_im(self.paths[i]))\n",
        "\n",
        "        transform = self._generate_transform()\n",
        "        \n",
        "        return transform(A), transform(B)\n",
        "\n",
        "    def _read_im(self, path):\n",
        "        return Image.open(path).convert('RGB')\n",
        "\n",
        "    def _split_input_output(AB):\n",
        "        w, h = AB.size\n",
        "        w2 = int(w / 2)\n",
        "        A = AB.crop((0, 0, w2, h))\n",
        "        B = AB.crop((w2, 0, w, h))\n",
        "\n",
        "        return A, B\n",
        "\n",
        "    def _generate_transform(self):\n",
        "        new_size = 286\n",
        "        old_size = 256\n",
        "\n",
        "        rand_x = random.randint(0, new_size - old_size)\n",
        "        rand_y = random.randint(0, new_size - old_size)\n",
        "        flip = random.random() > 0.5\n",
        "        \n",
        "        return transforms.Compose([\n",
        "            transforms.Resize((new_size, new_size), interpolation=InterpolationMode.BICUBIC, antialias=True),\n",
        "            transforms.Lambda(lambda im: self._crop(im, (rand_x, rand_y), (old_size, old_size))),\n",
        "            transforms.Lambda(lambda im: self._flip(im, flip)),\n",
        "            transforms.ToTensor(),\n",
        "            transforms.Normalize((0.5, 0.5, 0.5), (0.5, 0.5, 0.5))\n",
        "        ])\n",
        "\n",
        "\n",
        "    def _flip(self, im, flip):\n",
        "        if flip:\n",
        "            return im.transpose(Image.FLIP_LEFT_RIGHT)\n",
        "        return im\n",
        "\n",
        "    def _crop(self, im, pos, size):\n",
        "        return im.crop((pos[0], pos[1], pos[0] + size[0], pos[1] + size[1]))"
      ],
      "metadata": {
        "id": "gab1vj-XH3UV"
      },
      "execution_count": 7,
      "outputs": []
    },
    {
      "cell_type": "code",
      "source": [
        "batch_size = 1\n",
        "shuffle = False\n",
        "num_workers = 4\n",
        "\n",
        "dataset = MyDataset('./datasets/facades/train')\n",
        "dataloader = DataLoader(dataset, batch_size=batch_size, shuffle=shuffle, num_workers=num_workers)"
      ],
      "metadata": {
        "id": "F3xHa8sDjEXB"
      },
      "execution_count": 10,
      "outputs": []
    }
  ]
}
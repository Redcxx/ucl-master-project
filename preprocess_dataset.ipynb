{
 "cells": [
  {
   "cell_type": "code",
   "execution_count": 1,
   "id": "1ad0767c",
   "metadata": {
    "ExecuteTime": {
     "end_time": "2022-06-11T22:14:28.019600Z",
     "start_time": "2022-06-11T22:14:27.051952Z"
    }
   },
   "outputs": [],
   "source": [
    "import os\n",
    "import re\n",
    "import sys\n",
    "import time\n",
    "import random\n",
    "import hashlib\n",
    "import shutil\n",
    "from pathlib import Path\n",
    "from pprint import pprint\n",
    "# thread instead of process: https://stackoverflow.com/questions/21198857/python-multiprocessing-example-not-working\n",
    "from multiprocessing.dummy import Pool\n",
    "import multiprocessing\n",
    "\n",
    "import imagehash\n",
    "from tqdm.notebook import tqdm\n",
    "import numpy as np\n",
    "from PIL import Image, ImageOps, ImageColor\n",
    "from matplotlib import pyplot as plt\n",
    "from sklearn.model_selection import train_test_split"
   ]
  },
  {
   "cell_type": "code",
   "execution_count": 2,
   "id": "ed5ebe1e",
   "metadata": {
    "ExecuteTime": {
     "end_time": "2022-06-11T22:14:28.035266Z",
     "start_time": "2022-06-11T22:14:28.021614Z"
    }
   },
   "outputs": [],
   "source": [
    "INPUT_DATASET_ROOT = r'D:\\UCL\\labs\\comp0122\\datasets\\RAW_DATA-20220610T141404Z-001'\n",
    "# RAW_DATA-20220516T194619Z-001\n",
    "# RAW_DATA-20220610T141404Z-001\n",
    "OUTPUT_DATASET_ROOT = r'./datasets/processed/'\n",
    "\n",
    "TRAIN_TEST_RATIO = 0.8\n",
    "RANDOM_SEED = 42\n",
    "\n",
    "random.seed(RANDOM_SEED)\n",
    "np.random.seed(RANDOM_SEED)"
   ]
  },
  {
   "cell_type": "code",
   "execution_count": 20,
   "id": "33164012",
   "metadata": {
    "ExecuteTime": {
     "end_time": "2022-06-11T22:17:54.044890Z",
     "start_time": "2022-06-11T22:17:54.025892Z"
    }
   },
   "outputs": [],
   "source": [
    "IMG_EXTENSIONS = [\n",
    "    '.jpg', '.jpeg',\n",
    "    '.png', '.ppm', '.bmp',\n",
    "    '.tif', '.tiff',\n",
    "]\n",
    "\n",
    "def is_image_file(filename):\n",
    "    return any(filename.lower().endswith(ext) for ext in IMG_EXTENSIONS)\n",
    "\n",
    "def find_all_image_paths(root, recursive=True):\n",
    "    paths = []\n",
    "    assert os.path.isdir(root)\n",
    "\n",
    "    for root, _, filenames in sorted(os.walk(root)):\n",
    "        for filename in filenames:\n",
    "            if is_image_file(filename):\n",
    "                paths.append(os.path.join(root, filename))\n",
    "        if not recursive:\n",
    "            break\n",
    "    \n",
    "    return paths\n",
    "\n",
    "def find_innermost_folders(root, relative=True):\n",
    "    paths = []\n",
    "    assert os.path.isdir(root)\n",
    "\n",
    "    for root, inner_folders, filenames in sorted(os.walk(root)):\n",
    "        if len(inner_folders) == 0:\n",
    "            paths.append(os.path.relpath(root) if relative else root)\n",
    "    \n",
    "    return paths"
   ]
  },
  {
   "cell_type": "code",
   "execution_count": 4,
   "id": "f0e74391",
   "metadata": {
    "ExecuteTime": {
     "end_time": "2022-06-11T22:14:28.082423Z",
     "start_time": "2022-06-11T22:14:28.052428Z"
    }
   },
   "outputs": [
    {
     "name": "stdout",
     "output_type": "stream",
     "text": [
      "['datasets\\\\RAW_DATA-20220610T141404Z-001\\\\RAW_DATA\\\\SH_0030\\\\v002\\\\01_FGCHarcterLine',\n",
      " 'datasets\\\\RAW_DATA-20220610T141404Z-001\\\\RAW_DATA\\\\SH_0030\\\\v002\\\\04_FGCHarcter_fill',\n",
      " 'datasets\\\\RAW_DATA-20220610T141404Z-001\\\\RAW_DATA\\\\SH_0030\\\\v002\\\\06_FGCHaracter_tiedown',\n",
      " 'datasets\\\\RAW_DATA-20220610T141404Z-001\\\\RAW_DATA\\\\SH_0030\\\\v002\\\\08_BGkidLINE',\n",
      " 'datasets\\\\RAW_DATA-20220610T141404Z-001\\\\RAW_DATA\\\\SH_0030\\\\v002\\\\11_BGkidFILL',\n",
      " 'datasets\\\\RAW_DATA-20220610T141404Z-001\\\\RAW_DATA\\\\SH_0030\\\\v002\\\\13_BGkid_TIEDOWN',\n",
      " 'datasets\\\\RAW_DATA-20220610T141404Z-001\\\\RAW_DATA\\\\SH_0030\\\\v002\\\\14_BGmum_LINE',\n",
      " 'datasets\\\\RAW_DATA-20220610T141404Z-001\\\\RAW_DATA\\\\SH_0030\\\\v002\\\\16_BGmum_FILL',\n",
      " 'datasets\\\\RAW_DATA-20220610T141404Z-001\\\\RAW_DATA\\\\SH_0030\\\\v002\\\\18_BGmum_TIEDOWN',\n",
      " 'datasets\\\\RAW_DATA-20220610T141404Z-001\\\\RAW_DATA\\\\SH_0030\\\\v002\\\\19_BGguy_LINE',\n",
      " 'datasets\\\\RAW_DATA-20220610T141404Z-001\\\\RAW_DATA\\\\SH_0030\\\\v002\\\\21_BGguy_FILL',\n",
      " 'datasets\\\\RAW_DATA-20220610T141404Z-001\\\\RAW_DATA\\\\SH_0030\\\\v002\\\\23_BGguyTIEDOWN',\n",
      " 'datasets\\\\RAW_DATA-20220610T141404Z-001\\\\RAW_DATA\\\\SH_0030\\\\v002\\\\26_BGwomanLINE',\n",
      " 'datasets\\\\RAW_DATA-20220610T141404Z-001\\\\RAW_DATA\\\\SH_0030\\\\v002\\\\28_BGwomanFILL',\n",
      " 'datasets\\\\RAW_DATA-20220610T141404Z-001\\\\RAW_DATA\\\\SH_0030\\\\v002\\\\29_BGwomanTD',\n",
      " 'datasets\\\\RAW_DATA-20220610T141404Z-001\\\\RAW_DATA\\\\SH_0030\\\\v002\\\\30_BGoldmanLINE',\n",
      " 'datasets\\\\RAW_DATA-20220610T141404Z-001\\\\RAW_DATA\\\\SH_0030\\\\v002\\\\32_BGoldmanFILL',\n",
      " 'datasets\\\\RAW_DATA-20220610T141404Z-001\\\\RAW_DATA\\\\SH_0030\\\\v002\\\\33_BGoldmanTD',\n",
      " 'datasets\\\\RAW_DATA-20220610T141404Z-001\\\\RAW_DATA\\\\SH_0040\\\\v002\\\\18_Line_Kurt',\n",
      " 'datasets\\\\RAW_DATA-20220610T141404Z-001\\\\RAW_DATA\\\\SH_0040\\\\v002\\\\20_COL_Kurt',\n",
      " 'datasets\\\\RAW_DATA-20220610T141404Z-001\\\\RAW_DATA\\\\SH_0040\\\\v002\\\\22_TD_Kurt',\n",
      " 'datasets\\\\RAW_DATA-20220610T141404Z-001\\\\RAW_DATA\\\\SH_0040\\\\v002\\\\26_Line_C_and_J',\n",
      " 'datasets\\\\RAW_DATA-20220610T141404Z-001\\\\RAW_DATA\\\\SH_0040\\\\v002\\\\30_COL_Line_C_and_J',\n",
      " 'datasets\\\\RAW_DATA-20220610T141404Z-001\\\\RAW_DATA\\\\SH_0040\\\\v002\\\\31_TD_Line_C_and_J',\n",
      " 'datasets\\\\RAW_DATA-20220610T141404Z-001\\\\RAW_DATA\\\\SH_0050\\\\v002\\\\01_KURT_BODY_LINE',\n",
      " 'datasets\\\\RAW_DATA-20220610T141404Z-001\\\\RAW_DATA\\\\SH_0050\\\\v002\\\\03_KURT_COL',\n",
      " 'datasets\\\\RAW_DATA-20220610T141404Z-001\\\\RAW_DATA\\\\SH_0050\\\\v002\\\\04_KURT_TD',\n",
      " 'datasets\\\\RAW_DATA-20220610T141404Z-001\\\\RAW_DATA\\\\SH_0050\\\\v002\\\\07_CONNIE_LINE',\n",
      " 'datasets\\\\RAW_DATA-20220610T141404Z-001\\\\RAW_DATA\\\\SH_0050\\\\v002\\\\11_CONNIE_COL',\n",
      " 'datasets\\\\RAW_DATA-20220610T141404Z-001\\\\RAW_DATA\\\\SH_0050\\\\v002\\\\12_CONNIE_TD',\n",
      " 'datasets\\\\RAW_DATA-20220610T141404Z-001\\\\RAW_DATA\\\\SH_0070\\\\v001\\\\07_LINE',\n",
      " 'datasets\\\\RAW_DATA-20220610T141404Z-001\\\\RAW_DATA\\\\SH_0070\\\\v001\\\\09_COL',\n",
      " 'datasets\\\\RAW_DATA-20220610T141404Z-001\\\\RAW_DATA\\\\SH_0070\\\\v001\\\\10_TD',\n",
      " 'datasets\\\\RAW_DATA-20220610T141404Z-001\\\\RAW_DATA\\\\SH_0080\\\\v001\\\\05_LINE',\n",
      " 'datasets\\\\RAW_DATA-20220610T141404Z-001\\\\RAW_DATA\\\\SH_0080\\\\v001\\\\07_COLOUR',\n",
      " 'datasets\\\\RAW_DATA-20220610T141404Z-001\\\\RAW_DATA\\\\SH_0080\\\\v001\\\\08_TD',\n",
      " 'datasets\\\\RAW_DATA-20220610T141404Z-001\\\\RAW_DATA\\\\SH_0090\\\\v001\\\\01_CONNIE_LINE',\n",
      " 'datasets\\\\RAW_DATA-20220610T141404Z-001\\\\RAW_DATA\\\\SH_0090\\\\v001\\\\04_CONNIE_COLOUR',\n",
      " 'datasets\\\\RAW_DATA-20220610T141404Z-001\\\\RAW_DATA\\\\SH_0090\\\\v001\\\\05_CONNIE_TD',\n",
      " 'datasets\\\\RAW_DATA-20220610T141404Z-001\\\\RAW_DATA\\\\SH_0100\\\\v001\\\\06_CONNIE_Line',\n",
      " 'datasets\\\\RAW_DATA-20220610T141404Z-001\\\\RAW_DATA\\\\SH_0100\\\\v001\\\\07_CONNIE_COL',\n",
      " 'datasets\\\\RAW_DATA-20220610T141404Z-001\\\\RAW_DATA\\\\SH_0100\\\\v001\\\\09_CONNIE_TD']\n"
     ]
    }
   ],
   "source": [
    "im_folders = find_innermost_folders(INPUT_DATASET_ROOT)\n",
    "\n",
    "pprint(im_folders)"
   ]
  },
  {
   "cell_type": "code",
   "execution_count": 5,
   "id": "bbc55dc5",
   "metadata": {
    "ExecuteTime": {
     "end_time": "2022-06-11T22:14:28.097659Z",
     "start_time": "2022-06-11T22:14:28.084424Z"
    }
   },
   "outputs": [],
   "source": [
    "def compute_identifier(p):\n",
    "    p = os.path.normpath(p)\n",
    "    p_parts = p.split(os.sep)\n",
    "    \n",
    "    sh_indices = [i for i in range(len(p_parts)) if p_parts[i].startswith('SH')]\n",
    "    if len(sh_indices) == 0:\n",
    "        raise ValueError(f'SHOT folder not found: {p_parts}')\n",
    "    \n",
    "    sh_i = sh_indices[0]\n",
    "    \n",
    "    id_comps = []\n",
    "    \n",
    "    # shot name\n",
    "    shot_name = p_parts[sh_i]\n",
    "    id_comps.append(shot_name)\n",
    "    \n",
    "    # character name\n",
    "    char_name = p_parts[sh_i + 1]\n",
    "    id_comps.append(char_name)\n",
    "    \n",
    "    # may have type name such as cleanup, spotkey, and tiedown\n",
    "    if len(p_parts) > sh_i + 2:\n",
    "        type_name = p_parts[sh_i + 2].split('_', 1)[-1]\n",
    "        id_comps.append(type_name)\n",
    "\n",
    "    # may have character parts name such as 01_SHA_Connie_fill, and 06_LINE_CONNIE_UPPERBODY\n",
    "    if len(p_parts) > (sh_i + 3):\n",
    "        stage_name = p_parts[sh_i + 3].split('_', 1)[-1]\n",
    "        id_comps.append(stage_name)\n",
    "    \n",
    "    # combine using dash '-', should be unique\n",
    "    return '-'.join(id_comps).lower()\n",
    "\n",
    "uni_im_folders = {}  # map identifier to actual folder\n",
    "\n",
    "for p in im_folders:\n",
    "    \n",
    "    ident = compute_identifier(p)\n",
    "    \n",
    "    if ident in uni_im_folders:\n",
    "        print(f'duplicate identifier: {ident}')\n",
    "        uni_im_folders[ident] = None\n",
    "    elif ident not in uni_im_folders or uni_im_folders[ident] is not None:\n",
    "        uni_im_folders[ident] = p\n",
    "\n",
    "uni_im_folders = {k: v for k, v in uni_im_folders.items() if v is not None}"
   ]
  },
  {
   "cell_type": "code",
   "execution_count": 6,
   "id": "8dd690e6",
   "metadata": {
    "ExecuteTime": {
     "end_time": "2022-06-11T22:14:28.112755Z",
     "start_time": "2022-06-11T22:14:28.099659Z"
    }
   },
   "outputs": [
    {
     "name": "stdout",
     "output_type": "stream",
     "text": [
      "{'sh_0030-v002-bgguy_fill': 'datasets\\\\RAW_DATA-20220610T141404Z-001\\\\RAW_DATA\\\\SH_0030\\\\v002\\\\21_BGguy_FILL',\n",
      " 'sh_0030-v002-bgguy_line': 'datasets\\\\RAW_DATA-20220610T141404Z-001\\\\RAW_DATA\\\\SH_0030\\\\v002\\\\19_BGguy_LINE',\n",
      " 'sh_0030-v002-bgguytiedown': 'datasets\\\\RAW_DATA-20220610T141404Z-001\\\\RAW_DATA\\\\SH_0030\\\\v002\\\\23_BGguyTIEDOWN',\n",
      " 'sh_0030-v002-bgkid_tiedown': 'datasets\\\\RAW_DATA-20220610T141404Z-001\\\\RAW_DATA\\\\SH_0030\\\\v002\\\\13_BGkid_TIEDOWN',\n",
      " 'sh_0030-v002-bgkidfill': 'datasets\\\\RAW_DATA-20220610T141404Z-001\\\\RAW_DATA\\\\SH_0030\\\\v002\\\\11_BGkidFILL',\n",
      " 'sh_0030-v002-bgkidline': 'datasets\\\\RAW_DATA-20220610T141404Z-001\\\\RAW_DATA\\\\SH_0030\\\\v002\\\\08_BGkidLINE',\n",
      " 'sh_0030-v002-bgmum_fill': 'datasets\\\\RAW_DATA-20220610T141404Z-001\\\\RAW_DATA\\\\SH_0030\\\\v002\\\\16_BGmum_FILL',\n",
      " 'sh_0030-v002-bgmum_line': 'datasets\\\\RAW_DATA-20220610T141404Z-001\\\\RAW_DATA\\\\SH_0030\\\\v002\\\\14_BGmum_LINE',\n",
      " 'sh_0030-v002-bgmum_tiedown': 'datasets\\\\RAW_DATA-20220610T141404Z-001\\\\RAW_DATA\\\\SH_0030\\\\v002\\\\18_BGmum_TIEDOWN',\n",
      " 'sh_0030-v002-bgoldmanfill': 'datasets\\\\RAW_DATA-20220610T141404Z-001\\\\RAW_DATA\\\\SH_0030\\\\v002\\\\32_BGoldmanFILL',\n",
      " 'sh_0030-v002-bgoldmanline': 'datasets\\\\RAW_DATA-20220610T141404Z-001\\\\RAW_DATA\\\\SH_0030\\\\v002\\\\30_BGoldmanLINE',\n",
      " 'sh_0030-v002-bgoldmantd': 'datasets\\\\RAW_DATA-20220610T141404Z-001\\\\RAW_DATA\\\\SH_0030\\\\v002\\\\33_BGoldmanTD',\n",
      " 'sh_0030-v002-bgwomanfill': 'datasets\\\\RAW_DATA-20220610T141404Z-001\\\\RAW_DATA\\\\SH_0030\\\\v002\\\\28_BGwomanFILL',\n",
      " 'sh_0030-v002-bgwomanline': 'datasets\\\\RAW_DATA-20220610T141404Z-001\\\\RAW_DATA\\\\SH_0030\\\\v002\\\\26_BGwomanLINE',\n",
      " 'sh_0030-v002-bgwomantd': 'datasets\\\\RAW_DATA-20220610T141404Z-001\\\\RAW_DATA\\\\SH_0030\\\\v002\\\\29_BGwomanTD',\n",
      " 'sh_0030-v002-fgcharacter_tiedown': 'datasets\\\\RAW_DATA-20220610T141404Z-001\\\\RAW_DATA\\\\SH_0030\\\\v002\\\\06_FGCHaracter_tiedown',\n",
      " 'sh_0030-v002-fgcharcter_fill': 'datasets\\\\RAW_DATA-20220610T141404Z-001\\\\RAW_DATA\\\\SH_0030\\\\v002\\\\04_FGCHarcter_fill',\n",
      " 'sh_0030-v002-fgcharcterline': 'datasets\\\\RAW_DATA-20220610T141404Z-001\\\\RAW_DATA\\\\SH_0030\\\\v002\\\\01_FGCHarcterLine',\n",
      " 'sh_0040-v002-col_kurt': 'datasets\\\\RAW_DATA-20220610T141404Z-001\\\\RAW_DATA\\\\SH_0040\\\\v002\\\\20_COL_Kurt',\n",
      " 'sh_0040-v002-col_line_c_and_j': 'datasets\\\\RAW_DATA-20220610T141404Z-001\\\\RAW_DATA\\\\SH_0040\\\\v002\\\\30_COL_Line_C_and_J',\n",
      " 'sh_0040-v002-line_c_and_j': 'datasets\\\\RAW_DATA-20220610T141404Z-001\\\\RAW_DATA\\\\SH_0040\\\\v002\\\\26_Line_C_and_J',\n",
      " 'sh_0040-v002-line_kurt': 'datasets\\\\RAW_DATA-20220610T141404Z-001\\\\RAW_DATA\\\\SH_0040\\\\v002\\\\18_Line_Kurt',\n",
      " 'sh_0040-v002-td_kurt': 'datasets\\\\RAW_DATA-20220610T141404Z-001\\\\RAW_DATA\\\\SH_0040\\\\v002\\\\22_TD_Kurt',\n",
      " 'sh_0040-v002-td_line_c_and_j': 'datasets\\\\RAW_DATA-20220610T141404Z-001\\\\RAW_DATA\\\\SH_0040\\\\v002\\\\31_TD_Line_C_and_J',\n",
      " 'sh_0050-v002-connie_col': 'datasets\\\\RAW_DATA-20220610T141404Z-001\\\\RAW_DATA\\\\SH_0050\\\\v002\\\\11_CONNIE_COL',\n",
      " 'sh_0050-v002-connie_line': 'datasets\\\\RAW_DATA-20220610T141404Z-001\\\\RAW_DATA\\\\SH_0050\\\\v002\\\\07_CONNIE_LINE',\n",
      " 'sh_0050-v002-connie_td': 'datasets\\\\RAW_DATA-20220610T141404Z-001\\\\RAW_DATA\\\\SH_0050\\\\v002\\\\12_CONNIE_TD',\n",
      " 'sh_0050-v002-kurt_body_line': 'datasets\\\\RAW_DATA-20220610T141404Z-001\\\\RAW_DATA\\\\SH_0050\\\\v002\\\\01_KURT_BODY_LINE',\n",
      " 'sh_0050-v002-kurt_col': 'datasets\\\\RAW_DATA-20220610T141404Z-001\\\\RAW_DATA\\\\SH_0050\\\\v002\\\\03_KURT_COL',\n",
      " 'sh_0050-v002-kurt_td': 'datasets\\\\RAW_DATA-20220610T141404Z-001\\\\RAW_DATA\\\\SH_0050\\\\v002\\\\04_KURT_TD',\n",
      " 'sh_0070-v001-col': 'datasets\\\\RAW_DATA-20220610T141404Z-001\\\\RAW_DATA\\\\SH_0070\\\\v001\\\\09_COL',\n",
      " 'sh_0070-v001-line': 'datasets\\\\RAW_DATA-20220610T141404Z-001\\\\RAW_DATA\\\\SH_0070\\\\v001\\\\07_LINE',\n",
      " 'sh_0070-v001-td': 'datasets\\\\RAW_DATA-20220610T141404Z-001\\\\RAW_DATA\\\\SH_0070\\\\v001\\\\10_TD',\n",
      " 'sh_0080-v001-colour': 'datasets\\\\RAW_DATA-20220610T141404Z-001\\\\RAW_DATA\\\\SH_0080\\\\v001\\\\07_COLOUR',\n",
      " 'sh_0080-v001-line': 'datasets\\\\RAW_DATA-20220610T141404Z-001\\\\RAW_DATA\\\\SH_0080\\\\v001\\\\05_LINE',\n",
      " 'sh_0080-v001-td': 'datasets\\\\RAW_DATA-20220610T141404Z-001\\\\RAW_DATA\\\\SH_0080\\\\v001\\\\08_TD',\n",
      " 'sh_0090-v001-connie_colour': 'datasets\\\\RAW_DATA-20220610T141404Z-001\\\\RAW_DATA\\\\SH_0090\\\\v001\\\\04_CONNIE_COLOUR',\n",
      " 'sh_0090-v001-connie_line': 'datasets\\\\RAW_DATA-20220610T141404Z-001\\\\RAW_DATA\\\\SH_0090\\\\v001\\\\01_CONNIE_LINE',\n",
      " 'sh_0090-v001-connie_td': 'datasets\\\\RAW_DATA-20220610T141404Z-001\\\\RAW_DATA\\\\SH_0090\\\\v001\\\\05_CONNIE_TD',\n",
      " 'sh_0100-v001-connie_col': 'datasets\\\\RAW_DATA-20220610T141404Z-001\\\\RAW_DATA\\\\SH_0100\\\\v001\\\\07_CONNIE_COL',\n",
      " 'sh_0100-v001-connie_line': 'datasets\\\\RAW_DATA-20220610T141404Z-001\\\\RAW_DATA\\\\SH_0100\\\\v001\\\\06_CONNIE_Line',\n",
      " 'sh_0100-v001-connie_td': 'datasets\\\\RAW_DATA-20220610T141404Z-001\\\\RAW_DATA\\\\SH_0100\\\\v001\\\\09_CONNIE_TD'}\n"
     ]
    }
   ],
   "source": [
    "pprint(uni_im_folders)"
   ]
  },
  {
   "cell_type": "code",
   "execution_count": 7,
   "id": "cfb52f14",
   "metadata": {
    "ExecuteTime": {
     "end_time": "2022-06-11T22:14:28.127642Z",
     "start_time": "2022-06-11T22:14:28.114444Z"
    }
   },
   "outputs": [
    {
     "name": "stdout",
     "output_type": "stream",
     "text": [
      "{('datasets\\\\RAW_DATA-20220610T141404Z-001\\\\RAW_DATA\\\\SH_0030\\\\v002\\\\08_BGkidLINE',\n",
      "  'datasets\\\\RAW_DATA-20220610T141404Z-001\\\\RAW_DATA\\\\SH_0030\\\\v002\\\\13_BGkid_TIEDOWN'),\n",
      " ('datasets\\\\RAW_DATA-20220610T141404Z-001\\\\RAW_DATA\\\\SH_0030\\\\v002\\\\14_BGmum_LINE',\n",
      "  'datasets\\\\RAW_DATA-20220610T141404Z-001\\\\RAW_DATA\\\\SH_0030\\\\v002\\\\18_BGmum_TIEDOWN'),\n",
      " ('datasets\\\\RAW_DATA-20220610T141404Z-001\\\\RAW_DATA\\\\SH_0030\\\\v002\\\\19_BGguy_LINE',\n",
      "  'datasets\\\\RAW_DATA-20220610T141404Z-001\\\\RAW_DATA\\\\SH_0030\\\\v002\\\\23_BGguyTIEDOWN'),\n",
      " ('datasets\\\\RAW_DATA-20220610T141404Z-001\\\\RAW_DATA\\\\SH_0030\\\\v002\\\\26_BGwomanLINE',\n",
      "  'datasets\\\\RAW_DATA-20220610T141404Z-001\\\\RAW_DATA\\\\SH_0030\\\\v002\\\\29_BGwomanTD'),\n",
      " ('datasets\\\\RAW_DATA-20220610T141404Z-001\\\\RAW_DATA\\\\SH_0030\\\\v002\\\\30_BGoldmanLINE',\n",
      "  'datasets\\\\RAW_DATA-20220610T141404Z-001\\\\RAW_DATA\\\\SH_0030\\\\v002\\\\33_BGoldmanTD'),\n",
      " ('datasets\\\\RAW_DATA-20220610T141404Z-001\\\\RAW_DATA\\\\SH_0040\\\\v002\\\\18_Line_Kurt',\n",
      "  'datasets\\\\RAW_DATA-20220610T141404Z-001\\\\RAW_DATA\\\\SH_0040\\\\v002\\\\22_TD_Kurt'),\n",
      " ('datasets\\\\RAW_DATA-20220610T141404Z-001\\\\RAW_DATA\\\\SH_0040\\\\v002\\\\26_Line_C_and_J',\n",
      "  'datasets\\\\RAW_DATA-20220610T141404Z-001\\\\RAW_DATA\\\\SH_0040\\\\v002\\\\31_TD_Line_C_and_J'),\n",
      " ('datasets\\\\RAW_DATA-20220610T141404Z-001\\\\RAW_DATA\\\\SH_0050\\\\v002\\\\01_KURT_BODY_LINE',\n",
      "  'datasets\\\\RAW_DATA-20220610T141404Z-001\\\\RAW_DATA\\\\SH_0050\\\\v002\\\\04_KURT_TD'),\n",
      " ('datasets\\\\RAW_DATA-20220610T141404Z-001\\\\RAW_DATA\\\\SH_0050\\\\v002\\\\07_CONNIE_LINE',\n",
      "  'datasets\\\\RAW_DATA-20220610T141404Z-001\\\\RAW_DATA\\\\SH_0050\\\\v002\\\\12_CONNIE_TD'),\n",
      " ('datasets\\\\RAW_DATA-20220610T141404Z-001\\\\RAW_DATA\\\\SH_0070\\\\v001\\\\07_LINE',\n",
      "  'datasets\\\\RAW_DATA-20220610T141404Z-001\\\\RAW_DATA\\\\SH_0070\\\\v001\\\\10_TD'),\n",
      " ('datasets\\\\RAW_DATA-20220610T141404Z-001\\\\RAW_DATA\\\\SH_0080\\\\v001\\\\05_LINE',\n",
      "  'datasets\\\\RAW_DATA-20220610T141404Z-001\\\\RAW_DATA\\\\SH_0080\\\\v001\\\\08_TD'),\n",
      " ('datasets\\\\RAW_DATA-20220610T141404Z-001\\\\RAW_DATA\\\\SH_0090\\\\v001\\\\01_CONNIE_LINE',\n",
      "  'datasets\\\\RAW_DATA-20220610T141404Z-001\\\\RAW_DATA\\\\SH_0090\\\\v001\\\\05_CONNIE_TD'),\n",
      " ('datasets\\\\RAW_DATA-20220610T141404Z-001\\\\RAW_DATA\\\\SH_0100\\\\v001\\\\06_CONNIE_Line',\n",
      "  'datasets\\\\RAW_DATA-20220610T141404Z-001\\\\RAW_DATA\\\\SH_0100\\\\v001\\\\09_CONNIE_TD')}\n"
     ]
    }
   ],
   "source": [
    "line_paths = {}\n",
    "fill_paths = {}\n",
    "tied_paths = {}\n",
    "\n",
    "line_match = re.compile(r'line|clean', re.IGNORECASE)\n",
    "line_sub = re.compile(r'line|clean|body|_', re.IGNORECASE)\n",
    "\n",
    "fill_match = re.compile(r'colour|col|fill', re.IGNORECASE)\n",
    "fill_sub = re.compile(r'colour|col|fill|line|_', re.IGNORECASE)\n",
    "\n",
    "tied_match = re.compile(r'td|tiedown', re.IGNORECASE)\n",
    "tied_sub = re.compile(r'td|tiedown|line|_', re.IGNORECASE)\n",
    "\n",
    "\n",
    "for ident, path in uni_im_folders.items():\n",
    "    \n",
    "    comps = ident.split('-')\n",
    "    last_comp = comps[-1]\n",
    "    prev_folders_ident = '-'.join(comps[:-1])  # ensure parent folders are the same except character parts folder\n",
    "    \n",
    "    if line_match.search(last_comp) is not None:\n",
    "        last_comp_ident = line_sub.sub('', last_comp)\n",
    "        line_paths[prev_folders_ident + last_comp_ident] = path\n",
    "    \n",
    "    if fill_match.search(last_comp) is not None:\n",
    "        last_comp_ident = fill_sub.sub('', last_comp)\n",
    "        fill_paths[prev_folders_ident + last_comp_ident] = path\n",
    "        \n",
    "    if tied_match.search(last_comp) is not None:\n",
    "        last_comp_ident = tied_sub.sub('', last_comp)\n",
    "        tied_paths[prev_folders_ident + last_comp_ident] = path\n",
    "\n",
    "\n",
    "line_fill_matched_dir = set()\n",
    "line_tied_matched_dir = set()\n",
    "for line_ident in line_paths.keys():\n",
    "    if line_ident in fill_paths and line_paths[line_ident] != fill_paths[line_ident]:\n",
    "        line_fill_matched_dir.add((line_paths[line_ident], fill_paths[line_ident]))\n",
    "    \n",
    "    if line_ident in tied_paths and line_paths[line_ident] != tied_paths[line_ident]:\n",
    "        line_tied_matched_dir.add((line_paths[line_ident], tied_paths[line_ident]))\n",
    "        \n",
    "pprint(line_tied_matched_dir)"
   ]
  },
  {
   "cell_type": "code",
   "execution_count": 8,
   "id": "0a43f98b",
   "metadata": {
    "ExecuteTime": {
     "end_time": "2022-06-11T22:14:28.142808Z",
     "start_time": "2022-06-11T22:14:28.129643Z"
    },
    "scrolled": true
   },
   "outputs": [
    {
     "name": "stdout",
     "output_type": "stream",
     "text": [
      "{('datasets\\\\RAW_DATA-20220610T141404Z-001\\\\RAW_DATA\\\\SH_0030\\\\v002\\\\01_FGCHarcterLine',\n",
      "  'datasets\\\\RAW_DATA-20220610T141404Z-001\\\\RAW_DATA\\\\SH_0030\\\\v002\\\\04_FGCHarcter_fill'),\n",
      " ('datasets\\\\RAW_DATA-20220610T141404Z-001\\\\RAW_DATA\\\\SH_0030\\\\v002\\\\08_BGkidLINE',\n",
      "  'datasets\\\\RAW_DATA-20220610T141404Z-001\\\\RAW_DATA\\\\SH_0030\\\\v002\\\\11_BGkidFILL'),\n",
      " ('datasets\\\\RAW_DATA-20220610T141404Z-001\\\\RAW_DATA\\\\SH_0030\\\\v002\\\\14_BGmum_LINE',\n",
      "  'datasets\\\\RAW_DATA-20220610T141404Z-001\\\\RAW_DATA\\\\SH_0030\\\\v002\\\\16_BGmum_FILL'),\n",
      " ('datasets\\\\RAW_DATA-20220610T141404Z-001\\\\RAW_DATA\\\\SH_0030\\\\v002\\\\19_BGguy_LINE',\n",
      "  'datasets\\\\RAW_DATA-20220610T141404Z-001\\\\RAW_DATA\\\\SH_0030\\\\v002\\\\21_BGguy_FILL'),\n",
      " ('datasets\\\\RAW_DATA-20220610T141404Z-001\\\\RAW_DATA\\\\SH_0030\\\\v002\\\\26_BGwomanLINE',\n",
      "  'datasets\\\\RAW_DATA-20220610T141404Z-001\\\\RAW_DATA\\\\SH_0030\\\\v002\\\\28_BGwomanFILL'),\n",
      " ('datasets\\\\RAW_DATA-20220610T141404Z-001\\\\RAW_DATA\\\\SH_0030\\\\v002\\\\30_BGoldmanLINE',\n",
      "  'datasets\\\\RAW_DATA-20220610T141404Z-001\\\\RAW_DATA\\\\SH_0030\\\\v002\\\\32_BGoldmanFILL'),\n",
      " ('datasets\\\\RAW_DATA-20220610T141404Z-001\\\\RAW_DATA\\\\SH_0040\\\\v002\\\\18_Line_Kurt',\n",
      "  'datasets\\\\RAW_DATA-20220610T141404Z-001\\\\RAW_DATA\\\\SH_0040\\\\v002\\\\20_COL_Kurt'),\n",
      " ('datasets\\\\RAW_DATA-20220610T141404Z-001\\\\RAW_DATA\\\\SH_0040\\\\v002\\\\26_Line_C_and_J',\n",
      "  'datasets\\\\RAW_DATA-20220610T141404Z-001\\\\RAW_DATA\\\\SH_0040\\\\v002\\\\30_COL_Line_C_and_J'),\n",
      " ('datasets\\\\RAW_DATA-20220610T141404Z-001\\\\RAW_DATA\\\\SH_0050\\\\v002\\\\01_KURT_BODY_LINE',\n",
      "  'datasets\\\\RAW_DATA-20220610T141404Z-001\\\\RAW_DATA\\\\SH_0050\\\\v002\\\\03_KURT_COL'),\n",
      " ('datasets\\\\RAW_DATA-20220610T141404Z-001\\\\RAW_DATA\\\\SH_0050\\\\v002\\\\07_CONNIE_LINE',\n",
      "  'datasets\\\\RAW_DATA-20220610T141404Z-001\\\\RAW_DATA\\\\SH_0050\\\\v002\\\\11_CONNIE_COL'),\n",
      " ('datasets\\\\RAW_DATA-20220610T141404Z-001\\\\RAW_DATA\\\\SH_0070\\\\v001\\\\07_LINE',\n",
      "  'datasets\\\\RAW_DATA-20220610T141404Z-001\\\\RAW_DATA\\\\SH_0070\\\\v001\\\\09_COL'),\n",
      " ('datasets\\\\RAW_DATA-20220610T141404Z-001\\\\RAW_DATA\\\\SH_0080\\\\v001\\\\05_LINE',\n",
      "  'datasets\\\\RAW_DATA-20220610T141404Z-001\\\\RAW_DATA\\\\SH_0080\\\\v001\\\\07_COLOUR'),\n",
      " ('datasets\\\\RAW_DATA-20220610T141404Z-001\\\\RAW_DATA\\\\SH_0090\\\\v001\\\\01_CONNIE_LINE',\n",
      "  'datasets\\\\RAW_DATA-20220610T141404Z-001\\\\RAW_DATA\\\\SH_0090\\\\v001\\\\04_CONNIE_COLOUR'),\n",
      " ('datasets\\\\RAW_DATA-20220610T141404Z-001\\\\RAW_DATA\\\\SH_0100\\\\v001\\\\06_CONNIE_Line',\n",
      "  'datasets\\\\RAW_DATA-20220610T141404Z-001\\\\RAW_DATA\\\\SH_0100\\\\v001\\\\07_CONNIE_COL')}\n"
     ]
    }
   ],
   "source": [
    "pprint(line_fill_matched_dir)"
   ]
  },
  {
   "cell_type": "code",
   "execution_count": 9,
   "id": "9dff2f09",
   "metadata": {
    "ExecuteTime": {
     "end_time": "2022-06-11T22:14:28.158219Z",
     "start_time": "2022-06-11T22:14:28.145807Z"
    }
   },
   "outputs": [
    {
     "name": "stdout",
     "output_type": "stream",
     "text": [
      "{('datasets\\\\RAW_DATA-20220610T141404Z-001\\\\RAW_DATA\\\\SH_0030\\\\v002\\\\08_BGkidLINE',\n",
      "  'datasets\\\\RAW_DATA-20220610T141404Z-001\\\\RAW_DATA\\\\SH_0030\\\\v002\\\\13_BGkid_TIEDOWN'),\n",
      " ('datasets\\\\RAW_DATA-20220610T141404Z-001\\\\RAW_DATA\\\\SH_0030\\\\v002\\\\14_BGmum_LINE',\n",
      "  'datasets\\\\RAW_DATA-20220610T141404Z-001\\\\RAW_DATA\\\\SH_0030\\\\v002\\\\18_BGmum_TIEDOWN'),\n",
      " ('datasets\\\\RAW_DATA-20220610T141404Z-001\\\\RAW_DATA\\\\SH_0030\\\\v002\\\\19_BGguy_LINE',\n",
      "  'datasets\\\\RAW_DATA-20220610T141404Z-001\\\\RAW_DATA\\\\SH_0030\\\\v002\\\\23_BGguyTIEDOWN'),\n",
      " ('datasets\\\\RAW_DATA-20220610T141404Z-001\\\\RAW_DATA\\\\SH_0030\\\\v002\\\\26_BGwomanLINE',\n",
      "  'datasets\\\\RAW_DATA-20220610T141404Z-001\\\\RAW_DATA\\\\SH_0030\\\\v002\\\\29_BGwomanTD'),\n",
      " ('datasets\\\\RAW_DATA-20220610T141404Z-001\\\\RAW_DATA\\\\SH_0030\\\\v002\\\\30_BGoldmanLINE',\n",
      "  'datasets\\\\RAW_DATA-20220610T141404Z-001\\\\RAW_DATA\\\\SH_0030\\\\v002\\\\33_BGoldmanTD'),\n",
      " ('datasets\\\\RAW_DATA-20220610T141404Z-001\\\\RAW_DATA\\\\SH_0040\\\\v002\\\\18_Line_Kurt',\n",
      "  'datasets\\\\RAW_DATA-20220610T141404Z-001\\\\RAW_DATA\\\\SH_0040\\\\v002\\\\22_TD_Kurt'),\n",
      " ('datasets\\\\RAW_DATA-20220610T141404Z-001\\\\RAW_DATA\\\\SH_0040\\\\v002\\\\26_Line_C_and_J',\n",
      "  'datasets\\\\RAW_DATA-20220610T141404Z-001\\\\RAW_DATA\\\\SH_0040\\\\v002\\\\31_TD_Line_C_and_J'),\n",
      " ('datasets\\\\RAW_DATA-20220610T141404Z-001\\\\RAW_DATA\\\\SH_0050\\\\v002\\\\01_KURT_BODY_LINE',\n",
      "  'datasets\\\\RAW_DATA-20220610T141404Z-001\\\\RAW_DATA\\\\SH_0050\\\\v002\\\\04_KURT_TD'),\n",
      " ('datasets\\\\RAW_DATA-20220610T141404Z-001\\\\RAW_DATA\\\\SH_0050\\\\v002\\\\07_CONNIE_LINE',\n",
      "  'datasets\\\\RAW_DATA-20220610T141404Z-001\\\\RAW_DATA\\\\SH_0050\\\\v002\\\\12_CONNIE_TD'),\n",
      " ('datasets\\\\RAW_DATA-20220610T141404Z-001\\\\RAW_DATA\\\\SH_0070\\\\v001\\\\07_LINE',\n",
      "  'datasets\\\\RAW_DATA-20220610T141404Z-001\\\\RAW_DATA\\\\SH_0070\\\\v001\\\\10_TD'),\n",
      " ('datasets\\\\RAW_DATA-20220610T141404Z-001\\\\RAW_DATA\\\\SH_0080\\\\v001\\\\05_LINE',\n",
      "  'datasets\\\\RAW_DATA-20220610T141404Z-001\\\\RAW_DATA\\\\SH_0080\\\\v001\\\\08_TD'),\n",
      " ('datasets\\\\RAW_DATA-20220610T141404Z-001\\\\RAW_DATA\\\\SH_0090\\\\v001\\\\01_CONNIE_LINE',\n",
      "  'datasets\\\\RAW_DATA-20220610T141404Z-001\\\\RAW_DATA\\\\SH_0090\\\\v001\\\\05_CONNIE_TD'),\n",
      " ('datasets\\\\RAW_DATA-20220610T141404Z-001\\\\RAW_DATA\\\\SH_0100\\\\v001\\\\06_CONNIE_Line',\n",
      "  'datasets\\\\RAW_DATA-20220610T141404Z-001\\\\RAW_DATA\\\\SH_0100\\\\v001\\\\09_CONNIE_TD')}\n"
     ]
    }
   ],
   "source": [
    "pprint(line_tied_matched_dir)"
   ]
  },
  {
   "cell_type": "code",
   "execution_count": 10,
   "id": "c5e1b5c9",
   "metadata": {
    "ExecuteTime": {
     "end_time": "2022-06-11T22:14:28.174221Z",
     "start_time": "2022-06-11T22:14:28.160218Z"
    }
   },
   "outputs": [],
   "source": [
    "def matched_dir_to_im_paths(matched_dir):\n",
    "    im_paths = []\n",
    "    for dir_A, dir_B in matched_dir:\n",
    "        dir_A_im_paths = sorted(find_all_image_paths(dir_A))\n",
    "        dir_B_im_paths = sorted(find_all_image_paths(dir_B))\n",
    "\n",
    "        for path_A, path_B in zip(dir_A_im_paths, dir_B_im_paths):\n",
    "            im_paths.append((path_A, path_B))\n",
    "\n",
    "    return im_paths"
   ]
  },
  {
   "cell_type": "code",
   "execution_count": 11,
   "id": "0d129c71",
   "metadata": {
    "ExecuteTime": {
     "end_time": "2022-06-11T22:14:28.204608Z",
     "start_time": "2022-06-11T22:14:28.175419Z"
    }
   },
   "outputs": [
    {
     "name": "stdout",
     "output_type": "stream",
     "text": [
      "783\n"
     ]
    }
   ],
   "source": [
    "line_fill_matched_im_paths = matched_dir_to_im_paths(line_fill_matched_dir)\n",
    "\n",
    "print(len(line_fill_matched_im_paths))"
   ]
  },
  {
   "cell_type": "code",
   "execution_count": 12,
   "id": "18552d21",
   "metadata": {
    "ExecuteTime": {
     "end_time": "2022-06-11T22:14:28.235112Z",
     "start_time": "2022-06-11T22:14:28.206606Z"
    }
   },
   "outputs": [
    {
     "name": "stdout",
     "output_type": "stream",
     "text": [
      "732\n"
     ]
    }
   ],
   "source": [
    "line_tied_matched_im_paths = matched_dir_to_im_paths(line_tied_matched_dir)\n",
    "\n",
    "print(len(line_tied_matched_im_paths))"
   ]
  },
  {
   "cell_type": "code",
   "execution_count": 13,
   "id": "8c24911e",
   "metadata": {
    "ExecuteTime": {
     "end_time": "2022-06-11T22:14:28.250038Z",
     "start_time": "2022-06-11T22:14:28.237040Z"
    }
   },
   "outputs": [
    {
     "name": "stdout",
     "output_type": "stream",
     "text": [
      "Identifier: RAW_DATA-20220610T141404Z-001\n",
      "Output Dataset Directory [line_fill]: ./datasets/processed/line_fill\n",
      "Number of inputs: 783\n",
      "Identifier: RAW_DATA-20220610T141404Z-001\n",
      "Output Dataset Directory [line_tied]: ./datasets/processed/line_tied\n",
      "Number of inputs: 732\n"
     ]
    }
   ],
   "source": [
    "def process_matched_images(matched_im_paths, name='line_fill'):\n",
    "    \n",
    "    input_dataset_folder = os.path.basename(os.path.normpath(INPUT_DATASET_ROOT))\n",
    "    identifer = input_dataset_folder\n",
    "    \n",
    "    print(f'Identifier: {input_dataset_folder}')\n",
    "    \n",
    "    output_path = os.path.join(OUTPUT_DATASET_ROOT, name)\n",
    "    \n",
    "    print(f'Output Dataset Directory [{name}]: {output_path}')\n",
    "    \n",
    "    Path(output_path).mkdir(parents=True, exist_ok=True)\n",
    "    \n",
    "    worker_inputs = []\n",
    "    for i, (path_A, path_B) in enumerate(matched_im_paths, 1):\n",
    "        save_path = os.path.join(output_path, f'{identifer}_{i}.jpg')\n",
    "        worker_inputs.append((path_A, path_B, save_path, len(worker_inputs)))\n",
    "    \n",
    "    print(f'Number of inputs: {len(worker_inputs)}')\n",
    "    \n",
    "    return worker_inputs, output_path\n",
    "\n",
    "\n",
    "# set up worker input\n",
    "line_fill_worker_inputs, line_fill_output_path = process_matched_images(line_fill_matched_im_paths, name='line_fill')\n",
    "line_tied_worker_inputs, line_tied_output_path = process_matched_images(line_tied_matched_im_paths, name='line_tied')"
   ]
  },
  {
   "cell_type": "code",
   "execution_count": 14,
   "id": "11bc7a26",
   "metadata": {
    "ExecuteTime": {
     "end_time": "2022-06-11T22:14:28.265254Z",
     "start_time": "2022-06-11T22:14:28.251040Z"
    }
   },
   "outputs": [],
   "source": [
    "# multithreading worker method\n",
    "def process(paths):\n",
    "    line_path, fill_path, save_path, i = paths\n",
    "    \n",
    "    # read image\n",
    "    im_A = Image.open(line_path)\n",
    "    im_B = Image.open(fill_path)\n",
    "\n",
    "    # crop to non empty region\n",
    "    non_empty_coord = im_A.getbbox()\n",
    "    \n",
    "    if non_empty_coord is None:\n",
    "        # empty image\n",
    "        return None, i\n",
    "    \n",
    "    im_A = im_A.crop(non_empty_coord)\n",
    "    im_B = im_B.crop(non_empty_coord)\n",
    "    \n",
    "    # pad and resize to square\n",
    "    size = 512\n",
    "    im_A = ImageOps.pad(im_A, (size, size), method=Image.BICUBIC, color='rgba(0,0,0,0)')\n",
    "    im_B = ImageOps.pad(im_B, (size, size), method=Image.BICUBIC, color='rgba(0,0,0,0)')\n",
    "    \n",
    "    # combine\n",
    "    im = Image.new('RGBA', (size * 2, size))\n",
    "    im.paste(im_A, (0, 0))\n",
    "    im.paste(im_B, (size, 0))\n",
    "    \n",
    "    # convert to RGB, do not use .convert('RGB') as it gives black background\n",
    "    rgb = Image.new(\"RGB\", im.size, (255, 255, 255))\n",
    "    rgb.paste(im, mask=im.split()[3])\n",
    "\n",
    "    rgb.save(save_path)\n",
    "    return imagehash.dhash(rgb), i"
   ]
  },
  {
   "cell_type": "code",
   "execution_count": 15,
   "id": "336360d7",
   "metadata": {
    "ExecuteTime": {
     "end_time": "2022-06-11T22:14:28.280546Z",
     "start_time": "2022-06-11T22:14:28.267254Z"
    }
   },
   "outputs": [],
   "source": [
    "def multithreading_process(process_method, worker_inputs):\n",
    "    seen = set()\n",
    "    valids = 0\n",
    "    dups = []\n",
    "    empties = 0\n",
    "    \n",
    "    with Pool(8) as pool:\n",
    "        for im_hash, i in tqdm(pool.imap_unordered(process_method, worker_inputs), total=len(worker_inputs)):\n",
    "            if im_hash is not None:\n",
    "                valids += 1\n",
    "\n",
    "                # check duplicates\n",
    "                if im_hash in seen:\n",
    "                    dups.append(worker_inputs[i][2])  # for later delete file\n",
    "                else:\n",
    "                    seen.add(im_hash)\n",
    "            else:\n",
    "                empties += 1\n",
    "\n",
    "    # remove duplicates\n",
    "    for p in dups:\n",
    "        Path(p).unlink(missing_ok=False)\n",
    "\n",
    "    print(f'Amount of            data: {len(worker_inputs)}')    \n",
    "    print(f'+-Amount of     empty  data: {empties}')\n",
    "    print(f'+-Amount of non empty  data: {valids}')\n",
    "    print(f'  +-Amount of duplicates data: {len(dups)}')\n",
    "    print(f'  +-Amount of remaining  data: {len(seen)}')"
   ]
  },
  {
   "cell_type": "code",
   "execution_count": 16,
   "id": "5959cba4",
   "metadata": {
    "ExecuteTime": {
     "end_time": "2022-06-11T22:14:54.221600Z",
     "start_time": "2022-06-11T22:14:28.282647Z"
    }
   },
   "outputs": [
    {
     "data": {
      "application/vnd.jupyter.widget-view+json": {
       "model_id": "5b4c707efde14bb28bb6dc77e640fc79",
       "version_major": 2,
       "version_minor": 0
      },
      "text/plain": [
       "  0%|          | 0/783 [00:00<?, ?it/s]"
      ]
     },
     "metadata": {},
     "output_type": "display_data"
    },
    {
     "name": "stdout",
     "output_type": "stream",
     "text": [
      "Amount of            data: 783\n",
      "+-Amount of     empty  data: 2\n",
      "+-Amount of non empty  data: 781\n",
      "  +-Amount of duplicates data: 563\n",
      "  +-Amount of remaining  data: 218\n"
     ]
    }
   ],
   "source": [
    "multithreading_process(process, line_fill_worker_inputs)"
   ]
  },
  {
   "cell_type": "code",
   "execution_count": 17,
   "id": "2da371d8",
   "metadata": {
    "ExecuteTime": {
     "end_time": "2022-06-11T22:15:18.305918Z",
     "start_time": "2022-06-11T22:14:54.224602Z"
    }
   },
   "outputs": [
    {
     "data": {
      "application/vnd.jupyter.widget-view+json": {
       "model_id": "40e4509786eb4433b1c44295ea7a7afa",
       "version_major": 2,
       "version_minor": 0
      },
      "text/plain": [
       "  0%|          | 0/732 [00:00<?, ?it/s]"
      ]
     },
     "metadata": {},
     "output_type": "display_data"
    },
    {
     "name": "stdout",
     "output_type": "stream",
     "text": [
      "Amount of            data: 732\n",
      "+-Amount of     empty  data: 2\n",
      "+-Amount of non empty  data: 730\n",
      "  +-Amount of duplicates data: 511\n",
      "  +-Amount of remaining  data: 219\n"
     ]
    }
   ],
   "source": [
    "multithreading_process(process, line_tied_worker_inputs)"
   ]
  },
  {
   "cell_type": "markdown",
   "id": "ea6fc83e",
   "metadata": {},
   "source": [
    "## Train Test Split"
   ]
  },
  {
   "cell_type": "code",
   "execution_count": 21,
   "id": "0b755144",
   "metadata": {
    "ExecuteTime": {
     "end_time": "2022-06-11T22:17:56.205532Z",
     "start_time": "2022-06-11T22:17:55.979383Z"
    }
   },
   "outputs": [
    {
     "name": "stdout",
     "output_type": "stream",
     "text": [
      "Number of training samples: 172\n",
      "Number of testing  samples: 43\n"
     ]
    },
    {
     "data": {
      "application/vnd.jupyter.widget-view+json": {
       "model_id": "196f199c1be745a7b94014d2304ccced",
       "version_major": 2,
       "version_minor": 0
      },
      "text/plain": [
       "  0%|          | 0/172 [00:00<?, ?it/s]"
      ]
     },
     "metadata": {},
     "output_type": "display_data"
    },
    {
     "data": {
      "application/vnd.jupyter.widget-view+json": {
       "model_id": "38d86b09d74e489eadb056d8dd60470b",
       "version_major": 2,
       "version_minor": 0
      },
      "text/plain": [
       "  0%|          | 0/43 [00:00<?, ?it/s]"
      ]
     },
     "metadata": {},
     "output_type": "display_data"
    },
    {
     "name": "stdout",
     "output_type": "stream",
     "text": [
      "Number of training samples: 175\n",
      "Number of testing  samples: 44\n"
     ]
    },
    {
     "data": {
      "application/vnd.jupyter.widget-view+json": {
       "model_id": "da3cd9afd32f4105ae0d1a5e4c70ea84",
       "version_major": 2,
       "version_minor": 0
      },
      "text/plain": [
       "  0%|          | 0/175 [00:00<?, ?it/s]"
      ]
     },
     "metadata": {},
     "output_type": "display_data"
    },
    {
     "data": {
      "application/vnd.jupyter.widget-view+json": {
       "model_id": "2f642bdace104488a61b5c0166880072",
       "version_major": 2,
       "version_minor": 0
      },
      "text/plain": [
       "  0%|          | 0/44 [00:00<?, ?it/s]"
      ]
     },
     "metadata": {},
     "output_type": "display_data"
    }
   ],
   "source": [
    "def split_dataset(dataset_path):\n",
    "    train_out_folder = os.path.join(dataset_path, 'train')\n",
    "    test_out_folder = os.path.join(dataset_path, 'test')\n",
    "\n",
    "    Path(train_out_folder).mkdir(parents=True, exist_ok=True)\n",
    "    Path(test_out_folder).mkdir(parents=True, exist_ok=True)\n",
    "    \n",
    "    im_paths = find_all_image_paths(dataset_path, recursive=False)\n",
    "    if len(im_paths) == 0:\n",
    "        print(f'Dataset is empty: {dataset_path}')\n",
    "        return\n",
    "    \n",
    "    train_paths, test_paths = train_test_split(im_paths, \n",
    "                                               train_size=TRAIN_TEST_RATIO, \n",
    "                                               random_state=RANDOM_SEED, \n",
    "                                               shuffle=True)\n",
    "\n",
    "    print(f'Number of training samples: {len(train_paths)}')\n",
    "    print(f'Number of testing  samples: {len(test_paths)}')\n",
    "\n",
    "    # do not specify the specific file so that it raise warning whe file already exists\n",
    "    # to avoid potential training samples.\n",
    "\n",
    "    for train_path in tqdm(train_paths):\n",
    "        shutil.move(train_path, train_out_folder)\n",
    "\n",
    "    for test_path in tqdm(test_paths):\n",
    "        shutil.move(test_path, test_out_folder)\n",
    "        \n",
    "split_dataset(line_fill_output_path)\n",
    "split_dataset(line_tied_output_path)"
   ]
  }
 ],
 "metadata": {
  "kernelspec": {
   "display_name": "Python 3",
   "language": "python",
   "name": "python3"
  },
  "language_info": {
   "codemirror_mode": {
    "name": "ipython",
    "version": 3
   },
   "file_extension": ".py",
   "mimetype": "text/x-python",
   "name": "python",
   "nbconvert_exporter": "python",
   "pygments_lexer": "ipython3",
   "version": "3.8.9"
  }
 },
 "nbformat": 4,
 "nbformat_minor": 5
}

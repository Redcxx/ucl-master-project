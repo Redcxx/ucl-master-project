{
 "cells": [
  {
   "cell_type": "markdown",
   "id": "59656eec",
   "metadata": {},
   "source": [
    "# Imports"
   ]
  },
  {
   "cell_type": "code",
   "execution_count": 1,
   "id": "f9027ef9",
   "metadata": {
    "ExecuteTime": {
     "end_time": "2022-06-01T11:42:38.421351Z",
     "start_time": "2022-06-01T11:42:37.492424Z"
    }
   },
   "outputs": [],
   "source": [
    "import os\n",
    "import re\n",
    "import sys\n",
    "import time\n",
    "import hashlib\n",
    "import shutil\n",
    "from pathlib import Path\n",
    "from pprint import pprint\n",
    "# thread instead of process: https://stackoverflow.com/questions/21198857/python-multiprocessing-example-not-working\n",
    "from multiprocessing.dummy import Pool\n",
    "import multiprocessing\n",
    "\n",
    "from tqdm.notebook import tqdm\n",
    "from PIL import Image, ImageOps, ImageColor\n",
    "from matplotlib import pyplot as plt\n",
    "from sklearn.model_selection import train_test_split"
   ]
  },
  {
   "cell_type": "markdown",
   "id": "3bc06ab1",
   "metadata": {},
   "source": [
    "# Settings"
   ]
  },
  {
   "cell_type": "code",
   "execution_count": 2,
   "id": "6cbb4e00",
   "metadata": {
    "ExecuteTime": {
     "end_time": "2022-06-01T11:42:38.437322Z",
     "start_time": "2022-06-01T11:42:38.422351Z"
    }
   },
   "outputs": [],
   "source": [
    "ROOT_DIR = r'.\\datasets\\RAW_DATA-20220516T194619Z-001\\RAW_DATA'  # containing shots\n",
    "DATASET_ROOT_DIR = r'./datasets/processed_data'  # output dir\n",
    "TRAIN_TEST_RATIO = 0.8\n",
    "RANDOM_SEED = 42"
   ]
  },
  {
   "cell_type": "markdown",
   "id": "680c46f8",
   "metadata": {},
   "source": [
    "## Folder Structure\n",
    "- RAW_DATA: 1\n",
    "    - [SHOT_NAME]: n\n",
    "        - [CHAR_NAME]: n\n",
    "            - ?cleanup|spotkeys\n",
    "                - ?[number]\\_[type]\\_[other]:   type = line / clean  --> line\n",
    "                - ?[number]\\_[type]\\_[other]:   type = fill / col    --> color"
   ]
  },
  {
   "cell_type": "markdown",
   "id": "473c9ccd",
   "metadata": {},
   "source": [
    "# Utilities"
   ]
  },
  {
   "cell_type": "code",
   "execution_count": 3,
   "id": "238063e5",
   "metadata": {
    "ExecuteTime": {
     "end_time": "2022-06-01T11:42:38.452359Z",
     "start_time": "2022-06-01T11:42:38.439322Z"
    }
   },
   "outputs": [],
   "source": [
    "IMG_EXTENSIONS = [\n",
    "    '.jpg', '.jpeg',\n",
    "    '.png', '.ppm', '.bmp',\n",
    "    '.tif', '.tiff',\n",
    "]\n",
    "\n",
    "def is_image_file(filename):\n",
    "    return any(filename.lower().endswith(ext) for ext in IMG_EXTENSIONS)\n",
    "\n",
    "def find_all_image_paths(root):\n",
    "    paths = []\n",
    "    assert os.path.isdir(root)\n",
    "\n",
    "    for root, _, filenames in sorted(os.walk(root)):\n",
    "        for filename in filenames:\n",
    "            if is_image_file(filename):\n",
    "                paths.append(os.path.join(root, filename))\n",
    "    \n",
    "    return paths\n",
    "\n",
    "def find_all_folders(root):\n",
    "    try:\n",
    "        return list(next(os.walk(root))[1])\n",
    "    except StopIteration:\n",
    "        return []"
   ]
  },
  {
   "cell_type": "markdown",
   "id": "b37d9f5e",
   "metadata": {},
   "source": [
    "# Find Mapping Image Pairs"
   ]
  },
  {
   "cell_type": "code",
   "execution_count": 4,
   "id": "057c6dba",
   "metadata": {
    "ExecuteTime": {
     "end_time": "2022-06-01T11:42:38.515322Z",
     "start_time": "2022-06-01T11:42:38.454352Z"
    },
    "scrolled": true
   },
   "outputs": [
    {
     "data": {
      "application/vnd.jupyter.widget-view+json": {
       "model_id": "230ac104bcab42c6a721e98ecef6a878",
       "version_major": 2,
       "version_minor": 0
      },
      "text/plain": [
       "  0%|          | 0/5 [00:00<?, ?it/s]"
      ]
     },
     "metadata": {},
     "output_type": "display_data"
    },
    {
     "name": "stdout",
     "output_type": "stream",
     "text": [
      "\n",
      ".\\datasets\\RAW_DATA-20220516T194619Z-001\\RAW_DATA\\SH_0010\n",
      ".\\datasets\\RAW_DATA-20220516T194619Z-001\\RAW_DATA\\SH_0010\\Connie\\cleanup\n",
      "02_CONNIE_HAIR_LINE -> 03_COL_ConnieHair\n",
      "04_CONNIE_HAND_LINE -> 05_COL_ConnieHand\n",
      "06_LINE_CONNIE_UPPERBODY -> 07_COL_ConnieUpperbody\n",
      "08_LINE_CONNIE_STILL -> 09_COL_ConnieStill\n",
      ".\\datasets\\RAW_DATA-20220516T194619Z-001\\RAW_DATA\\SH_0010\\Connie\\spotkeys\n",
      "01_Line_ConnieHair -> 02_COL_ConnieHair\n",
      "03_Line_ConnieHand -> 04_COL_ConnieHand\n",
      "05_Line_ConnieUpperbody -> 06_COL_ConnieUpperbody\n",
      "07_Line_ConnieStill -> 08_COL_ConnieStill\n",
      ".\\datasets\\RAW_DATA-20220516T194619Z-001\\RAW_DATA\\SH_0010\\OldDude\\cleanup\n",
      "19_OLdDudeLine -> 23_OldDudeCol\n",
      ".\\datasets\\RAW_DATA-20220516T194619Z-001\\RAW_DATA\\SH_0010\\OldDude\\spotkeys\n",
      ".\\datasets\\RAW_DATA-20220516T194619Z-001\\RAW_DATA\\SH_0010\\Ruben\\cleanup\n",
      "24_RubenLine -> 27_RubenCol\n",
      ".\\datasets\\RAW_DATA-20220516T194619Z-001\\RAW_DATA\\SH_0010\\Ruben\\spotkeys\n",
      ".\\datasets\\RAW_DATA-20220516T194619Z-001\\RAW_DATA\\SH_0010\\SleepingDude\\cleanup\n",
      "11_SleepingDude_Clean -> 13_SLeepingDudeCol\n",
      ".\\datasets\\RAW_DATA-20220516T194619Z-001\\RAW_DATA\\SH_0010\\SleepingDude\\spotkeys\n",
      "\n",
      ".\\datasets\\RAW_DATA-20220516T194619Z-001\\RAW_DATA\\SH_0030\n",
      ".\\datasets\\RAW_DATA-20220516T194619Z-001\\RAW_DATA\\SH_0030\\BGguy\\cleanup\n",
      "14_BGguy_LINE -> 16_BGguy_FILL\n",
      ".\\datasets\\RAW_DATA-20220516T194619Z-001\\RAW_DATA\\SH_0030\\BGguy\\spotkeys\n",
      "13_BGguy_LINE -> 15_BGguy_FILL\n",
      ".\\datasets\\RAW_DATA-20220516T194619Z-001\\RAW_DATA\\SH_0030\\BGkid\\cleanup\n",
      "07_BGkidLINE -> 10_BGkidFILL\n",
      ".\\datasets\\RAW_DATA-20220516T194619Z-001\\RAW_DATA\\SH_0030\\BGkid\\spotkeys\n",
      "06_BGkidLINE -> 09_BGkidFILL\n",
      ".\\datasets\\RAW_DATA-20220516T194619Z-001\\RAW_DATA\\SH_0030\\BGmum\\cleanup\n",
      "11_BGmum_LINE -> 13_BGmum_FILL\n",
      ".\\datasets\\RAW_DATA-20220516T194619Z-001\\RAW_DATA\\SH_0030\\BGmum\\spotkeys\n",
      "10_BGmum_LINE -> 12_BGmum_FILL\n",
      ".\\datasets\\RAW_DATA-20220516T194619Z-001\\RAW_DATA\\SH_0030\\BGoldman\\cleanup\n",
      "20_BGoldmanLINE -> 22_BGoldmanFILL\n",
      ".\\datasets\\RAW_DATA-20220516T194619Z-001\\RAW_DATA\\SH_0030\\BGoldman\\spotkeys\n",
      "19_BGoldmanLINE -> 21_BGoldmanFILL\n",
      ".\\datasets\\RAW_DATA-20220516T194619Z-001\\RAW_DATA\\SH_0030\\BGStall\\cleanup\n",
      "23_BGStallCharctersLine -> 25_BGStallCharctersFIll\n",
      ".\\datasets\\RAW_DATA-20220516T194619Z-001\\RAW_DATA\\SH_0030\\BGStall\\spotkeys\n",
      ".\\datasets\\RAW_DATA-20220516T194619Z-001\\RAW_DATA\\SH_0030\\BGwoman\\cleanup\n",
      "17_BGwomanLINE -> 19_BGwomanFILL\n",
      ".\\datasets\\RAW_DATA-20220516T194619Z-001\\RAW_DATA\\SH_0030\\BGwoman\\spotkeys\n",
      "16_BGwomanLINE -> 18_BGwomanFILL\n",
      ".\\datasets\\RAW_DATA-20220516T194619Z-001\\RAW_DATA\\SH_0030\\FGcharacter\\cleanup\n",
      "01_FGCHarcterLine -> 04_FGCHarcterFill\n",
      "05_FGCHarcterLegsClean -> 06_FGCHarcterLegsFill\n",
      ".\\datasets\\RAW_DATA-20220516T194619Z-001\\RAW_DATA\\SH_0030\\FGcharacter\\spotkeys\n",
      "01_FGCHarcterLine -> 03_FGCHarcterFill\n",
      "04_FGCHarcterLegsClean -> 05_FGCHarcterLegsFill\n",
      "\n",
      ".\\datasets\\RAW_DATA-20220516T194619Z-001\\RAW_DATA\\SH_0040\n",
      ".\\datasets\\RAW_DATA-20220516T194619Z-001\\RAW_DATA\\SH_0040\\Connie\\cleanup\n",
      "22_Line_Connie_armTablet -> 24_COL_Connie_armTablet\n",
      "25_Line_Connie -> 27_COL_Connie\n",
      "28_Line_ConnieStill -> 30_COL_ConnieStill\n",
      ".\\datasets\\RAW_DATA-20220516T194619Z-001\\RAW_DATA\\SH_0040\\Connie\\spotkeys\n",
      ".\\datasets\\RAW_DATA-20220516T194619Z-001\\RAW_DATA\\SH_0040\\Janelle\\cleanup\n",
      "19_Line_Janelle_hands -> 21_COL_Janelle_hands\n",
      "31_Line_Janelle_body -> 33_COL_Janelle_body\n",
      "34_Line_JanelleStill -> 36_COL_JanelleStill\n",
      ".\\datasets\\RAW_DATA-20220516T194619Z-001\\RAW_DATA\\SH_0040\\Janelle\\spotkeys\n",
      ".\\datasets\\RAW_DATA-20220516T194619Z-001\\RAW_DATA\\SH_0040\\Kurt\\cleanup\n",
      "10_Line_Kurt -> 12_COL_Kurt\n",
      "13_Line_KurtStill -> 15_COL_KurtStill\n",
      ".\\datasets\\RAW_DATA-20220516T194619Z-001\\RAW_DATA\\SH_0040\\Kurt\\spotkeys\n",
      ".\\datasets\\RAW_DATA-20220516T194619Z-001\\RAW_DATA\\SH_0040\\props\\cleanup\n",
      "06_CushionClean -> 08_CushionFill\n",
      ".\\datasets\\RAW_DATA-20220516T194619Z-001\\RAW_DATA\\SH_0040\\props\\spotkeys\n",
      "\n",
      ".\\datasets\\RAW_DATA-20220516T194619Z-001\\RAW_DATA\\SH_0050\n",
      ".\\datasets\\RAW_DATA-20220516T194619Z-001\\RAW_DATA\\SH_0050\\Connie\\cleanup\n",
      "09_CONNIE_BODY_LINE -> 12_CONNIE_BODY_COL\n",
      "13_CONNIE_HEAD_LINE -> 14_CONNIE_HEAD_COL\n",
      ".\\datasets\\RAW_DATA-20220516T194619Z-001\\RAW_DATA\\SH_0050\\Connie\\spotkeys\n",
      ".\\datasets\\RAW_DATA-20220516T194619Z-001\\RAW_DATA\\SH_0050\\fx\\cleanup\n",
      ".\\datasets\\RAW_DATA-20220516T194619Z-001\\RAW_DATA\\SH_0050\\fx\\spotkeys\n",
      ".\\datasets\\RAW_DATA-20220516T194619Z-001\\RAW_DATA\\SH_0050\\Kurt\\cleanup\n",
      "02_KURT_BODY_LINE -> 03_KURT_BODY_COL\n",
      ".\\datasets\\RAW_DATA-20220516T194619Z-001\\RAW_DATA\\SH_0050\\Kurt\\spotkeys\n",
      "\n",
      ".\\datasets\\RAW_DATA-20220516T194619Z-001\\RAW_DATA\\SH_0060\n",
      ".\\datasets\\RAW_DATA-20220516T194619Z-001\\RAW_DATA\\SH_0060\\Background\\cleanup\n",
      ".\\datasets\\RAW_DATA-20220516T194619Z-001\\RAW_DATA\\SH_0060\\Background\\spotkeys\n",
      ".\\datasets\\RAW_DATA-20220516T194619Z-001\\RAW_DATA\\SH_0060\\cleanup\\cleanup\n",
      ".\\datasets\\RAW_DATA-20220516T194619Z-001\\RAW_DATA\\SH_0060\\cleanup\\spotkeys\n",
      ".\\datasets\\RAW_DATA-20220516T194619Z-001\\RAW_DATA\\SH_0060\\col\\cleanup\n",
      ".\\datasets\\RAW_DATA-20220516T194619Z-001\\RAW_DATA\\SH_0060\\col\\spotkeys\n",
      ".\\datasets\\RAW_DATA-20220516T194619Z-001\\RAW_DATA\\SH_0060\\Connie\\cleanup\n",
      ".\\datasets\\RAW_DATA-20220516T194619Z-001\\RAW_DATA\\SH_0060\\Connie\\spotkeys\n",
      ".\\datasets\\RAW_DATA-20220516T194619Z-001\\RAW_DATA\\SH_0060\\Dad\\cleanup\n",
      ".\\datasets\\RAW_DATA-20220516T194619Z-001\\RAW_DATA\\SH_0060\\Dad\\spotkeys\n",
      ".\\datasets\\RAW_DATA-20220516T194619Z-001\\RAW_DATA\\SH_0060\\Janelle\\cleanup\n",
      ".\\datasets\\RAW_DATA-20220516T194619Z-001\\RAW_DATA\\SH_0060\\Janelle\\spotkeys\n",
      "24_JANELLE_HAIR -> 25_JANELLE_HAIR_COL\n",
      "26_JANELLE_SHIRT -> 27_JANELLE_SHIRT_COL\n",
      ".\\datasets\\RAW_DATA-20220516T194619Z-001\\RAW_DATA\\SH_0060\\Kurt\\cleanup\n",
      ".\\datasets\\RAW_DATA-20220516T194619Z-001\\RAW_DATA\\SH_0060\\Kurt\\spotkeys\n",
      ".\\datasets\\RAW_DATA-20220516T194619Z-001\\RAW_DATA\\SH_0060\\Rando\\cleanup\n",
      ".\\datasets\\RAW_DATA-20220516T194619Z-001\\RAW_DATA\\SH_0060\\Rando\\spotkeys\n",
      ".\\datasets\\RAW_DATA-20220516T194619Z-001\\RAW_DATA\\SH_0060\\Yoyota\\cleanup\n",
      ".\\datasets\\RAW_DATA-20220516T194619Z-001\\RAW_DATA\\SH_0060\\Yoyota\\spotkeys\n"
     ]
    }
   ],
   "source": [
    "clean_line = re.compile(r'line|clean|_', re.IGNORECASE)\n",
    "clean_fill = re.compile(r'col|fill|_', re.IGNORECASE)\n",
    "\n",
    "def process_char_dir(char_dir):\n",
    "    print(char_dir)\n",
    "    \n",
    "    line2fill_map = {}\n",
    "    \n",
    "    part_dirs = find_all_folders(char_dir)\n",
    "    \n",
    "    # map clean to original \n",
    "    clean_line_dirs = {}  \n",
    "    clean_fill_dirs = {}\n",
    "    \n",
    "    # for each part folder:\n",
    "    for part_dir in part_dirs:\n",
    "        \n",
    "        # remove seq no and convert to lower case\n",
    "        clean_folder = part_dir.split('_', maxsplit=1)[1].lower()\n",
    "        \n",
    "        # remove line, clean, _ from the folder name\n",
    "        clean_line_dirs[clean_line.sub('', clean_folder)] = part_dir  # keep track of original folder name\n",
    "        \n",
    "        # remove col, fill, _ from the folder name\n",
    "        clean_fill_dirs[clean_fill.sub('', clean_folder)] = part_dir  # keep track of original folder name\n",
    "\n",
    "    for clean_line_dir in clean_line_dirs:\n",
    "        \n",
    "        if clean_line_dir in clean_fill_dirs:\n",
    "            \n",
    "            line_original_dir = clean_line_dirs[clean_line_dir]\n",
    "            fill_original_dir = clean_fill_dirs[clean_line_dir]\n",
    "            \n",
    "            if line_original_dir != fill_original_dir:  # if its not just a random folder\n",
    "                # we got a matching folder, line -> fill\n",
    "                print(f'{line_original_dir} -> {fill_original_dir}')\n",
    "                line_path = os.path.join(char_dir, line_original_dir)\n",
    "                fill_path = os.path.join(char_dir, fill_original_dir)\n",
    "\n",
    "                line2fill_map[line_path] = fill_path\n",
    "                \n",
    "    return line2fill_map\n",
    "\n",
    "def process_shot_dir(shot_dir):\n",
    "    print()\n",
    "    print(shot_dir)\n",
    "    \n",
    "    line2fill_map = {}\n",
    "    char_names = find_all_folders(shot_dir)\n",
    "    for char in char_names:\n",
    "        \n",
    "        char_dir = os.path.join(shot_dir, char, 'cleanup')\n",
    "        line2fill_map.update(process_char_dir(char_dir))\n",
    "        \n",
    "        char_dir = os.path.join(shot_dir, char, 'spotkeys')\n",
    "        line2fill_map.update(process_char_dir(char_dir))\n",
    "    \n",
    "    return line2fill_map\n",
    "\n",
    "\n",
    "line2fill_map = {}\n",
    "\n",
    "for shot_folder in tqdm(find_all_folders(ROOT_DIR)):\n",
    "    line2fill_map.update(process_shot_dir(os.path.join(ROOT_DIR, shot_folder)))"
   ]
  },
  {
   "cell_type": "code",
   "execution_count": 5,
   "id": "ac69ea5c",
   "metadata": {
    "ExecuteTime": {
     "end_time": "2022-06-01T11:42:38.576356Z",
     "start_time": "2022-06-01T11:42:38.516321Z"
    }
   },
   "outputs": [
    {
     "data": {
      "application/vnd.jupyter.widget-view+json": {
       "model_id": "4ce101bd521f49d09d34840c6edee321",
       "version_major": 2,
       "version_minor": 0
      },
      "text/plain": [
       "  0%|          | 0/40 [00:00<?, ?it/s]"
      ]
     },
     "metadata": {},
     "output_type": "display_data"
    }
   ],
   "source": [
    "line_fill_paths = []\n",
    "for line_path, fill_path in tqdm(line2fill_map.items()):\n",
    "    line_im_paths = sorted(find_all_image_paths(line_path))\n",
    "    fill_im_paths = sorted(find_all_image_paths(fill_path))\n",
    "    line_fill_paths += list(zip(line_im_paths, fill_im_paths))"
   ]
  },
  {
   "cell_type": "markdown",
   "id": "a2da418f",
   "metadata": {},
   "source": [
    "# Process and Create Training Samples"
   ]
  },
  {
   "cell_type": "code",
   "execution_count": 6,
   "id": "24ac0021",
   "metadata": {
    "ExecuteTime": {
     "end_time": "2022-06-01T11:42:38.592323Z",
     "start_time": "2022-06-01T11:42:38.578325Z"
    }
   },
   "outputs": [],
   "source": [
    "def process(paths):\n",
    "    line_path, fill_path, save_path = paths\n",
    "    \n",
    "    # read image\n",
    "    im_A = Image.open(line_path)\n",
    "    im_B = Image.open(fill_path)\n",
    "\n",
    "    # crop to non empty region\n",
    "    non_empty_coord = im_A.getbbox()\n",
    "    \n",
    "    if non_empty_coord is None:\n",
    "        # empty image\n",
    "        return None\n",
    "    \n",
    "    im_A = im_A.crop(non_empty_coord)\n",
    "    im_B = im_B.crop(non_empty_coord)\n",
    "    \n",
    "    # pad and resize to square\n",
    "    size = 512\n",
    "    im_A = ImageOps.pad(im_A, (size, size), method=Image.BICUBIC, color='rgba(0,0,0,0)')\n",
    "    im_B = ImageOps.pad(im_B, (size, size), method=Image.BICUBIC, color='rgba(0,0,0,0)')\n",
    "    \n",
    "    # combine\n",
    "    im = Image.new('RGBA', (size * 2, size))\n",
    "    im.paste(im_A, (0, 0))\n",
    "    im.paste(im_B, (size, 0))\n",
    "    \n",
    "    # convert to RGB, do not use .convert('RGB') as it gives black background\n",
    "    rgb = Image.new(\"RGB\", im.size, (255, 255, 255))\n",
    "    rgb.paste(im, mask=im.split()[3])\n",
    "\n",
    "    rgb.save(save_path)\n",
    "    return rgb"
   ]
  },
  {
   "cell_type": "code",
   "execution_count": 7,
   "id": "83ade74f",
   "metadata": {
    "ExecuteTime": {
     "end_time": "2022-06-01T11:43:36.125506Z",
     "start_time": "2022-06-01T11:42:38.594323Z"
    }
   },
   "outputs": [
    {
     "name": "stdout",
     "output_type": "stream",
     "text": [
      "Output Directory: ./datasets/processed_data\\RAW_DATA\n"
     ]
    },
    {
     "data": {
      "application/vnd.jupyter.widget-view+json": {
       "model_id": "4de100eef66744d69c5236bfa78662db",
       "version_major": 2,
       "version_minor": 0
      },
      "text/plain": [
       "  0%|          | 0/2155 [00:00<?, ?it/s]"
      ]
     },
     "metadata": {},
     "output_type": "display_data"
    },
    {
     "name": "stdout",
     "output_type": "stream",
     "text": [
      "Number of            data pairs: 2155\n",
      "Number of non empty  data pairs: 1477\n",
      "Number of duplicates data pairs: 1104\n",
      "Number of remaining  data pairs: 373\n"
     ]
    }
   ],
   "source": [
    "input_dataset_folder = os.path.basename(os.path.normpath(ROOT_DIR))\n",
    "output_dataset_root = os.path.join(DATASET_ROOT_DIR, input_dataset_folder)\n",
    "\n",
    "print(f'Output Directory: {output_dataset_root}')\n",
    "Path(output_dataset_root).mkdir(parents=True, exist_ok=True)\n",
    "\n",
    "# set up worker input\n",
    "worker_inputs = []\n",
    "for i, (line_path, fill_path) in enumerate(line_fill_paths, 1):\n",
    "    save_path = os.path.join(output_dataset_root, f'{i}.jpg')\n",
    "    worker_inputs.append((line_path, fill_path, save_path)) \n",
    "    \n",
    "valid_pairs = 0\n",
    "seen = set()\n",
    "dups = []\n",
    "remains = 0\n",
    "\n",
    "with Pool(8) as pool:\n",
    "    for i, im in tqdm(enumerate(pool.imap_unordered(process, worker_inputs)), total=len(worker_inputs)):\n",
    "        if im:\n",
    "            valid_pairs += 1\n",
    "            \n",
    "            h = hashlib.sha256(im.tobytes()).hexdigest()\n",
    "            save_path = worker_inputs[i][2]\n",
    "            if h in seen:\n",
    "                dups.append(save_path)  # append the save_path\n",
    "            else:\n",
    "                remains += 1\n",
    "                seen.add(h)\n",
    "\n",
    "# remove duplicates\n",
    "for p in dups:\n",
    "    Path(p).unlink(missing_ok=True)\n",
    "\n",
    "print(f'Number of            data pairs: {len(worker_inputs)}')    \n",
    "print(f'Number of non empty  data pairs: {valid_pairs}')\n",
    "print(f'Number of duplicates data pairs: {len(dups)}')\n",
    "print(f'Number of remaining  data pairs: {remains}')"
   ]
  },
  {
   "cell_type": "markdown",
   "id": "fdfc19a4",
   "metadata": {},
   "source": [
    "# Train Test Split"
   ]
  },
  {
   "cell_type": "code",
   "execution_count": 8,
   "id": "121b1b21",
   "metadata": {
    "ExecuteTime": {
     "end_time": "2022-06-01T11:43:36.360507Z",
     "start_time": "2022-06-01T11:43:36.127507Z"
    }
   },
   "outputs": [
    {
     "name": "stdout",
     "output_type": "stream",
     "text": [
      "Number of training samples: ['./datasets/processed_data\\\\RAW_DATA\\\\1899.jpg', './datasets/processed_data\\\\RAW_DATA\\\\884.jpg', './datasets/processed_data\\\\RAW_DATA\\\\1825.jpg', './datasets/processed_data\\\\RAW_DATA\\\\167.jpg', './datasets/processed_data\\\\RAW_DATA\\\\1008.jpg', './datasets/processed_data\\\\RAW_DATA\\\\1129.jpg', './datasets/processed_data\\\\RAW_DATA\\\\914.jpg', './datasets/processed_data\\\\RAW_DATA\\\\1933.jpg', './datasets/processed_data\\\\RAW_DATA\\\\986.jpg', './datasets/processed_data\\\\RAW_DATA\\\\1440.jpg', './datasets/processed_data\\\\RAW_DATA\\\\1996.jpg', './datasets/processed_data\\\\RAW_DATA\\\\1972.jpg', './datasets/processed_data\\\\RAW_DATA\\\\181.jpg', './datasets/processed_data\\\\RAW_DATA\\\\1911.jpg', './datasets/processed_data\\\\RAW_DATA\\\\794.jpg', './datasets/processed_data\\\\RAW_DATA\\\\605.jpg', './datasets/processed_data\\\\RAW_DATA\\\\1925.jpg', './datasets/processed_data\\\\RAW_DATA\\\\369.jpg', './datasets/processed_data\\\\RAW_DATA\\\\1915.jpg', './datasets/processed_data\\\\RAW_DATA\\\\2091.jpg', './datasets/processed_data\\\\RAW_DATA\\\\896.jpg', './datasets/processed_data\\\\RAW_DATA\\\\791.jpg', './datasets/processed_data\\\\RAW_DATA\\\\1951.jpg', './datasets/processed_data\\\\RAW_DATA\\\\1486.jpg', './datasets/processed_data\\\\RAW_DATA\\\\1649.jpg', './datasets/processed_data\\\\RAW_DATA\\\\2012.jpg', './datasets/processed_data\\\\RAW_DATA\\\\1123.jpg', './datasets/processed_data\\\\RAW_DATA\\\\1448.jpg', './datasets/processed_data\\\\RAW_DATA\\\\1969.jpg', './datasets/processed_data\\\\RAW_DATA\\\\1027.jpg', './datasets/processed_data\\\\RAW_DATA\\\\115.jpg', './datasets/processed_data\\\\RAW_DATA\\\\185.jpg', './datasets/processed_data\\\\RAW_DATA\\\\811.jpg', './datasets/processed_data\\\\RAW_DATA\\\\797.jpg', './datasets/processed_data\\\\RAW_DATA\\\\220.jpg', './datasets/processed_data\\\\RAW_DATA\\\\2015.jpg', './datasets/processed_data\\\\RAW_DATA\\\\440.jpg', './datasets/processed_data\\\\RAW_DATA\\\\953.jpg', './datasets/processed_data\\\\RAW_DATA\\\\82.jpg', './datasets/processed_data\\\\RAW_DATA\\\\1431.jpg', './datasets/processed_data\\\\RAW_DATA\\\\1498.jpg', './datasets/processed_data\\\\RAW_DATA\\\\911.jpg', './datasets/processed_data\\\\RAW_DATA\\\\1878.jpg', './datasets/processed_data\\\\RAW_DATA\\\\783.jpg', './datasets/processed_data\\\\RAW_DATA\\\\739.jpg', './datasets/processed_data\\\\RAW_DATA\\\\1622.jpg', './datasets/processed_data\\\\RAW_DATA\\\\1922.jpg', './datasets/processed_data\\\\RAW_DATA\\\\869.jpg', './datasets/processed_data\\\\RAW_DATA\\\\2009.jpg', './datasets/processed_data\\\\RAW_DATA\\\\1956.jpg', './datasets/processed_data\\\\RAW_DATA\\\\1993.jpg', './datasets/processed_data\\\\RAW_DATA\\\\1957.jpg', './datasets/processed_data\\\\RAW_DATA\\\\92.jpg', './datasets/processed_data\\\\RAW_DATA\\\\894.jpg', './datasets/processed_data\\\\RAW_DATA\\\\1912.jpg', './datasets/processed_data\\\\RAW_DATA\\\\1660.jpg', './datasets/processed_data\\\\RAW_DATA\\\\809.jpg', './datasets/processed_data\\\\RAW_DATA\\\\1939.jpg', './datasets/processed_data\\\\RAW_DATA\\\\190.jpg', './datasets/processed_data\\\\RAW_DATA\\\\1887.jpg', './datasets/processed_data\\\\RAW_DATA\\\\611.jpg', './datasets/processed_data\\\\RAW_DATA\\\\1230.jpg', './datasets/processed_data\\\\RAW_DATA\\\\1822.jpg', './datasets/processed_data\\\\RAW_DATA\\\\662.jpg', './datasets/processed_data\\\\RAW_DATA\\\\762.jpg', './datasets/processed_data\\\\RAW_DATA\\\\738.jpg', './datasets/processed_data\\\\RAW_DATA\\\\1932.jpg', './datasets/processed_data\\\\RAW_DATA\\\\1429.jpg', './datasets/processed_data\\\\RAW_DATA\\\\163.jpg', './datasets/processed_data\\\\RAW_DATA\\\\200.jpg', './datasets/processed_data\\\\RAW_DATA\\\\2019.jpg', './datasets/processed_data\\\\RAW_DATA\\\\102.jpg', './datasets/processed_data\\\\RAW_DATA\\\\368.jpg', './datasets/processed_data\\\\RAW_DATA\\\\2088.jpg', './datasets/processed_data\\\\RAW_DATA\\\\1882.jpg', './datasets/processed_data\\\\RAW_DATA\\\\1063.jpg', './datasets/processed_data\\\\RAW_DATA\\\\1971.jpg', './datasets/processed_data\\\\RAW_DATA\\\\1608.jpg', './datasets/processed_data\\\\RAW_DATA\\\\1502.jpg', './datasets/processed_data\\\\RAW_DATA\\\\1940.jpg', './datasets/processed_data\\\\RAW_DATA\\\\678.jpg', './datasets/processed_data\\\\RAW_DATA\\\\908.jpg', './datasets/processed_data\\\\RAW_DATA\\\\366.jpg', './datasets/processed_data\\\\RAW_DATA\\\\1948.jpg', './datasets/processed_data\\\\RAW_DATA\\\\1903.jpg', './datasets/processed_data\\\\RAW_DATA\\\\2008.jpg', './datasets/processed_data\\\\RAW_DATA\\\\1522.jpg', './datasets/processed_data\\\\RAW_DATA\\\\1926.jpg', './datasets/processed_data\\\\RAW_DATA\\\\1895.jpg', './datasets/processed_data\\\\RAW_DATA\\\\188.jpg', './datasets/processed_data\\\\RAW_DATA\\\\890.jpg', './datasets/processed_data\\\\RAW_DATA\\\\1579.jpg', './datasets/processed_data\\\\RAW_DATA\\\\147.jpg', './datasets/processed_data\\\\RAW_DATA\\\\1669.jpg', './datasets/processed_data\\\\RAW_DATA\\\\1590.jpg', './datasets/processed_data\\\\RAW_DATA\\\\1876.jpg', './datasets/processed_data\\\\RAW_DATA\\\\590.jpg', './datasets/processed_data\\\\RAW_DATA\\\\1593.jpg', './datasets/processed_data\\\\RAW_DATA\\\\1976.jpg', './datasets/processed_data\\\\RAW_DATA\\\\1452.jpg', './datasets/processed_data\\\\RAW_DATA\\\\1163.jpg', './datasets/processed_data\\\\RAW_DATA\\\\1237.jpg', './datasets/processed_data\\\\RAW_DATA\\\\1877.jpg', './datasets/processed_data\\\\RAW_DATA\\\\1665.jpg', './datasets/processed_data\\\\RAW_DATA\\\\780.jpg', './datasets/processed_data\\\\RAW_DATA\\\\1913.jpg', './datasets/processed_data\\\\RAW_DATA\\\\1450.jpg', './datasets/processed_data\\\\RAW_DATA\\\\906.jpg', './datasets/processed_data\\\\RAW_DATA\\\\1949.jpg', './datasets/processed_data\\\\RAW_DATA\\\\1954.jpg', './datasets/processed_data\\\\RAW_DATA\\\\687.jpg', './datasets/processed_data\\\\RAW_DATA\\\\712.jpg', './datasets/processed_data\\\\RAW_DATA\\\\1671.jpg', './datasets/processed_data\\\\RAW_DATA\\\\1879.jpg', './datasets/processed_data\\\\RAW_DATA\\\\86.jpg', './datasets/processed_data\\\\RAW_DATA\\\\1514.jpg', './datasets/processed_data\\\\RAW_DATA\\\\79.jpg', './datasets/processed_data\\\\RAW_DATA\\\\194.jpg', './datasets/processed_data\\\\RAW_DATA\\\\774.jpg', './datasets/processed_data\\\\RAW_DATA\\\\1952.jpg', './datasets/processed_data\\\\RAW_DATA\\\\2003.jpg', './datasets/processed_data\\\\RAW_DATA\\\\59.jpg', './datasets/processed_data\\\\RAW_DATA\\\\1914.jpg', './datasets/processed_data\\\\RAW_DATA\\\\1938.jpg', './datasets/processed_data\\\\RAW_DATA\\\\292.jpg', './datasets/processed_data\\\\RAW_DATA\\\\1985.jpg', './datasets/processed_data\\\\RAW_DATA\\\\291.jpg', './datasets/processed_data\\\\RAW_DATA\\\\1725.jpg', './datasets/processed_data\\\\RAW_DATA\\\\1239.jpg', './datasets/processed_data\\\\RAW_DATA\\\\1068.jpg', './datasets/processed_data\\\\RAW_DATA\\\\2014.jpg', './datasets/processed_data\\\\RAW_DATA\\\\1916.jpg', './datasets/processed_data\\\\RAW_DATA\\\\1958.jpg', './datasets/processed_data\\\\RAW_DATA\\\\1645.jpg', './datasets/processed_data\\\\RAW_DATA\\\\1910.jpg', './datasets/processed_data\\\\RAW_DATA\\\\370.jpg', './datasets/processed_data\\\\RAW_DATA\\\\903.jpg', './datasets/processed_data\\\\RAW_DATA\\\\492.jpg', './datasets/processed_data\\\\RAW_DATA\\\\1654.jpg', './datasets/processed_data\\\\RAW_DATA\\\\882.jpg', './datasets/processed_data\\\\RAW_DATA\\\\2087.jpg', './datasets/processed_data\\\\RAW_DATA\\\\951.jpg', './datasets/processed_data\\\\RAW_DATA\\\\966.jpg', './datasets/processed_data\\\\RAW_DATA\\\\96.jpg', './datasets/processed_data\\\\RAW_DATA\\\\1982.jpg', './datasets/processed_data\\\\RAW_DATA\\\\1896.jpg', './datasets/processed_data\\\\RAW_DATA\\\\915.jpg', './datasets/processed_data\\\\RAW_DATA\\\\1773.jpg', './datasets/processed_data\\\\RAW_DATA\\\\1886.jpg', './datasets/processed_data\\\\RAW_DATA\\\\1929.jpg', './datasets/processed_data\\\\RAW_DATA\\\\1927.jpg', './datasets/processed_data\\\\RAW_DATA\\\\980.jpg', './datasets/processed_data\\\\RAW_DATA\\\\1005.jpg', './datasets/processed_data\\\\RAW_DATA\\\\1970.jpg', './datasets/processed_data\\\\RAW_DATA\\\\1934.jpg', './datasets/processed_data\\\\RAW_DATA\\\\165.jpg', './datasets/processed_data\\\\RAW_DATA\\\\2002.jpg', './datasets/processed_data\\\\RAW_DATA\\\\1983.jpg', './datasets/processed_data\\\\RAW_DATA\\\\1172.jpg', './datasets/processed_data\\\\RAW_DATA\\\\1662.jpg', './datasets/processed_data\\\\RAW_DATA\\\\952.jpg', './datasets/processed_data\\\\RAW_DATA\\\\1953.jpg', './datasets/processed_data\\\\RAW_DATA\\\\1991.jpg', './datasets/processed_data\\\\RAW_DATA\\\\2011.jpg', './datasets/processed_data\\\\RAW_DATA\\\\681.jpg', './datasets/processed_data\\\\RAW_DATA\\\\786.jpg', './datasets/processed_data\\\\RAW_DATA\\\\1984.jpg', './datasets/processed_data\\\\RAW_DATA\\\\1987.jpg', './datasets/processed_data\\\\RAW_DATA\\\\169.jpg', './datasets/processed_data\\\\RAW_DATA\\\\1484.jpg', './datasets/processed_data\\\\RAW_DATA\\\\702.jpg', './datasets/processed_data\\\\RAW_DATA\\\\1180.jpg', './datasets/processed_data\\\\RAW_DATA\\\\1508.jpg', './datasets/processed_data\\\\RAW_DATA\\\\788.jpg', './datasets/processed_data\\\\RAW_DATA\\\\1616.jpg', './datasets/processed_data\\\\RAW_DATA\\\\54.jpg', './datasets/processed_data\\\\RAW_DATA\\\\1745.jpg', './datasets/processed_data\\\\RAW_DATA\\\\419.jpg', './datasets/processed_data\\\\RAW_DATA\\\\1260.jpg', './datasets/processed_data\\\\RAW_DATA\\\\879.jpg', './datasets/processed_data\\\\RAW_DATA\\\\1446.jpg', './datasets/processed_data\\\\RAW_DATA\\\\1512.jpg', './datasets/processed_data\\\\RAW_DATA\\\\1980.jpg', './datasets/processed_data\\\\RAW_DATA\\\\1917.jpg', './datasets/processed_data\\\\RAW_DATA\\\\1891.jpg', './datasets/processed_data\\\\RAW_DATA\\\\107.jpg', './datasets/processed_data\\\\RAW_DATA\\\\1221.jpg', './datasets/processed_data\\\\RAW_DATA\\\\1177.jpg', './datasets/processed_data\\\\RAW_DATA\\\\1901.jpg', './datasets/processed_data\\\\RAW_DATA\\\\1875.jpg', './datasets/processed_data\\\\RAW_DATA\\\\689.jpg', './datasets/processed_data\\\\RAW_DATA\\\\684.jpg', './datasets/processed_data\\\\RAW_DATA\\\\1950.jpg', './datasets/processed_data\\\\RAW_DATA\\\\1587.jpg', './datasets/processed_data\\\\RAW_DATA\\\\1331.jpg', './datasets/processed_data\\\\RAW_DATA\\\\1978.jpg', './datasets/processed_data\\\\RAW_DATA\\\\585.jpg', './datasets/processed_data\\\\RAW_DATA\\\\90.jpg', './datasets/processed_data\\\\RAW_DATA\\\\1909.jpg', './datasets/processed_data\\\\RAW_DATA\\\\1246.jpg', './datasets/processed_data\\\\RAW_DATA\\\\842.jpg', './datasets/processed_data\\\\RAW_DATA\\\\1936.jpg', './datasets/processed_data\\\\RAW_DATA\\\\2020.jpg', './datasets/processed_data\\\\RAW_DATA\\\\1992.jpg', './datasets/processed_data\\\\RAW_DATA\\\\740.jpg', './datasets/processed_data\\\\RAW_DATA\\\\1011.jpg', './datasets/processed_data\\\\RAW_DATA\\\\1994.jpg', './datasets/processed_data\\\\RAW_DATA\\\\841.jpg', './datasets/processed_data\\\\RAW_DATA\\\\1600.jpg', './datasets/processed_data\\\\RAW_DATA\\\\1955.jpg', './datasets/processed_data\\\\RAW_DATA\\\\782.jpg', './datasets/processed_data\\\\RAW_DATA\\\\1942.jpg', './datasets/processed_data\\\\RAW_DATA\\\\1902.jpg', './datasets/processed_data\\\\RAW_DATA\\\\1596.jpg', './datasets/processed_data\\\\RAW_DATA\\\\346.jpg', './datasets/processed_data\\\\RAW_DATA\\\\1944.jpg', './datasets/processed_data\\\\RAW_DATA\\\\1434.jpg', './datasets/processed_data\\\\RAW_DATA\\\\1269.jpg', './datasets/processed_data\\\\RAW_DATA\\\\1204.jpg', './datasets/processed_data\\\\RAW_DATA\\\\2004.jpg', './datasets/processed_data\\\\RAW_DATA\\\\1930.jpg', './datasets/processed_data\\\\RAW_DATA\\\\812.jpg', './datasets/processed_data\\\\RAW_DATA\\\\1174.jpg', './datasets/processed_data\\\\RAW_DATA\\\\672.jpg', './datasets/processed_data\\\\RAW_DATA\\\\196.jpg', './datasets/processed_data\\\\RAW_DATA\\\\1998.jpg', './datasets/processed_data\\\\RAW_DATA\\\\286.jpg', './datasets/processed_data\\\\RAW_DATA\\\\1894.jpg', './datasets/processed_data\\\\RAW_DATA\\\\997.jpg', './datasets/processed_data\\\\RAW_DATA\\\\1820.jpg', './datasets/processed_data\\\\RAW_DATA\\\\1437.jpg', './datasets/processed_data\\\\RAW_DATA\\\\1751.jpg', './datasets/processed_data\\\\RAW_DATA\\\\171.jpg', './datasets/processed_data\\\\RAW_DATA\\\\1028.jpg', './datasets/processed_data\\\\RAW_DATA\\\\1443.jpg', './datasets/processed_data\\\\RAW_DATA\\\\438.jpg', './datasets/processed_data\\\\RAW_DATA\\\\112.jpg', './datasets/processed_data\\\\RAW_DATA\\\\1888.jpg', './datasets/processed_data\\\\RAW_DATA\\\\1243.jpg', './datasets/processed_data\\\\RAW_DATA\\\\876.jpg', './datasets/processed_data\\\\RAW_DATA\\\\704.jpg', './datasets/processed_data\\\\RAW_DATA\\\\1945.jpg', './datasets/processed_data\\\\RAW_DATA\\\\2017.jpg', './datasets/processed_data\\\\RAW_DATA\\\\789.jpg', './datasets/processed_data\\\\RAW_DATA\\\\1974.jpg', './datasets/processed_data\\\\RAW_DATA\\\\1937.jpg', './datasets/processed_data\\\\RAW_DATA\\\\1941.jpg', './datasets/processed_data\\\\RAW_DATA\\\\367.jpg', './datasets/processed_data\\\\RAW_DATA\\\\871.jpg', './datasets/processed_data\\\\RAW_DATA\\\\1989.jpg', './datasets/processed_data\\\\RAW_DATA\\\\976.jpg', './datasets/processed_data\\\\RAW_DATA\\\\872.jpg', './datasets/processed_data\\\\RAW_DATA\\\\512.jpg', './datasets/processed_data\\\\RAW_DATA\\\\2006.jpg', './datasets/processed_data\\\\RAW_DATA\\\\1931.jpg', './datasets/processed_data\\\\RAW_DATA\\\\1893.jpg', './datasets/processed_data\\\\RAW_DATA\\\\1257.jpg', './datasets/processed_data\\\\RAW_DATA\\\\1946.jpg', './datasets/processed_data\\\\RAW_DATA\\\\1920.jpg', './datasets/processed_data\\\\RAW_DATA\\\\588.jpg', './datasets/processed_data\\\\RAW_DATA\\\\1997.jpg', './datasets/processed_data\\\\RAW_DATA\\\\1612.jpg', './datasets/processed_data\\\\RAW_DATA\\\\1333.jpg', './datasets/processed_data\\\\RAW_DATA\\\\1003.jpg', './datasets/processed_data\\\\RAW_DATA\\\\1273.jpg', './datasets/processed_data\\\\RAW_DATA\\\\1500.jpg', './datasets/processed_data\\\\RAW_DATA\\\\1935.jpg', './datasets/processed_data\\\\RAW_DATA\\\\122.jpg', './datasets/processed_data\\\\RAW_DATA\\\\2000.jpg', './datasets/processed_data\\\\RAW_DATA\\\\1575.jpg', './datasets/processed_data\\\\RAW_DATA\\\\74.jpg', './datasets/processed_data\\\\RAW_DATA\\\\1332.jpg', './datasets/processed_data\\\\RAW_DATA\\\\771.jpg', './datasets/processed_data\\\\RAW_DATA\\\\2001.jpg', './datasets/processed_data\\\\RAW_DATA\\\\1979.jpg', './datasets/processed_data\\\\RAW_DATA\\\\1119.jpg', './datasets/processed_data\\\\RAW_DATA\\\\608.jpg', './datasets/processed_data\\\\RAW_DATA\\\\1519.jpg', './datasets/processed_data\\\\RAW_DATA\\\\2010.jpg', './datasets/processed_data\\\\RAW_DATA\\\\1898.jpg', './datasets/processed_data\\\\RAW_DATA\\\\692.jpg', './datasets/processed_data\\\\RAW_DATA\\\\983.jpg', './datasets/processed_data\\\\RAW_DATA\\\\1748.jpg', './datasets/processed_data\\\\RAW_DATA\\\\55.jpg', './datasets/processed_data\\\\RAW_DATA\\\\94.jpg', './datasets/processed_data\\\\RAW_DATA\\\\666.jpg', './datasets/processed_data\\\\RAW_DATA\\\\1981.jpg', './datasets/processed_data\\\\RAW_DATA\\\\1335.jpg', './datasets/processed_data\\\\RAW_DATA\\\\810.jpg', './datasets/processed_data\\\\RAW_DATA\\\\1323.jpg', './datasets/processed_data\\\\RAW_DATA\\\\1905.jpg', './datasets/processed_data\\\\RAW_DATA\\\\192.jpg', './datasets/processed_data\\\\RAW_DATA\\\\995.jpg', './datasets/processed_data\\\\RAW_DATA\\\\1918.jpg', './datasets/processed_data\\\\RAW_DATA\\\\1900.jpg', './datasets/processed_data\\\\RAW_DATA\\\\1423.jpg', './datasets/processed_data\\\\RAW_DATA\\\\127.jpg', './datasets/processed_data\\\\RAW_DATA\\\\768.jpg', './datasets/processed_data\\\\RAW_DATA\\\\1973.jpg', './datasets/processed_data\\\\RAW_DATA\\\\1990.jpg', './datasets/processed_data\\\\RAW_DATA\\\\116.jpg', './datasets/processed_data\\\\RAW_DATA\\\\594.jpg', './datasets/processed_data\\\\RAW_DATA\\\\1892.jpg', './datasets/processed_data\\\\RAW_DATA\\\\2013.jpg', './datasets/processed_data\\\\RAW_DATA\\\\1921.jpg', './datasets/processed_data\\\\RAW_DATA\\\\900.jpg', './datasets/processed_data\\\\RAW_DATA\\\\347.jpg', './datasets/processed_data\\\\RAW_DATA\\\\766.jpg', './datasets/processed_data\\\\RAW_DATA\\\\1995.jpg', './datasets/processed_data\\\\RAW_DATA\\\\587.jpg', './datasets/processed_data\\\\RAW_DATA\\\\1881.jpg', './datasets/processed_data\\\\RAW_DATA\\\\1738.jpg', './datasets/processed_data\\\\RAW_DATA\\\\1883.jpg', './datasets/processed_data\\\\RAW_DATA\\\\802.jpg', './datasets/processed_data\\\\RAW_DATA\\\\1598.jpg', './datasets/processed_data\\\\RAW_DATA\\\\866.jpg', './datasets/processed_data\\\\RAW_DATA\\\\1516.jpg', './datasets/processed_data\\\\RAW_DATA\\\\699.jpg', './datasets/processed_data\\\\RAW_DATA\\\\1943.jpg', './datasets/processed_data\\\\RAW_DATA\\\\1663.jpg', './datasets/processed_data\\\\RAW_DATA\\\\999.jpg', './datasets/processed_data\\\\RAW_DATA\\\\1157.jpg', './datasets/processed_data\\\\RAW_DATA\\\\1919.jpg', './datasets/processed_data\\\\RAW_DATA\\\\1475.jpg', './datasets/processed_data\\\\RAW_DATA\\\\1614.jpg', './datasets/processed_data\\\\RAW_DATA\\\\2007.jpg', './datasets/processed_data\\\\RAW_DATA\\\\779.jpg', './datasets/processed_data\\\\RAW_DATA\\\\1605.jpg']\n",
      "Number of testing  samples: ['./datasets/processed_data\\\\RAW_DATA\\\\1904.jpg', './datasets/processed_data\\\\RAW_DATA\\\\1206.jpg', './datasets/processed_data\\\\RAW_DATA\\\\1472.jpg', './datasets/processed_data\\\\RAW_DATA\\\\81.jpg', './datasets/processed_data\\\\RAW_DATA\\\\864.jpg', './datasets/processed_data\\\\RAW_DATA\\\\1505.jpg', './datasets/processed_data\\\\RAW_DATA\\\\963.jpg', './datasets/processed_data\\\\RAW_DATA\\\\990.jpg', './datasets/processed_data\\\\RAW_DATA\\\\1675.jpg', './datasets/processed_data\\\\RAW_DATA\\\\98.jpg', './datasets/processed_data\\\\RAW_DATA\\\\1510.jpg', './datasets/processed_data\\\\RAW_DATA\\\\1496.jpg', './datasets/processed_data\\\\RAW_DATA\\\\764.jpg', './datasets/processed_data\\\\RAW_DATA\\\\1897.jpg', './datasets/processed_data\\\\RAW_DATA\\\\1890.jpg', './datasets/processed_data\\\\RAW_DATA\\\\1906.jpg', './datasets/processed_data\\\\RAW_DATA\\\\1924.jpg', './datasets/processed_data\\\\RAW_DATA\\\\1907.jpg', './datasets/processed_data\\\\RAW_DATA\\\\104.jpg', './datasets/processed_data\\\\RAW_DATA\\\\1602.jpg', './datasets/processed_data\\\\RAW_DATA\\\\1658.jpg', './datasets/processed_data\\\\RAW_DATA\\\\1999.jpg', './datasets/processed_data\\\\RAW_DATA\\\\1609.jpg', './datasets/processed_data\\\\RAW_DATA\\\\1482.jpg', './datasets/processed_data\\\\RAW_DATA\\\\1523.jpg', './datasets/processed_data\\\\RAW_DATA\\\\119.jpg', './datasets/processed_data\\\\RAW_DATA\\\\1947.jpg', './datasets/processed_data\\\\RAW_DATA\\\\1371.jpg', './datasets/processed_data\\\\RAW_DATA\\\\1581.jpg', './datasets/processed_data\\\\RAW_DATA\\\\2086.jpg', './datasets/processed_data\\\\RAW_DATA\\\\1988.jpg', './datasets/processed_data\\\\RAW_DATA\\\\805.jpg', './datasets/processed_data\\\\RAW_DATA\\\\696.jpg', './datasets/processed_data\\\\RAW_DATA\\\\1650.jpg', './datasets/processed_data\\\\RAW_DATA\\\\1121.jpg', './datasets/processed_data\\\\RAW_DATA\\\\1741.jpg', './datasets/processed_data\\\\RAW_DATA\\\\100.jpg', './datasets/processed_data\\\\RAW_DATA\\\\1646.jpg', './datasets/processed_data\\\\RAW_DATA\\\\713.jpg', './datasets/processed_data\\\\RAW_DATA\\\\1743.jpg', './datasets/processed_data\\\\RAW_DATA\\\\2005.jpg', './datasets/processed_data\\\\RAW_DATA\\\\657.jpg', './datasets/processed_data\\\\RAW_DATA\\\\1986.jpg', './datasets/processed_data\\\\RAW_DATA\\\\1928.jpg', './datasets/processed_data\\\\RAW_DATA\\\\860.jpg', './datasets/processed_data\\\\RAW_DATA\\\\1376.jpg', './datasets/processed_data\\\\RAW_DATA\\\\709.jpg', './datasets/processed_data\\\\RAW_DATA\\\\589.jpg', './datasets/processed_data\\\\RAW_DATA\\\\1884.jpg', './datasets/processed_data\\\\RAW_DATA\\\\1248.jpg', './datasets/processed_data\\\\RAW_DATA\\\\1885.jpg', './datasets/processed_data\\\\RAW_DATA\\\\988.jpg', './datasets/processed_data\\\\RAW_DATA\\\\124.jpg', './datasets/processed_data\\\\RAW_DATA\\\\912.jpg', './datasets/processed_data\\\\RAW_DATA\\\\1170.jpg', './datasets/processed_data\\\\RAW_DATA\\\\888.jpg', './datasets/processed_data\\\\RAW_DATA\\\\669.jpg', './datasets/processed_data\\\\RAW_DATA\\\\1908.jpg', './datasets/processed_data\\\\RAW_DATA\\\\1880.jpg', './datasets/processed_data\\\\RAW_DATA\\\\1160.jpg', './datasets/processed_data\\\\RAW_DATA\\\\516.jpg', './datasets/processed_data\\\\RAW_DATA\\\\1266.jpg', './datasets/processed_data\\\\RAW_DATA\\\\1479.jpg', './datasets/processed_data\\\\RAW_DATA\\\\777.jpg', './datasets/processed_data\\\\RAW_DATA\\\\1493.jpg', './datasets/processed_data\\\\RAW_DATA\\\\1490.jpg', './datasets/processed_data\\\\RAW_DATA\\\\1419.jpg', './datasets/processed_data\\\\RAW_DATA\\\\1977.jpg', './datasets/processed_data\\\\RAW_DATA\\\\1166.jpg', './datasets/processed_data\\\\RAW_DATA\\\\1126.jpg', './datasets/processed_data\\\\RAW_DATA\\\\1625.jpg', './datasets/processed_data\\\\RAW_DATA\\\\1619.jpg', './datasets/processed_data\\\\RAW_DATA\\\\1203.jpg', './datasets/processed_data\\\\RAW_DATA\\\\2018.jpg', './datasets/processed_data\\\\RAW_DATA\\\\1889.jpg', './datasets/processed_data\\\\RAW_DATA\\\\1923.jpg', './datasets/processed_data\\\\RAW_DATA\\\\1975.jpg', './datasets/processed_data\\\\RAW_DATA\\\\675.jpg', './datasets/processed_data\\\\RAW_DATA\\\\708.jpg', './datasets/processed_data\\\\RAW_DATA\\\\1017.jpg', './datasets/processed_data\\\\RAW_DATA\\\\1263.jpg', './datasets/processed_data\\\\RAW_DATA\\\\1584.jpg', './datasets/processed_data\\\\RAW_DATA\\\\287.jpg']\n"
     ]
    },
    {
     "data": {
      "application/vnd.jupyter.widget-view+json": {
       "model_id": "b069ec9dddfc41afbcc8af9ba35c565f",
       "version_major": 2,
       "version_minor": 0
      },
      "text/plain": [
       "  0%|          | 0/328 [00:00<?, ?it/s]"
      ]
     },
     "metadata": {},
     "output_type": "display_data"
    },
    {
     "data": {
      "application/vnd.jupyter.widget-view+json": {
       "model_id": "166186b7f7c44ce6a31d9586689dc00e",
       "version_major": 2,
       "version_minor": 0
      },
      "text/plain": [
       "  0%|          | 0/83 [00:00<?, ?it/s]"
      ]
     },
     "metadata": {},
     "output_type": "display_data"
    }
   ],
   "source": [
    "train_out_folder = os.path.join(output_dataset_root, 'train')\n",
    "test_out_folder = os.path.join(output_dataset_root, 'test')\n",
    "\n",
    "Path(train_out_folder).mkdir(parents=True, exist_ok=True)\n",
    "Path(test_out_folder).mkdir(parents=True, exist_ok=True)\n",
    "\n",
    "train_paths, test_paths = train_test_split(find_all_image_paths(output_dataset_root), \n",
    "                                           train_size=TRAIN_TEST_RATIO, \n",
    "                                           random_state=RANDOM_SEED, \n",
    "                                           shuffle=True, \n",
    "                                           stratify=None)\n",
    "\n",
    "print(f'Number of training samples: {len(train_paths)}')\n",
    "print(f'Number of testing  samples: {len(test_paths)}')\n",
    "\n",
    "\n",
    "# do not specify the specific file so that it raise warning whe file already exists\n",
    "# to avoid potential training samples.\n",
    "\n",
    "for train_path in tqdm(train_paths):\n",
    "    shutil.move(train_path, train_out_folder)\n",
    "    \n",
    "for test_path in tqdm(test_paths):\n",
    "    shutil.move(test_path, test_out_folder)"
   ]
  }
 ],
 "metadata": {
  "kernelspec": {
   "display_name": "Python 3",
   "language": "python",
   "name": "python3"
  },
  "language_info": {
   "codemirror_mode": {
    "name": "ipython",
    "version": 3
   },
   "file_extension": ".py",
   "mimetype": "text/x-python",
   "name": "python",
   "nbconvert_exporter": "python",
   "pygments_lexer": "ipython3",
   "version": "3.8.9"
  }
 },
 "nbformat": 4,
 "nbformat_minor": 5
}

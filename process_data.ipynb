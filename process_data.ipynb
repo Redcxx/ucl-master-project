{
 "cells": [
  {
   "cell_type": "code",
   "execution_count": 1,
   "id": "f9027ef9",
   "metadata": {
    "ExecuteTime": {
     "end_time": "2022-06-01T01:06:23.676704Z",
     "start_time": "2022-06-01T01:06:23.328699Z"
    }
   },
   "outputs": [],
   "source": [
    "import os\n",
    "import re\n",
    "import sys\n",
    "import time\n",
    "import hashlib\n",
    "from pathlib import Path\n",
    "from pprint import pprint\n",
    "# thread instead of process: https://stackoverflow.com/questions/21198857/python-multiprocessing-example-not-working\n",
    "from multiprocessing.dummy import Pool\n",
    "import multiprocessing\n",
    "\n",
    "from tqdm.notebook import tqdm\n",
    "from PIL import Image, ImageOps, ImageColor\n",
    "from matplotlib import pyplot as plt"
   ]
  },
  {
   "cell_type": "markdown",
   "id": "680c46f8",
   "metadata": {},
   "source": [
    "## Folder Structure\n",
    "- RAW_DATA: 1\n",
    "    - [SHOT_NAME]: n\n",
    "        - [CHAR_NAME]: n\n",
    "            - ?cleanup|spotkey\n",
    "                - ?[number]\\_[type]\\_[other]:   type = line / clean  --> line\n",
    "                - ?[number]\\_[type]\\_[other]:   type = fill / col    --> color"
   ]
  },
  {
   "cell_type": "code",
   "execution_count": 2,
   "id": "2b7bc1b2",
   "metadata": {
    "ExecuteTime": {
     "end_time": "2022-06-01T01:06:23.692704Z",
     "start_time": "2022-06-01T01:06:23.678698Z"
    }
   },
   "outputs": [],
   "source": [
    "def find_all_folders(root):\n",
    "    try:\n",
    "        return list(next(os.walk(root))[1])\n",
    "    except StopIteration:\n",
    "        return []"
   ]
  },
  {
   "cell_type": "code",
   "execution_count": 3,
   "id": "057c6dba",
   "metadata": {
    "ExecuteTime": {
     "end_time": "2022-06-01T01:06:23.784873Z",
     "start_time": "2022-06-01T01:06:23.694698Z"
    },
    "scrolled": true
   },
   "outputs": [
    {
     "data": {
      "application/vnd.jupyter.widget-view+json": {
       "model_id": "371b0bfe83f744cc965ac64cdd774997",
       "version_major": 2,
       "version_minor": 0
      },
      "text/plain": [
       "  0%|          | 0/5 [00:00<?, ?it/s]"
      ]
     },
     "metadata": {},
     "output_type": "display_data"
    },
    {
     "name": "stdout",
     "output_type": "stream",
     "text": [
      "\n",
      ".\\datasets\\RAW_DATA-20220516T194619Z-001\\RAW_DATA\\SH_0010\n",
      ".\\datasets\\RAW_DATA-20220516T194619Z-001\\RAW_DATA\\SH_0010\\Connie\\cleanup\n",
      "02_CONNIE_HAIR_LINE -> 03_COL_ConnieHair\n",
      "04_CONNIE_HAND_LINE -> 05_COL_ConnieHand\n",
      "06_LINE_CONNIE_UPPERBODY -> 07_COL_ConnieUpperbody\n",
      "08_LINE_CONNIE_STILL -> 09_COL_ConnieStill\n",
      ".\\datasets\\RAW_DATA-20220516T194619Z-001\\RAW_DATA\\SH_0010\\Connie\\spotkeys\n",
      "01_Line_ConnieHair -> 02_COL_ConnieHair\n",
      "03_Line_ConnieHand -> 04_COL_ConnieHand\n",
      "05_Line_ConnieUpperbody -> 06_COL_ConnieUpperbody\n",
      "07_Line_ConnieStill -> 08_COL_ConnieStill\n",
      ".\\datasets\\RAW_DATA-20220516T194619Z-001\\RAW_DATA\\SH_0010\\OldDude\\cleanup\n",
      "19_OLdDudeLine -> 23_OldDudeCol\n",
      ".\\datasets\\RAW_DATA-20220516T194619Z-001\\RAW_DATA\\SH_0010\\OldDude\\spotkeys\n",
      ".\\datasets\\RAW_DATA-20220516T194619Z-001\\RAW_DATA\\SH_0010\\Ruben\\cleanup\n",
      "24_RubenLine -> 27_RubenCol\n",
      ".\\datasets\\RAW_DATA-20220516T194619Z-001\\RAW_DATA\\SH_0010\\Ruben\\spotkeys\n",
      ".\\datasets\\RAW_DATA-20220516T194619Z-001\\RAW_DATA\\SH_0010\\SleepingDude\\cleanup\n",
      "11_SleepingDude_Clean -> 13_SLeepingDudeCol\n",
      ".\\datasets\\RAW_DATA-20220516T194619Z-001\\RAW_DATA\\SH_0010\\SleepingDude\\spotkeys\n",
      "\n",
      ".\\datasets\\RAW_DATA-20220516T194619Z-001\\RAW_DATA\\SH_0030\n",
      ".\\datasets\\RAW_DATA-20220516T194619Z-001\\RAW_DATA\\SH_0030\\BGguy\\cleanup\n",
      "14_BGguy_LINE -> 16_BGguy_FILL\n",
      ".\\datasets\\RAW_DATA-20220516T194619Z-001\\RAW_DATA\\SH_0030\\BGguy\\spotkeys\n",
      "13_BGguy_LINE -> 15_BGguy_FILL\n",
      ".\\datasets\\RAW_DATA-20220516T194619Z-001\\RAW_DATA\\SH_0030\\BGkid\\cleanup\n",
      "07_BGkidLINE -> 10_BGkidFILL\n",
      ".\\datasets\\RAW_DATA-20220516T194619Z-001\\RAW_DATA\\SH_0030\\BGkid\\spotkeys\n",
      "06_BGkidLINE -> 09_BGkidFILL\n",
      ".\\datasets\\RAW_DATA-20220516T194619Z-001\\RAW_DATA\\SH_0030\\BGmum\\cleanup\n",
      "11_BGmum_LINE -> 13_BGmum_FILL\n",
      ".\\datasets\\RAW_DATA-20220516T194619Z-001\\RAW_DATA\\SH_0030\\BGmum\\spotkeys\n",
      "10_BGmum_LINE -> 12_BGmum_FILL\n",
      ".\\datasets\\RAW_DATA-20220516T194619Z-001\\RAW_DATA\\SH_0030\\BGoldman\\cleanup\n",
      "20_BGoldmanLINE -> 22_BGoldmanFILL\n",
      ".\\datasets\\RAW_DATA-20220516T194619Z-001\\RAW_DATA\\SH_0030\\BGoldman\\spotkeys\n",
      "19_BGoldmanLINE -> 21_BGoldmanFILL\n",
      ".\\datasets\\RAW_DATA-20220516T194619Z-001\\RAW_DATA\\SH_0030\\BGStall\\cleanup\n",
      "23_BGStallCharctersLine -> 25_BGStallCharctersFIll\n",
      ".\\datasets\\RAW_DATA-20220516T194619Z-001\\RAW_DATA\\SH_0030\\BGStall\\spotkeys\n",
      ".\\datasets\\RAW_DATA-20220516T194619Z-001\\RAW_DATA\\SH_0030\\BGwoman\\cleanup\n",
      "17_BGwomanLINE -> 19_BGwomanFILL\n",
      ".\\datasets\\RAW_DATA-20220516T194619Z-001\\RAW_DATA\\SH_0030\\BGwoman\\spotkeys\n",
      "16_BGwomanLINE -> 18_BGwomanFILL\n",
      ".\\datasets\\RAW_DATA-20220516T194619Z-001\\RAW_DATA\\SH_0030\\FGcharacter\\cleanup\n",
      "01_FGCHarcterLine -> 04_FGCHarcterFill\n",
      "05_FGCHarcterLegsClean -> 06_FGCHarcterLegsFill\n",
      ".\\datasets\\RAW_DATA-20220516T194619Z-001\\RAW_DATA\\SH_0030\\FGcharacter\\spotkeys\n",
      "01_FGCHarcterLine -> 03_FGCHarcterFill\n",
      "04_FGCHarcterLegsClean -> 05_FGCHarcterLegsFill\n",
      "\n",
      ".\\datasets\\RAW_DATA-20220516T194619Z-001\\RAW_DATA\\SH_0040\n",
      ".\\datasets\\RAW_DATA-20220516T194619Z-001\\RAW_DATA\\SH_0040\\Connie\\cleanup\n",
      "22_Line_Connie_armTablet -> 24_COL_Connie_armTablet\n",
      "25_Line_Connie -> 27_COL_Connie\n",
      "28_Line_ConnieStill -> 30_COL_ConnieStill\n",
      ".\\datasets\\RAW_DATA-20220516T194619Z-001\\RAW_DATA\\SH_0040\\Connie\\spotkeys\n",
      ".\\datasets\\RAW_DATA-20220516T194619Z-001\\RAW_DATA\\SH_0040\\Janelle\\cleanup\n",
      "19_Line_Janelle_hands -> 21_COL_Janelle_hands\n",
      "31_Line_Janelle_body -> 33_COL_Janelle_body\n",
      "34_Line_JanelleStill -> 36_COL_JanelleStill\n",
      ".\\datasets\\RAW_DATA-20220516T194619Z-001\\RAW_DATA\\SH_0040\\Janelle\\spotkeys\n",
      ".\\datasets\\RAW_DATA-20220516T194619Z-001\\RAW_DATA\\SH_0040\\Kurt\\cleanup\n",
      "10_Line_Kurt -> 12_COL_Kurt\n",
      "13_Line_KurtStill -> 15_COL_KurtStill\n",
      ".\\datasets\\RAW_DATA-20220516T194619Z-001\\RAW_DATA\\SH_0040\\Kurt\\spotkeys\n",
      ".\\datasets\\RAW_DATA-20220516T194619Z-001\\RAW_DATA\\SH_0040\\props\\cleanup\n",
      "06_CushionClean -> 08_CushionFill\n",
      ".\\datasets\\RAW_DATA-20220516T194619Z-001\\RAW_DATA\\SH_0040\\props\\spotkeys\n",
      "\n",
      ".\\datasets\\RAW_DATA-20220516T194619Z-001\\RAW_DATA\\SH_0050\n",
      ".\\datasets\\RAW_DATA-20220516T194619Z-001\\RAW_DATA\\SH_0050\\Connie\\cleanup\n",
      "09_CONNIE_BODY_LINE -> 12_CONNIE_BODY_COL\n",
      "13_CONNIE_HEAD_LINE -> 14_CONNIE_HEAD_COL\n",
      ".\\datasets\\RAW_DATA-20220516T194619Z-001\\RAW_DATA\\SH_0050\\Connie\\spotkeys\n",
      ".\\datasets\\RAW_DATA-20220516T194619Z-001\\RAW_DATA\\SH_0050\\fx\\cleanup\n",
      ".\\datasets\\RAW_DATA-20220516T194619Z-001\\RAW_DATA\\SH_0050\\fx\\spotkeys\n",
      ".\\datasets\\RAW_DATA-20220516T194619Z-001\\RAW_DATA\\SH_0050\\Kurt\\cleanup\n",
      "02_KURT_BODY_LINE -> 03_KURT_BODY_COL\n",
      ".\\datasets\\RAW_DATA-20220516T194619Z-001\\RAW_DATA\\SH_0050\\Kurt\\spotkeys\n",
      "\n",
      ".\\datasets\\RAW_DATA-20220516T194619Z-001\\RAW_DATA\\SH_0060\n",
      ".\\datasets\\RAW_DATA-20220516T194619Z-001\\RAW_DATA\\SH_0060\\Background\\cleanup\n",
      ".\\datasets\\RAW_DATA-20220516T194619Z-001\\RAW_DATA\\SH_0060\\Background\\spotkeys\n",
      ".\\datasets\\RAW_DATA-20220516T194619Z-001\\RAW_DATA\\SH_0060\\cleanup\\cleanup\n",
      ".\\datasets\\RAW_DATA-20220516T194619Z-001\\RAW_DATA\\SH_0060\\cleanup\\spotkeys\n",
      ".\\datasets\\RAW_DATA-20220516T194619Z-001\\RAW_DATA\\SH_0060\\col\\cleanup\n",
      ".\\datasets\\RAW_DATA-20220516T194619Z-001\\RAW_DATA\\SH_0060\\col\\spotkeys\n",
      ".\\datasets\\RAW_DATA-20220516T194619Z-001\\RAW_DATA\\SH_0060\\Connie\\cleanup\n",
      ".\\datasets\\RAW_DATA-20220516T194619Z-001\\RAW_DATA\\SH_0060\\Connie\\spotkeys\n",
      ".\\datasets\\RAW_DATA-20220516T194619Z-001\\RAW_DATA\\SH_0060\\Dad\\cleanup\n",
      ".\\datasets\\RAW_DATA-20220516T194619Z-001\\RAW_DATA\\SH_0060\\Dad\\spotkeys\n",
      ".\\datasets\\RAW_DATA-20220516T194619Z-001\\RAW_DATA\\SH_0060\\Janelle\\cleanup\n",
      ".\\datasets\\RAW_DATA-20220516T194619Z-001\\RAW_DATA\\SH_0060\\Janelle\\spotkeys\n",
      "24_JANELLE_HAIR -> 25_JANELLE_HAIR_COL\n",
      "26_JANELLE_SHIRT -> 27_JANELLE_SHIRT_COL\n",
      ".\\datasets\\RAW_DATA-20220516T194619Z-001\\RAW_DATA\\SH_0060\\Kurt\\cleanup\n",
      ".\\datasets\\RAW_DATA-20220516T194619Z-001\\RAW_DATA\\SH_0060\\Kurt\\spotkeys\n",
      ".\\datasets\\RAW_DATA-20220516T194619Z-001\\RAW_DATA\\SH_0060\\Rando\\cleanup\n",
      ".\\datasets\\RAW_DATA-20220516T194619Z-001\\RAW_DATA\\SH_0060\\Rando\\spotkeys\n",
      ".\\datasets\\RAW_DATA-20220516T194619Z-001\\RAW_DATA\\SH_0060\\Yoyota\\cleanup\n",
      ".\\datasets\\RAW_DATA-20220516T194619Z-001\\RAW_DATA\\SH_0060\\Yoyota\\spotkeys\n"
     ]
    }
   ],
   "source": [
    "\n",
    "clean_line = re.compile(r'line|clean|_', re.IGNORECASE)\n",
    "clean_fill = re.compile(r'col|fill|_', re.IGNORECASE)\n",
    "\n",
    "def process_char_dir(char_dir):\n",
    "    print(char_dir)\n",
    "    \n",
    "    line2fill_map = {}\n",
    "    \n",
    "    part_dirs = find_all_folders(char_dir)\n",
    "    \n",
    "    # map clean to original \n",
    "    clean_line_dirs = {}  \n",
    "    clean_fill_dirs = {}\n",
    "    \n",
    "    # for each part folder:\n",
    "    for part_dir in part_dirs:\n",
    "        \n",
    "        # remove seq no and convert to lower case\n",
    "        clean_folder = part_dir.split('_', maxsplit=1)[1].lower()\n",
    "        \n",
    "        # remove line, clean, _ from the folder name\n",
    "        clean_line_dirs[clean_line.sub('', clean_folder)] = part_dir  # keep track of original folder name\n",
    "        \n",
    "        # remove col, fill, _ from the folder name\n",
    "        clean_fill_dirs[clean_fill.sub('', clean_folder)] = part_dir  # keep track of original folder name\n",
    "\n",
    "    for clean_line_dir in clean_line_dirs:\n",
    "        \n",
    "        if clean_line_dir in clean_fill_dirs:\n",
    "            \n",
    "            line_original_dir = clean_line_dirs[clean_line_dir]\n",
    "            fill_original_dir = clean_fill_dirs[clean_line_dir]\n",
    "            \n",
    "            if line_original_dir != fill_original_dir:  # if its not just a random folder\n",
    "                # we got a matching folder, line -> fill\n",
    "                print(f'{line_original_dir} -> {fill_original_dir}')\n",
    "                line_path = os.path.join(char_dir, line_original_dir)\n",
    "                fill_path = os.path.join(char_dir, fill_original_dir)\n",
    "\n",
    "                line2fill_map[line_path] = fill_path\n",
    "                \n",
    "    return line2fill_map\n",
    "\n",
    "def process_shot_dir(shot_dir):\n",
    "    print()\n",
    "    print(shot_dir)\n",
    "    \n",
    "    line2fill_map = {}\n",
    "    char_names = find_all_folders(shot_dir)\n",
    "    for char in char_names:\n",
    "        \n",
    "        char_dir = os.path.join(shot_dir, char, 'cleanup')\n",
    "        line2fill_map.update(process_char_dir(char_dir))\n",
    "        \n",
    "        char_dir = os.path.join(shot_dir, char, 'spotkeys')\n",
    "        line2fill_map.update(process_char_dir(char_dir))\n",
    "    \n",
    "    return line2fill_map\n",
    "\n",
    "\n",
    "ROOT_DIR = r'.\\datasets\\RAW_DATA-20220516T194619Z-001\\RAW_DATA'\n",
    "\n",
    "line2fill_map = {}\n",
    "\n",
    "for shot_folder in tqdm(find_all_folders(ROOT_DIR)):\n",
    "    line2fill_map.update(process_shot_dir(os.path.join(ROOT_DIR, shot_folder)))"
   ]
  },
  {
   "cell_type": "code",
   "execution_count": 4,
   "id": "eaa122a0",
   "metadata": {
    "ExecuteTime": {
     "end_time": "2022-06-01T01:06:23.800886Z",
     "start_time": "2022-06-01T01:06:23.786873Z"
    }
   },
   "outputs": [],
   "source": [
    "IMG_EXTENSIONS = [\n",
    "    '.jpg', '.jpeg',\n",
    "    '.png', '.ppm', '.bmp',\n",
    "    '.tif', '.tiff',\n",
    "]\n",
    "\n",
    "def is_image_file(filename):\n",
    "    return any(filename.lower().endswith(ext) for ext in IMG_EXTENSIONS)\n",
    "\n",
    "def find_all_image_paths(root):\n",
    "    paths = []\n",
    "    assert os.path.isdir(root)\n",
    "\n",
    "    for root, _, filenames in sorted(os.walk(root)):\n",
    "        for filename in filenames:\n",
    "            if is_image_file(filename):\n",
    "                paths.append(os.path.join(root, filename))\n",
    "    \n",
    "    return paths"
   ]
  },
  {
   "cell_type": "code",
   "execution_count": 5,
   "id": "ac69ea5c",
   "metadata": {
    "ExecuteTime": {
     "end_time": "2022-06-01T01:06:23.864878Z",
     "start_time": "2022-06-01T01:06:23.802873Z"
    }
   },
   "outputs": [
    {
     "data": {
      "application/vnd.jupyter.widget-view+json": {
       "model_id": "e596de1ce8b54720ac5294fece384365",
       "version_major": 2,
       "version_minor": 0
      },
      "text/plain": [
       "  0%|          | 0/40 [00:00<?, ?it/s]"
      ]
     },
     "metadata": {},
     "output_type": "display_data"
    },
    {
     "name": "stdout",
     "output_type": "stream",
     "text": [
      "Raw image pairs: 2155\n"
     ]
    }
   ],
   "source": [
    "line_fill_paths = []\n",
    "for line_path, fill_path in tqdm(line2fill_map.items()):\n",
    "    line_im_paths = sorted(find_all_image_paths(line_path))\n",
    "    fill_im_paths = sorted(find_all_image_paths(fill_path))\n",
    "    line_fill_paths += list(zip(line_im_paths, fill_im_paths))\n",
    "\n",
    "print(f'Raw image pairs: {len(line_fill_paths)}')"
   ]
  },
  {
   "cell_type": "code",
   "execution_count": 6,
   "id": "24ac0021",
   "metadata": {
    "ExecuteTime": {
     "end_time": "2022-06-01T01:06:23.879959Z",
     "start_time": "2022-06-01T01:06:23.866874Z"
    }
   },
   "outputs": [],
   "source": [
    "def process(paths):\n",
    "    line_path, fill_path, save_path = paths\n",
    "    \n",
    "    # read image\n",
    "    im_A = Image.open(line_path)\n",
    "    im_B = Image.open(fill_path)\n",
    "\n",
    "    # crop to non empty region\n",
    "    non_empty_coord = im_A.getbbox()\n",
    "    \n",
    "    if non_empty_coord is None:\n",
    "        # empty image\n",
    "        return None\n",
    "    \n",
    "    im_A = im_A.crop(non_empty_coord)\n",
    "    im_B = im_B.crop(non_empty_coord)\n",
    "    \n",
    "    # pad and resize to square\n",
    "    size = 512\n",
    "    im_A = ImageOps.pad(im_A, (size, size), method=Image.BICUBIC, color='rgba(0,0,0,0)')\n",
    "    im_B = ImageOps.pad(im_B, (size, size), method=Image.BICUBIC, color='rgba(0,0,0,0)')\n",
    "    \n",
    "    # combine\n",
    "    im = Image.new('RGBA', (size * 2, size))\n",
    "    im.paste(im_A, (0, 0))\n",
    "    im.paste(im_B, (size, 0))\n",
    "    \n",
    "    # convert to RGB, do not use .convert('RGB') as it gives black background\n",
    "    rgb = Image.new(\"RGB\", im.size, (255, 255, 255))\n",
    "    rgb.paste(im, mask=im.split()[3])\n",
    "\n",
    "    rgb.save(save_path)\n",
    "    return rgb"
   ]
  },
  {
   "cell_type": "code",
   "execution_count": 8,
   "id": "83ade74f",
   "metadata": {
    "ExecuteTime": {
     "end_time": "2022-06-01T01:08:19.633851Z",
     "start_time": "2022-06-01T01:07:13.412972Z"
    }
   },
   "outputs": [
    {
     "data": {
      "application/vnd.jupyter.widget-view+json": {
       "model_id": "5748fa323155493aa80e321a6a086842",
       "version_major": 2,
       "version_minor": 0
      },
      "text/plain": [
       "  0%|          | 0/2155 [00:00<?, ?it/s]"
      ]
     },
     "metadata": {},
     "output_type": "display_data"
    },
    {
     "name": "stdout",
     "output_type": "stream",
     "text": [
      "Number of non empty  data pairs: 1477\n",
      "Number of duplicates data pairs: 1104\n",
      "Number of remaining  data pairs: 373\n"
     ]
    }
   ],
   "source": [
    "DATASET_ROOT_DIR = r'./datasets/processed_data'\n",
    "\n",
    "Path(DATASET_ROOT_DIR).mkdir(parents=True, exist_ok=True)\n",
    "\n",
    "worker_inputs = []\n",
    "for i, (line_path, fill_path) in enumerate(line_fill_paths, 1):\n",
    "    save_path = os.path.join(DATASET_ROOT_DIR, f'{i}.jpg')\n",
    "    worker_inputs.append((line_path, fill_path, save_path))    \n",
    "    \n",
    "valid_pairs = 0\n",
    "seen = set()\n",
    "dups = []\n",
    "remains = 0\n",
    "\n",
    "with Pool(8) as pool:\n",
    "    for i, im in tqdm(enumerate(pool.imap_unordered(process, worker_inputs)), total=len(worker_inputs)):\n",
    "        if im:\n",
    "            valid_pairs += 1\n",
    "            \n",
    "            h = hashlib.sha256(im.tobytes()).hexdigest()\n",
    "            save_path = worker_inputs[i][2]\n",
    "            if h in seen:\n",
    "                dups.append(save_path)  # append the save_path\n",
    "            else:\n",
    "                remains += 1\n",
    "                seen.add(h)\n",
    "\n",
    "# remove duplicates\n",
    "for p in dups:\n",
    "    Path(p).unlink(missing_ok=True)\n",
    "\n",
    "print(f'Number of            data pairs: {len(worker_inputs)}')    \n",
    "print(f'Number of non empty  data pairs: {valid_pairs}')\n",
    "print(f'Number of duplicates data pairs: {len(dups)}')\n",
    "print(f'Number of remaining  data pairs: {remains}')"
   ]
  }
 ],
 "metadata": {
  "kernelspec": {
   "display_name": "Python 3",
   "language": "python",
   "name": "python3"
  },
  "language_info": {
   "codemirror_mode": {
    "name": "ipython",
    "version": 3
   },
   "file_extension": ".py",
   "mimetype": "text/x-python",
   "name": "python",
   "nbconvert_exporter": "python",
   "pygments_lexer": "ipython3",
   "version": "3.8.9"
  }
 },
 "nbformat": 4,
 "nbformat_minor": 5
}

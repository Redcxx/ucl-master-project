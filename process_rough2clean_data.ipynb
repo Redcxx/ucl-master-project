{
 "cells": [
  {
   "cell_type": "markdown",
   "id": "59656eec",
   "metadata": {},
   "source": [
    "# Imports"
   ]
  },
  {
   "cell_type": "code",
   "execution_count": 18,
   "id": "f9027ef9",
   "metadata": {
    "ExecuteTime": {
     "end_time": "2022-06-09T13:13:40.134759Z",
     "start_time": "2022-06-09T13:13:40.123756Z"
    }
   },
   "outputs": [],
   "source": [
    "import os\n",
    "import re\n",
    "import sys\n",
    "import time\n",
    "import hashlib\n",
    "import shutil\n",
    "from pathlib import Path\n",
    "from pprint import pprint\n",
    "# thread instead of process: https://stackoverflow.com/questions/21198857/python-multiprocessing-example-not-working\n",
    "from multiprocessing.dummy import Pool\n",
    "import multiprocessing\n",
    "\n",
    "from tqdm.notebook import tqdm\n",
    "import numpy as np\n",
    "from PIL import Image, ImageOps, ImageColor\n",
    "from matplotlib import pyplot as plt\n",
    "from sklearn.model_selection import train_test_split"
   ]
  },
  {
   "cell_type": "markdown",
   "id": "3bc06ab1",
   "metadata": {},
   "source": [
    "# Settings"
   ]
  },
  {
   "cell_type": "code",
   "execution_count": 34,
   "id": "6cbb4e00",
   "metadata": {
    "ExecuteTime": {
     "end_time": "2022-06-09T13:52:21.078091Z",
     "start_time": "2022-06-09T13:52:21.073091Z"
    }
   },
   "outputs": [],
   "source": [
    "ROOT_DIR = r'.\\datasets\\RAW_DATA-20220516T194619Z-001\\RAW_DATA'  # containing shots\n",
    "OUTPUT_DATASET_ROOT_DIR = r'./datasets/processed_rough2clean_data'  # output dir\n",
    "TRAIN_TEST_RATIO = 0.8\n",
    "RANDOM_SEED = 42"
   ]
  },
  {
   "cell_type": "markdown",
   "id": "680c46f8",
   "metadata": {},
   "source": [
    "## Folder Structure\n",
    "- RAW_DATA: 1\n",
    "    - [SHOT_NAME]: n\n",
    "        - [CHAR_NAME]: n\n",
    "            - ?cleanup|spotkeys\n",
    "                - ?[number]\\_[type]\\_[other]:   type = line / clean  --> line\n",
    "                - ?[number]\\_[type]\\_[other]:   type = fill / col    --> color"
   ]
  },
  {
   "cell_type": "markdown",
   "id": "473c9ccd",
   "metadata": {},
   "source": [
    "# Utilities"
   ]
  },
  {
   "cell_type": "code",
   "execution_count": 4,
   "id": "238063e5",
   "metadata": {
    "ExecuteTime": {
     "end_time": "2022-06-09T13:05:53.614880Z",
     "start_time": "2022-06-09T13:05:53.595882Z"
    }
   },
   "outputs": [],
   "source": [
    "IMG_EXTENSIONS = [\n",
    "    '.jpg', '.jpeg',\n",
    "    '.png', '.ppm', '.bmp',\n",
    "    '.tif', '.tiff',\n",
    "]\n",
    "\n",
    "def is_image_file(filename):\n",
    "    return any(filename.lower().endswith(ext) for ext in IMG_EXTENSIONS)\n",
    "\n",
    "def find_all_image_paths(root):\n",
    "    paths = []\n",
    "    assert os.path.isdir(root)\n",
    "\n",
    "    for root, _, filenames in sorted(os.walk(root)):\n",
    "        for filename in filenames:\n",
    "            if is_image_file(filename):\n",
    "                paths.append(os.path.join(root, filename))\n",
    "    \n",
    "    return paths\n",
    "\n",
    "def find_all_folders(root):\n",
    "    try:\n",
    "        return list(next(os.walk(root))[1])\n",
    "    except StopIteration:\n",
    "        return []"
   ]
  },
  {
   "cell_type": "markdown",
   "id": "a550b213",
   "metadata": {},
   "source": [
    "# Merge Images"
   ]
  },
  {
   "cell_type": "code",
   "execution_count": 24,
   "id": "7e4eddd0",
   "metadata": {
    "ExecuteTime": {
     "end_time": "2022-06-09T13:16:02.453936Z",
     "start_time": "2022-06-09T13:16:02.442937Z"
    }
   },
   "outputs": [],
   "source": [
    "def process_cleanup_dir(cleanup_dir, output_dir):\n",
    "    \n",
    "    part_folders = find_all_folders(cleanup_dir)\n",
    "    line_folders = [folder for folder in part_folders if 'line' in folder.lower() or 'clean' in folder.lower()]\n",
    "    \n",
    "    merged_im_paths = []\n",
    "    for i, folder in enumerate(line_folders):\n",
    "        path = os.path.join(cleanup_dir, folder)\n",
    "        im_paths = sorted(find_all_image_paths(path))\n",
    "        while len(im_paths) > len(merged_im_paths):\n",
    "            merged_im_paths.append([])\n",
    "        for i, im_path in enumerate(im_paths):\n",
    "            merged_im_paths[i].append(im_path)\n",
    "        \n",
    "    for i, paths in tqdm(enumerate(merged_im_paths), total=len(merged_im_paths)):\n",
    "        merged_im = 0\n",
    "        for path in paths:\n",
    "            im = Image.open(path).convert('RGBA')\n",
    "            im = np.asarray(im)\n",
    "            merged_im = merged_im + im\n",
    "        Image.fromarray(merged_im).save(os.path.join(output_dir, f'{i}.png'))"
   ]
  },
  {
   "cell_type": "code",
   "execution_count": 25,
   "id": "825759bd",
   "metadata": {
    "ExecuteTime": {
     "end_time": "2022-06-09T13:17:38.501803Z",
     "start_time": "2022-06-09T13:16:03.388426Z"
    }
   },
   "outputs": [
    {
     "data": {
      "application/vnd.jupyter.widget-view+json": {
       "model_id": "145674351f9d4d30ad394a25c083dcc9",
       "version_major": 2,
       "version_minor": 0
      },
      "text/plain": [
       "  0%|          | 0/73 [00:00<?, ?it/s]"
      ]
     },
     "metadata": {},
     "output_type": "display_data"
    }
   ],
   "source": [
    "# process_cleanup_dir(\n",
    "#     r'D:\\UCL\\labs\\comp0122\\datasets\\RAW_DATA-20220516T194619Z-001\\RAW_DATA\\SH_0010\\Connie\\cleanup',\n",
    "#     r'test_out'\n",
    "# )"
   ]
  },
  {
   "cell_type": "markdown",
   "id": "b37d9f5e",
   "metadata": {},
   "source": [
    "# Find Mapping Image Pairs"
   ]
  },
  {
   "cell_type": "code",
   "execution_count": 32,
   "id": "057c6dba",
   "metadata": {
    "ExecuteTime": {
     "end_time": "2022-06-09T13:50:29.771207Z",
     "start_time": "2022-06-09T13:45:30.299148Z"
    },
    "scrolled": true
   },
   "outputs": [
    {
     "data": {
      "application/vnd.jupyter.widget-view+json": {
       "model_id": "bcdc679748db4656b6e112f52227da95",
       "version_major": 2,
       "version_minor": 0
      },
      "text/plain": [
       "  0%|          | 0/5 [00:00<?, ?it/s]"
      ]
     },
     "metadata": {},
     "output_type": "display_data"
    },
    {
     "name": "stdout",
     "output_type": "stream",
     "text": [
      "\n",
      ".\\datasets\\RAW_DATA-20220516T194619Z-001\\RAW_DATA\\SH_0010\n",
      ".\\datasets\\RAW_DATA-20220516T194619Z-001\\RAW_DATA\\SH_0010\\Connie\\tiedown -> .\\datasets\\RAW_DATA-20220516T194619Z-001\\RAW_DATA\\SH_0010\\Connie\\cleanup -> temp_out_0\n"
     ]
    },
    {
     "data": {
      "application/vnd.jupyter.widget-view+json": {
       "model_id": "aedf250fa8ed46e5b57d08fdabae8759",
       "version_major": 2,
       "version_minor": 0
      },
      "text/plain": [
       "  0%|          | 0/73 [00:00<?, ?it/s]"
      ]
     },
     "metadata": {},
     "output_type": "display_data"
    },
    {
     "name": "stdout",
     "output_type": "stream",
     "text": [
      ".\\datasets\\RAW_DATA-20220516T194619Z-001\\RAW_DATA\\SH_0010\\SleepingDude\\tiedown -> .\\datasets\\RAW_DATA-20220516T194619Z-001\\RAW_DATA\\SH_0010\\SleepingDude\\cleanup -> temp_out_3\n"
     ]
    },
    {
     "data": {
      "application/vnd.jupyter.widget-view+json": {
       "model_id": "40b7266f88b74698ad98e3e7ef80ab49",
       "version_major": 2,
       "version_minor": 0
      },
      "text/plain": [
       "  0%|          | 0/73 [00:00<?, ?it/s]"
      ]
     },
     "metadata": {},
     "output_type": "display_data"
    },
    {
     "name": "stdout",
     "output_type": "stream",
     "text": [
      "\n",
      ".\\datasets\\RAW_DATA-20220516T194619Z-001\\RAW_DATA\\SH_0030\n",
      ".\\datasets\\RAW_DATA-20220516T194619Z-001\\RAW_DATA\\SH_0030\\BGguy\\tiedown -> .\\datasets\\RAW_DATA-20220516T194619Z-001\\RAW_DATA\\SH_0030\\BGguy\\cleanup -> temp_out_0\n"
     ]
    },
    {
     "data": {
      "application/vnd.jupyter.widget-view+json": {
       "model_id": "d86c882da4fa41138c9004ab2f1df51c",
       "version_major": 2,
       "version_minor": 0
      },
      "text/plain": [
       "  0%|          | 0/51 [00:00<?, ?it/s]"
      ]
     },
     "metadata": {},
     "output_type": "display_data"
    },
    {
     "name": "stdout",
     "output_type": "stream",
     "text": [
      ".\\datasets\\RAW_DATA-20220516T194619Z-001\\RAW_DATA\\SH_0030\\BGkid\\tiedown -> .\\datasets\\RAW_DATA-20220516T194619Z-001\\RAW_DATA\\SH_0030\\BGkid\\cleanup -> temp_out_1\n"
     ]
    },
    {
     "data": {
      "application/vnd.jupyter.widget-view+json": {
       "model_id": "cbb09030ef9f48eaa709ca86e0bcf685",
       "version_major": 2,
       "version_minor": 0
      },
      "text/plain": [
       "  0%|          | 0/51 [00:00<?, ?it/s]"
      ]
     },
     "metadata": {},
     "output_type": "display_data"
    },
    {
     "name": "stdout",
     "output_type": "stream",
     "text": [
      ".\\datasets\\RAW_DATA-20220516T194619Z-001\\RAW_DATA\\SH_0030\\BGmum\\tiedown -> .\\datasets\\RAW_DATA-20220516T194619Z-001\\RAW_DATA\\SH_0030\\BGmum\\cleanup -> temp_out_2\n"
     ]
    },
    {
     "data": {
      "application/vnd.jupyter.widget-view+json": {
       "model_id": "b0ec54ee1c444b28b0cc9584a52f3c86",
       "version_major": 2,
       "version_minor": 0
      },
      "text/plain": [
       "  0%|          | 0/51 [00:00<?, ?it/s]"
      ]
     },
     "metadata": {},
     "output_type": "display_data"
    },
    {
     "name": "stdout",
     "output_type": "stream",
     "text": [
      ".\\datasets\\RAW_DATA-20220516T194619Z-001\\RAW_DATA\\SH_0030\\BGoldman\\tiedown -> .\\datasets\\RAW_DATA-20220516T194619Z-001\\RAW_DATA\\SH_0030\\BGoldman\\cleanup -> temp_out_3\n"
     ]
    },
    {
     "data": {
      "application/vnd.jupyter.widget-view+json": {
       "model_id": "fd07b2e5ffff4189bb1db3896b6aaeff",
       "version_major": 2,
       "version_minor": 0
      },
      "text/plain": [
       "  0%|          | 0/51 [00:00<?, ?it/s]"
      ]
     },
     "metadata": {},
     "output_type": "display_data"
    },
    {
     "name": "stdout",
     "output_type": "stream",
     "text": [
      ".\\datasets\\RAW_DATA-20220516T194619Z-001\\RAW_DATA\\SH_0030\\BGwoman\\tiedown -> .\\datasets\\RAW_DATA-20220516T194619Z-001\\RAW_DATA\\SH_0030\\BGwoman\\cleanup -> temp_out_5\n"
     ]
    },
    {
     "data": {
      "application/vnd.jupyter.widget-view+json": {
       "model_id": "aeb40f9e2c814a5895982c530d65b570",
       "version_major": 2,
       "version_minor": 0
      },
      "text/plain": [
       "  0%|          | 0/51 [00:00<?, ?it/s]"
      ]
     },
     "metadata": {},
     "output_type": "display_data"
    },
    {
     "name": "stdout",
     "output_type": "stream",
     "text": [
      ".\\datasets\\RAW_DATA-20220516T194619Z-001\\RAW_DATA\\SH_0030\\FGcharacter\\tiedown -> .\\datasets\\RAW_DATA-20220516T194619Z-001\\RAW_DATA\\SH_0030\\FGcharacter\\cleanup -> temp_out_6\n"
     ]
    },
    {
     "data": {
      "application/vnd.jupyter.widget-view+json": {
       "model_id": "d71f961636ad471b883c91c17f019be3",
       "version_major": 2,
       "version_minor": 0
      },
      "text/plain": [
       "  0%|          | 0/51 [00:00<?, ?it/s]"
      ]
     },
     "metadata": {},
     "output_type": "display_data"
    },
    {
     "name": "stdout",
     "output_type": "stream",
     "text": [
      "\n",
      ".\\datasets\\RAW_DATA-20220516T194619Z-001\\RAW_DATA\\SH_0040\n",
      ".\\datasets\\RAW_DATA-20220516T194619Z-001\\RAW_DATA\\SH_0040\\Connie\\tiedown -> .\\datasets\\RAW_DATA-20220516T194619Z-001\\RAW_DATA\\SH_0040\\Connie\\cleanup -> temp_out_0\n"
     ]
    },
    {
     "data": {
      "application/vnd.jupyter.widget-view+json": {
       "model_id": "ea4641f647064d38a0b0a48383aebe45",
       "version_major": 2,
       "version_minor": 0
      },
      "text/plain": [
       "  0%|          | 0/50 [00:00<?, ?it/s]"
      ]
     },
     "metadata": {},
     "output_type": "display_data"
    },
    {
     "name": "stdout",
     "output_type": "stream",
     "text": [
      ".\\datasets\\RAW_DATA-20220516T194619Z-001\\RAW_DATA\\SH_0040\\Janelle\\tiedown -> .\\datasets\\RAW_DATA-20220516T194619Z-001\\RAW_DATA\\SH_0040\\Janelle\\cleanup -> temp_out_1\n"
     ]
    },
    {
     "data": {
      "application/vnd.jupyter.widget-view+json": {
       "model_id": "dd04948a7646480b8d9dd5c4af8f760a",
       "version_major": 2,
       "version_minor": 0
      },
      "text/plain": [
       "  0%|          | 0/50 [00:00<?, ?it/s]"
      ]
     },
     "metadata": {},
     "output_type": "display_data"
    },
    {
     "name": "stdout",
     "output_type": "stream",
     "text": [
      ".\\datasets\\RAW_DATA-20220516T194619Z-001\\RAW_DATA\\SH_0040\\Kurt\\tiedown -> .\\datasets\\RAW_DATA-20220516T194619Z-001\\RAW_DATA\\SH_0040\\Kurt\\cleanup -> temp_out_2\n"
     ]
    },
    {
     "data": {
      "application/vnd.jupyter.widget-view+json": {
       "model_id": "b092bb851b6c45088971bd69885d8923",
       "version_major": 2,
       "version_minor": 0
      },
      "text/plain": [
       "  0%|          | 0/50 [00:00<?, ?it/s]"
      ]
     },
     "metadata": {},
     "output_type": "display_data"
    },
    {
     "name": "stdout",
     "output_type": "stream",
     "text": [
      "\n",
      ".\\datasets\\RAW_DATA-20220516T194619Z-001\\RAW_DATA\\SH_0050\n",
      ".\\datasets\\RAW_DATA-20220516T194619Z-001\\RAW_DATA\\SH_0050\\Connie\\tiedown -> .\\datasets\\RAW_DATA-20220516T194619Z-001\\RAW_DATA\\SH_0050\\Connie\\cleanup -> temp_out_0\n"
     ]
    },
    {
     "data": {
      "application/vnd.jupyter.widget-view+json": {
       "model_id": "a1c2c5d5615847108ccadd16fe3156d4",
       "version_major": 2,
       "version_minor": 0
      },
      "text/plain": [
       "  0%|          | 0/47 [00:00<?, ?it/s]"
      ]
     },
     "metadata": {},
     "output_type": "display_data"
    },
    {
     "name": "stdout",
     "output_type": "stream",
     "text": [
      ".\\datasets\\RAW_DATA-20220516T194619Z-001\\RAW_DATA\\SH_0050\\Kurt\\tiedown -> .\\datasets\\RAW_DATA-20220516T194619Z-001\\RAW_DATA\\SH_0050\\Kurt\\cleanup -> temp_out_2\n"
     ]
    },
    {
     "data": {
      "application/vnd.jupyter.widget-view+json": {
       "model_id": "06d687882c1b45229e5d7881ec8425e4",
       "version_major": 2,
       "version_minor": 0
      },
      "text/plain": [
       "  0%|          | 0/47 [00:00<?, ?it/s]"
      ]
     },
     "metadata": {},
     "output_type": "display_data"
    },
    {
     "name": "stdout",
     "output_type": "stream",
     "text": [
      "\n",
      ".\\datasets\\RAW_DATA-20220516T194619Z-001\\RAW_DATA\\SH_0060\n",
      ".\\datasets\\RAW_DATA-20220516T194619Z-001\\RAW_DATA\\SH_0060\\Background\\tiedown -> .\\datasets\\RAW_DATA-20220516T194619Z-001\\RAW_DATA\\SH_0060\\Background\\cleanup -> temp_out_0\n"
     ]
    },
    {
     "data": {
      "application/vnd.jupyter.widget-view+json": {
       "model_id": "aa746cca77be41c98eec99ccab80397d",
       "version_major": 2,
       "version_minor": 0
      },
      "text/plain": [
       "0it [00:00, ?it/s]"
      ]
     },
     "metadata": {},
     "output_type": "display_data"
    },
    {
     "name": "stdout",
     "output_type": "stream",
     "text": [
      ".\\datasets\\RAW_DATA-20220516T194619Z-001\\RAW_DATA\\SH_0060\\Connie\\tiedown -> .\\datasets\\RAW_DATA-20220516T194619Z-001\\RAW_DATA\\SH_0060\\Connie\\cleanup -> temp_out_3\n"
     ]
    },
    {
     "data": {
      "application/vnd.jupyter.widget-view+json": {
       "model_id": "b1e1e12378c647feae90ca2f85c8c8e2",
       "version_major": 2,
       "version_minor": 0
      },
      "text/plain": [
       "0it [00:00, ?it/s]"
      ]
     },
     "metadata": {},
     "output_type": "display_data"
    },
    {
     "name": "stdout",
     "output_type": "stream",
     "text": [
      ".\\datasets\\RAW_DATA-20220516T194619Z-001\\RAW_DATA\\SH_0060\\Dad\\tiedown -> .\\datasets\\RAW_DATA-20220516T194619Z-001\\RAW_DATA\\SH_0060\\Dad\\cleanup -> temp_out_4\n"
     ]
    },
    {
     "data": {
      "application/vnd.jupyter.widget-view+json": {
       "model_id": "96302ce55550400d85b77ac3d4ad5f63",
       "version_major": 2,
       "version_minor": 0
      },
      "text/plain": [
       "0it [00:00, ?it/s]"
      ]
     },
     "metadata": {},
     "output_type": "display_data"
    },
    {
     "name": "stdout",
     "output_type": "stream",
     "text": [
      ".\\datasets\\RAW_DATA-20220516T194619Z-001\\RAW_DATA\\SH_0060\\Kurt\\tiedown -> .\\datasets\\RAW_DATA-20220516T194619Z-001\\RAW_DATA\\SH_0060\\Kurt\\cleanup -> temp_out_6\n"
     ]
    },
    {
     "data": {
      "application/vnd.jupyter.widget-view+json": {
       "model_id": "31f060a3496b49c78154adcde3dbdd20",
       "version_major": 2,
       "version_minor": 0
      },
      "text/plain": [
       "0it [00:00, ?it/s]"
      ]
     },
     "metadata": {},
     "output_type": "display_data"
    },
    {
     "name": "stdout",
     "output_type": "stream",
     "text": [
      ".\\datasets\\RAW_DATA-20220516T194619Z-001\\RAW_DATA\\SH_0060\\Yoyota\\tiedown -> .\\datasets\\RAW_DATA-20220516T194619Z-001\\RAW_DATA\\SH_0060\\Yoyota\\cleanup -> temp_out_8\n"
     ]
    },
    {
     "data": {
      "application/vnd.jupyter.widget-view+json": {
       "model_id": "b29d5266656b456f97c71bca2253cc51",
       "version_major": 2,
       "version_minor": 0
      },
      "text/plain": [
       "0it [00:00, ?it/s]"
      ]
     },
     "metadata": {},
     "output_type": "display_data"
    }
   ],
   "source": [
    "def process_shot_dir(shot_dir):\n",
    "    print()\n",
    "    print(shot_dir)\n",
    "    \n",
    "    rough2clean_pairs = []\n",
    "    char_names = find_all_folders(shot_dir)\n",
    "    for i, char in enumerate(char_names):\n",
    "        \n",
    "        clean_dir = os.path.join(shot_dir, char, 'cleanup')\n",
    "        rough_dir = os.path.join(shot_dir, char, 'tiedown')\n",
    "        \n",
    "        if not os.path.isdir(clean_dir) or not os.path.isdir(rough_dir):\n",
    "            continue\n",
    "            \n",
    "        merged_clean_dir = f'temp_out_{i}'\n",
    "        Path(merged_clean_dir).mkdir(parents=True, exist_ok=True)\n",
    "        \n",
    "        print(f'{rough_dir} -> {clean_dir} -> {merged_clean_dir}')\n",
    "        \n",
    "        process_cleanup_dir(clean_dir, merged_clean_dir)\n",
    "        \n",
    "        rough_paths = sorted(find_all_image_paths(rough_dir))\n",
    "        clean_paths = sorted(find_all_image_paths(clean_dir))\n",
    "        \n",
    "        for rough, clean in zip(rough_paths, clean_paths):\n",
    "            rough2clean_pairs.append((rough, clean))\n",
    "    \n",
    "    return rough2clean_pairs\n",
    "\n",
    "rough2clean_pairs = []\n",
    "\n",
    "for shot_folder in tqdm(find_all_folders(ROOT_DIR)):\n",
    "    rough2clean_pairs.extend(process_shot_dir(os.path.join(ROOT_DIR, shot_folder)))"
   ]
  },
  {
   "cell_type": "markdown",
   "id": "a2da418f",
   "metadata": {},
   "source": [
    "# Process and Create Training Samples"
   ]
  },
  {
   "cell_type": "code",
   "execution_count": 42,
   "id": "24ac0021",
   "metadata": {
    "ExecuteTime": {
     "end_time": "2022-06-09T14:08:17.333847Z",
     "start_time": "2022-06-09T14:08:17.314824Z"
    }
   },
   "outputs": [],
   "source": [
    "def process(paths):\n",
    "    line_path, fill_path, save_path = paths\n",
    "    \n",
    "    # read image\n",
    "    im_A = Image.open(line_path)\n",
    "    im_B = Image.open(fill_path)\n",
    "\n",
    "    # crop to non empty region\n",
    "    non_empty_coord = im_A.getbbox()\n",
    "    \n",
    "    if non_empty_coord is None:\n",
    "        # empty image\n",
    "        return None\n",
    "    \n",
    "#     im_A = im_A.crop(non_empty_coord)\n",
    "#     im_B = im_B.crop(non_empty_coord)\n",
    "    \n",
    "    # pad and resize to square\n",
    "    size = 1024\n",
    "    im_A = ImageOps.pad(im_A, (size, size), method=Image.BICUBIC, color='rgba(0,0,0,0)')\n",
    "    im_B = ImageOps.pad(im_B, (size, size), method=Image.BICUBIC, color='rgba(0,0,0,0)')\n",
    "    \n",
    "    # combine\n",
    "    im = Image.new('RGBA', (size * 2, size))\n",
    "    im.paste(im_A, (0, 0))\n",
    "    im.paste(im_B, (size, 0))\n",
    "    \n",
    "    # convert to RGB, do not use .convert('RGB') as it gives black background\n",
    "    rgb = Image.new(\"RGB\", im.size, (255, 255, 255))\n",
    "    rgb.paste(im, mask=im.split()[3])\n",
    "\n",
    "    rgb.save(save_path)\n",
    "    return rgb"
   ]
  },
  {
   "cell_type": "code",
   "execution_count": 43,
   "id": "83ade74f",
   "metadata": {
    "ExecuteTime": {
     "end_time": "2022-06-09T14:10:50.866696Z",
     "start_time": "2022-06-09T14:08:20.351970Z"
    }
   },
   "outputs": [
    {
     "name": "stdout",
     "output_type": "stream",
     "text": [
      "Output Directory: ./datasets/processed_rough2clean_data\\RAW_DATA\n"
     ]
    },
    {
     "data": {
      "application/vnd.jupyter.widget-view+json": {
       "model_id": "240b248da43946e69dd3e9ee12a88572",
       "version_major": 2,
       "version_minor": 0
      },
      "text/plain": [
       "  0%|          | 0/1924 [00:00<?, ?it/s]"
      ]
     },
     "metadata": {},
     "output_type": "display_data"
    },
    {
     "name": "stdout",
     "output_type": "stream",
     "text": [
      "Number of            data pairs: 1924\n",
      "Number of non empty  data pairs: 1565\n",
      "Number of duplicates data pairs: 901\n",
      "Number of remaining  data pairs: 664\n"
     ]
    }
   ],
   "source": [
    "input_dataset_folder = os.path.basename(os.path.normpath(ROOT_DIR))\n",
    "output_dataset_root = os.path.join(OUTPUT_DATASET_ROOT_DIR, input_dataset_folder)\n",
    "\n",
    "print(f'Output Directory: {output_dataset_root}')\n",
    "Path(output_dataset_root).mkdir(parents=True, exist_ok=True)\n",
    "\n",
    "# set up worker input\n",
    "worker_inputs = []\n",
    "for i, (rough, clean) in enumerate(rough2clean_pairs, 1):\n",
    "    save_path = os.path.join(output_dataset_root, f'{i}.jpg')\n",
    "    worker_inputs.append((rough, clean, save_path)) \n",
    "    \n",
    "valid_pairs = 0\n",
    "seen = set()\n",
    "dups = []\n",
    "remains = 0\n",
    "\n",
    "with Pool(8) as pool:\n",
    "    for i, im in tqdm(enumerate(pool.imap_unordered(process, worker_inputs)), total=len(worker_inputs)):\n",
    "        if im:\n",
    "            valid_pairs += 1\n",
    "            \n",
    "            h = hashlib.sha256(im.tobytes()).hexdigest()\n",
    "            save_path = worker_inputs[i][2]\n",
    "            if h in seen:\n",
    "                dups.append(save_path)  # append the save_path\n",
    "            else:\n",
    "                remains += 1\n",
    "                seen.add(h)\n",
    "\n",
    "# remove duplicates\n",
    "for p in dups:\n",
    "    Path(p).unlink(missing_ok=True)\n",
    "\n",
    "print(f'Number of            data pairs: {len(worker_inputs)}')    \n",
    "print(f'Number of non empty  data pairs: {valid_pairs}')\n",
    "print(f'Number of duplicates data pairs: {len(dups)}')\n",
    "print(f'Number of remaining  data pairs: {remains}')"
   ]
  },
  {
   "cell_type": "markdown",
   "id": "fdfc19a4",
   "metadata": {},
   "source": [
    "# Train Test Split"
   ]
  },
  {
   "cell_type": "code",
   "execution_count": 8,
   "id": "121b1b21",
   "metadata": {
    "ExecuteTime": {
     "end_time": "2022-06-01T11:43:36.360507Z",
     "start_time": "2022-06-01T11:43:36.127507Z"
    }
   },
   "outputs": [
    {
     "name": "stdout",
     "output_type": "stream",
     "text": [
      "Number of training samples: ['./datasets/processed_data\\\\RAW_DATA\\\\1899.jpg', './datasets/processed_data\\\\RAW_DATA\\\\884.jpg', './datasets/processed_data\\\\RAW_DATA\\\\1825.jpg', './datasets/processed_data\\\\RAW_DATA\\\\167.jpg', './datasets/processed_data\\\\RAW_DATA\\\\1008.jpg', './datasets/processed_data\\\\RAW_DATA\\\\1129.jpg', './datasets/processed_data\\\\RAW_DATA\\\\914.jpg', './datasets/processed_data\\\\RAW_DATA\\\\1933.jpg', './datasets/processed_data\\\\RAW_DATA\\\\986.jpg', './datasets/processed_data\\\\RAW_DATA\\\\1440.jpg', './datasets/processed_data\\\\RAW_DATA\\\\1996.jpg', './datasets/processed_data\\\\RAW_DATA\\\\1972.jpg', './datasets/processed_data\\\\RAW_DATA\\\\181.jpg', './datasets/processed_data\\\\RAW_DATA\\\\1911.jpg', './datasets/processed_data\\\\RAW_DATA\\\\794.jpg', './datasets/processed_data\\\\RAW_DATA\\\\605.jpg', './datasets/processed_data\\\\RAW_DATA\\\\1925.jpg', './datasets/processed_data\\\\RAW_DATA\\\\369.jpg', './datasets/processed_data\\\\RAW_DATA\\\\1915.jpg', './datasets/processed_data\\\\RAW_DATA\\\\2091.jpg', './datasets/processed_data\\\\RAW_DATA\\\\896.jpg', './datasets/processed_data\\\\RAW_DATA\\\\791.jpg', './datasets/processed_data\\\\RAW_DATA\\\\1951.jpg', './datasets/processed_data\\\\RAW_DATA\\\\1486.jpg', './datasets/processed_data\\\\RAW_DATA\\\\1649.jpg', './datasets/processed_data\\\\RAW_DATA\\\\2012.jpg', './datasets/processed_data\\\\RAW_DATA\\\\1123.jpg', './datasets/processed_data\\\\RAW_DATA\\\\1448.jpg', './datasets/processed_data\\\\RAW_DATA\\\\1969.jpg', './datasets/processed_data\\\\RAW_DATA\\\\1027.jpg', './datasets/processed_data\\\\RAW_DATA\\\\115.jpg', './datasets/processed_data\\\\RAW_DATA\\\\185.jpg', './datasets/processed_data\\\\RAW_DATA\\\\811.jpg', './datasets/processed_data\\\\RAW_DATA\\\\797.jpg', './datasets/processed_data\\\\RAW_DATA\\\\220.jpg', './datasets/processed_data\\\\RAW_DATA\\\\2015.jpg', './datasets/processed_data\\\\RAW_DATA\\\\440.jpg', './datasets/processed_data\\\\RAW_DATA\\\\953.jpg', './datasets/processed_data\\\\RAW_DATA\\\\82.jpg', './datasets/processed_data\\\\RAW_DATA\\\\1431.jpg', './datasets/processed_data\\\\RAW_DATA\\\\1498.jpg', './datasets/processed_data\\\\RAW_DATA\\\\911.jpg', './datasets/processed_data\\\\RAW_DATA\\\\1878.jpg', './datasets/processed_data\\\\RAW_DATA\\\\783.jpg', './datasets/processed_data\\\\RAW_DATA\\\\739.jpg', './datasets/processed_data\\\\RAW_DATA\\\\1622.jpg', './datasets/processed_data\\\\RAW_DATA\\\\1922.jpg', './datasets/processed_data\\\\RAW_DATA\\\\869.jpg', './datasets/processed_data\\\\RAW_DATA\\\\2009.jpg', './datasets/processed_data\\\\RAW_DATA\\\\1956.jpg', './datasets/processed_data\\\\RAW_DATA\\\\1993.jpg', './datasets/processed_data\\\\RAW_DATA\\\\1957.jpg', './datasets/processed_data\\\\RAW_DATA\\\\92.jpg', './datasets/processed_data\\\\RAW_DATA\\\\894.jpg', './datasets/processed_data\\\\RAW_DATA\\\\1912.jpg', './datasets/processed_data\\\\RAW_DATA\\\\1660.jpg', './datasets/processed_data\\\\RAW_DATA\\\\809.jpg', './datasets/processed_data\\\\RAW_DATA\\\\1939.jpg', './datasets/processed_data\\\\RAW_DATA\\\\190.jpg', './datasets/processed_data\\\\RAW_DATA\\\\1887.jpg', './datasets/processed_data\\\\RAW_DATA\\\\611.jpg', './datasets/processed_data\\\\RAW_DATA\\\\1230.jpg', './datasets/processed_data\\\\RAW_DATA\\\\1822.jpg', './datasets/processed_data\\\\RAW_DATA\\\\662.jpg', './datasets/processed_data\\\\RAW_DATA\\\\762.jpg', './datasets/processed_data\\\\RAW_DATA\\\\738.jpg', './datasets/processed_data\\\\RAW_DATA\\\\1932.jpg', './datasets/processed_data\\\\RAW_DATA\\\\1429.jpg', './datasets/processed_data\\\\RAW_DATA\\\\163.jpg', './datasets/processed_data\\\\RAW_DATA\\\\200.jpg', './datasets/processed_data\\\\RAW_DATA\\\\2019.jpg', './datasets/processed_data\\\\RAW_DATA\\\\102.jpg', './datasets/processed_data\\\\RAW_DATA\\\\368.jpg', './datasets/processed_data\\\\RAW_DATA\\\\2088.jpg', './datasets/processed_data\\\\RAW_DATA\\\\1882.jpg', './datasets/processed_data\\\\RAW_DATA\\\\1063.jpg', './datasets/processed_data\\\\RAW_DATA\\\\1971.jpg', './datasets/processed_data\\\\RAW_DATA\\\\1608.jpg', './datasets/processed_data\\\\RAW_DATA\\\\1502.jpg', './datasets/processed_data\\\\RAW_DATA\\\\1940.jpg', './datasets/processed_data\\\\RAW_DATA\\\\678.jpg', './datasets/processed_data\\\\RAW_DATA\\\\908.jpg', './datasets/processed_data\\\\RAW_DATA\\\\366.jpg', './datasets/processed_data\\\\RAW_DATA\\\\1948.jpg', './datasets/processed_data\\\\RAW_DATA\\\\1903.jpg', './datasets/processed_data\\\\RAW_DATA\\\\2008.jpg', './datasets/processed_data\\\\RAW_DATA\\\\1522.jpg', './datasets/processed_data\\\\RAW_DATA\\\\1926.jpg', './datasets/processed_data\\\\RAW_DATA\\\\1895.jpg', './datasets/processed_data\\\\RAW_DATA\\\\188.jpg', './datasets/processed_data\\\\RAW_DATA\\\\890.jpg', './datasets/processed_data\\\\RAW_DATA\\\\1579.jpg', './datasets/processed_data\\\\RAW_DATA\\\\147.jpg', './datasets/processed_data\\\\RAW_DATA\\\\1669.jpg', './datasets/processed_data\\\\RAW_DATA\\\\1590.jpg', './datasets/processed_data\\\\RAW_DATA\\\\1876.jpg', './datasets/processed_data\\\\RAW_DATA\\\\590.jpg', './datasets/processed_data\\\\RAW_DATA\\\\1593.jpg', './datasets/processed_data\\\\RAW_DATA\\\\1976.jpg', './datasets/processed_data\\\\RAW_DATA\\\\1452.jpg', './datasets/processed_data\\\\RAW_DATA\\\\1163.jpg', './datasets/processed_data\\\\RAW_DATA\\\\1237.jpg', './datasets/processed_data\\\\RAW_DATA\\\\1877.jpg', './datasets/processed_data\\\\RAW_DATA\\\\1665.jpg', './datasets/processed_data\\\\RAW_DATA\\\\780.jpg', './datasets/processed_data\\\\RAW_DATA\\\\1913.jpg', './datasets/processed_data\\\\RAW_DATA\\\\1450.jpg', './datasets/processed_data\\\\RAW_DATA\\\\906.jpg', './datasets/processed_data\\\\RAW_DATA\\\\1949.jpg', './datasets/processed_data\\\\RAW_DATA\\\\1954.jpg', './datasets/processed_data\\\\RAW_DATA\\\\687.jpg', './datasets/processed_data\\\\RAW_DATA\\\\712.jpg', './datasets/processed_data\\\\RAW_DATA\\\\1671.jpg', './datasets/processed_data\\\\RAW_DATA\\\\1879.jpg', './datasets/processed_data\\\\RAW_DATA\\\\86.jpg', './datasets/processed_data\\\\RAW_DATA\\\\1514.jpg', './datasets/processed_data\\\\RAW_DATA\\\\79.jpg', './datasets/processed_data\\\\RAW_DATA\\\\194.jpg', './datasets/processed_data\\\\RAW_DATA\\\\774.jpg', './datasets/processed_data\\\\RAW_DATA\\\\1952.jpg', './datasets/processed_data\\\\RAW_DATA\\\\2003.jpg', './datasets/processed_data\\\\RAW_DATA\\\\59.jpg', './datasets/processed_data\\\\RAW_DATA\\\\1914.jpg', './datasets/processed_data\\\\RAW_DATA\\\\1938.jpg', './datasets/processed_data\\\\RAW_DATA\\\\292.jpg', './datasets/processed_data\\\\RAW_DATA\\\\1985.jpg', './datasets/processed_data\\\\RAW_DATA\\\\291.jpg', './datasets/processed_data\\\\RAW_DATA\\\\1725.jpg', './datasets/processed_data\\\\RAW_DATA\\\\1239.jpg', './datasets/processed_data\\\\RAW_DATA\\\\1068.jpg', './datasets/processed_data\\\\RAW_DATA\\\\2014.jpg', './datasets/processed_data\\\\RAW_DATA\\\\1916.jpg', './datasets/processed_data\\\\RAW_DATA\\\\1958.jpg', './datasets/processed_data\\\\RAW_DATA\\\\1645.jpg', './datasets/processed_data\\\\RAW_DATA\\\\1910.jpg', './datasets/processed_data\\\\RAW_DATA\\\\370.jpg', './datasets/processed_data\\\\RAW_DATA\\\\903.jpg', './datasets/processed_data\\\\RAW_DATA\\\\492.jpg', './datasets/processed_data\\\\RAW_DATA\\\\1654.jpg', './datasets/processed_data\\\\RAW_DATA\\\\882.jpg', './datasets/processed_data\\\\RAW_DATA\\\\2087.jpg', './datasets/processed_data\\\\RAW_DATA\\\\951.jpg', './datasets/processed_data\\\\RAW_DATA\\\\966.jpg', './datasets/processed_data\\\\RAW_DATA\\\\96.jpg', './datasets/processed_data\\\\RAW_DATA\\\\1982.jpg', './datasets/processed_data\\\\RAW_DATA\\\\1896.jpg', './datasets/processed_data\\\\RAW_DATA\\\\915.jpg', './datasets/processed_data\\\\RAW_DATA\\\\1773.jpg', './datasets/processed_data\\\\RAW_DATA\\\\1886.jpg', './datasets/processed_data\\\\RAW_DATA\\\\1929.jpg', './datasets/processed_data\\\\RAW_DATA\\\\1927.jpg', './datasets/processed_data\\\\RAW_DATA\\\\980.jpg', './datasets/processed_data\\\\RAW_DATA\\\\1005.jpg', './datasets/processed_data\\\\RAW_DATA\\\\1970.jpg', './datasets/processed_data\\\\RAW_DATA\\\\1934.jpg', './datasets/processed_data\\\\RAW_DATA\\\\165.jpg', './datasets/processed_data\\\\RAW_DATA\\\\2002.jpg', './datasets/processed_data\\\\RAW_DATA\\\\1983.jpg', './datasets/processed_data\\\\RAW_DATA\\\\1172.jpg', './datasets/processed_data\\\\RAW_DATA\\\\1662.jpg', './datasets/processed_data\\\\RAW_DATA\\\\952.jpg', './datasets/processed_data\\\\RAW_DATA\\\\1953.jpg', './datasets/processed_data\\\\RAW_DATA\\\\1991.jpg', './datasets/processed_data\\\\RAW_DATA\\\\2011.jpg', './datasets/processed_data\\\\RAW_DATA\\\\681.jpg', './datasets/processed_data\\\\RAW_DATA\\\\786.jpg', './datasets/processed_data\\\\RAW_DATA\\\\1984.jpg', './datasets/processed_data\\\\RAW_DATA\\\\1987.jpg', './datasets/processed_data\\\\RAW_DATA\\\\169.jpg', './datasets/processed_data\\\\RAW_DATA\\\\1484.jpg', './datasets/processed_data\\\\RAW_DATA\\\\702.jpg', './datasets/processed_data\\\\RAW_DATA\\\\1180.jpg', './datasets/processed_data\\\\RAW_DATA\\\\1508.jpg', './datasets/processed_data\\\\RAW_DATA\\\\788.jpg', './datasets/processed_data\\\\RAW_DATA\\\\1616.jpg', './datasets/processed_data\\\\RAW_DATA\\\\54.jpg', './datasets/processed_data\\\\RAW_DATA\\\\1745.jpg', './datasets/processed_data\\\\RAW_DATA\\\\419.jpg', './datasets/processed_data\\\\RAW_DATA\\\\1260.jpg', './datasets/processed_data\\\\RAW_DATA\\\\879.jpg', './datasets/processed_data\\\\RAW_DATA\\\\1446.jpg', './datasets/processed_data\\\\RAW_DATA\\\\1512.jpg', './datasets/processed_data\\\\RAW_DATA\\\\1980.jpg', './datasets/processed_data\\\\RAW_DATA\\\\1917.jpg', './datasets/processed_data\\\\RAW_DATA\\\\1891.jpg', './datasets/processed_data\\\\RAW_DATA\\\\107.jpg', './datasets/processed_data\\\\RAW_DATA\\\\1221.jpg', './datasets/processed_data\\\\RAW_DATA\\\\1177.jpg', './datasets/processed_data\\\\RAW_DATA\\\\1901.jpg', './datasets/processed_data\\\\RAW_DATA\\\\1875.jpg', './datasets/processed_data\\\\RAW_DATA\\\\689.jpg', './datasets/processed_data\\\\RAW_DATA\\\\684.jpg', './datasets/processed_data\\\\RAW_DATA\\\\1950.jpg', './datasets/processed_data\\\\RAW_DATA\\\\1587.jpg', './datasets/processed_data\\\\RAW_DATA\\\\1331.jpg', './datasets/processed_data\\\\RAW_DATA\\\\1978.jpg', './datasets/processed_data\\\\RAW_DATA\\\\585.jpg', './datasets/processed_data\\\\RAW_DATA\\\\90.jpg', './datasets/processed_data\\\\RAW_DATA\\\\1909.jpg', './datasets/processed_data\\\\RAW_DATA\\\\1246.jpg', './datasets/processed_data\\\\RAW_DATA\\\\842.jpg', './datasets/processed_data\\\\RAW_DATA\\\\1936.jpg', './datasets/processed_data\\\\RAW_DATA\\\\2020.jpg', './datasets/processed_data\\\\RAW_DATA\\\\1992.jpg', './datasets/processed_data\\\\RAW_DATA\\\\740.jpg', './datasets/processed_data\\\\RAW_DATA\\\\1011.jpg', './datasets/processed_data\\\\RAW_DATA\\\\1994.jpg', './datasets/processed_data\\\\RAW_DATA\\\\841.jpg', './datasets/processed_data\\\\RAW_DATA\\\\1600.jpg', './datasets/processed_data\\\\RAW_DATA\\\\1955.jpg', './datasets/processed_data\\\\RAW_DATA\\\\782.jpg', './datasets/processed_data\\\\RAW_DATA\\\\1942.jpg', './datasets/processed_data\\\\RAW_DATA\\\\1902.jpg', './datasets/processed_data\\\\RAW_DATA\\\\1596.jpg', './datasets/processed_data\\\\RAW_DATA\\\\346.jpg', './datasets/processed_data\\\\RAW_DATA\\\\1944.jpg', './datasets/processed_data\\\\RAW_DATA\\\\1434.jpg', './datasets/processed_data\\\\RAW_DATA\\\\1269.jpg', './datasets/processed_data\\\\RAW_DATA\\\\1204.jpg', './datasets/processed_data\\\\RAW_DATA\\\\2004.jpg', './datasets/processed_data\\\\RAW_DATA\\\\1930.jpg', './datasets/processed_data\\\\RAW_DATA\\\\812.jpg', './datasets/processed_data\\\\RAW_DATA\\\\1174.jpg', './datasets/processed_data\\\\RAW_DATA\\\\672.jpg', './datasets/processed_data\\\\RAW_DATA\\\\196.jpg', './datasets/processed_data\\\\RAW_DATA\\\\1998.jpg', './datasets/processed_data\\\\RAW_DATA\\\\286.jpg', './datasets/processed_data\\\\RAW_DATA\\\\1894.jpg', './datasets/processed_data\\\\RAW_DATA\\\\997.jpg', './datasets/processed_data\\\\RAW_DATA\\\\1820.jpg', './datasets/processed_data\\\\RAW_DATA\\\\1437.jpg', './datasets/processed_data\\\\RAW_DATA\\\\1751.jpg', './datasets/processed_data\\\\RAW_DATA\\\\171.jpg', './datasets/processed_data\\\\RAW_DATA\\\\1028.jpg', './datasets/processed_data\\\\RAW_DATA\\\\1443.jpg', './datasets/processed_data\\\\RAW_DATA\\\\438.jpg', './datasets/processed_data\\\\RAW_DATA\\\\112.jpg', './datasets/processed_data\\\\RAW_DATA\\\\1888.jpg', './datasets/processed_data\\\\RAW_DATA\\\\1243.jpg', './datasets/processed_data\\\\RAW_DATA\\\\876.jpg', './datasets/processed_data\\\\RAW_DATA\\\\704.jpg', './datasets/processed_data\\\\RAW_DATA\\\\1945.jpg', './datasets/processed_data\\\\RAW_DATA\\\\2017.jpg', './datasets/processed_data\\\\RAW_DATA\\\\789.jpg', './datasets/processed_data\\\\RAW_DATA\\\\1974.jpg', './datasets/processed_data\\\\RAW_DATA\\\\1937.jpg', './datasets/processed_data\\\\RAW_DATA\\\\1941.jpg', './datasets/processed_data\\\\RAW_DATA\\\\367.jpg', './datasets/processed_data\\\\RAW_DATA\\\\871.jpg', './datasets/processed_data\\\\RAW_DATA\\\\1989.jpg', './datasets/processed_data\\\\RAW_DATA\\\\976.jpg', './datasets/processed_data\\\\RAW_DATA\\\\872.jpg', './datasets/processed_data\\\\RAW_DATA\\\\512.jpg', './datasets/processed_data\\\\RAW_DATA\\\\2006.jpg', './datasets/processed_data\\\\RAW_DATA\\\\1931.jpg', './datasets/processed_data\\\\RAW_DATA\\\\1893.jpg', './datasets/processed_data\\\\RAW_DATA\\\\1257.jpg', './datasets/processed_data\\\\RAW_DATA\\\\1946.jpg', './datasets/processed_data\\\\RAW_DATA\\\\1920.jpg', './datasets/processed_data\\\\RAW_DATA\\\\588.jpg', './datasets/processed_data\\\\RAW_DATA\\\\1997.jpg', './datasets/processed_data\\\\RAW_DATA\\\\1612.jpg', './datasets/processed_data\\\\RAW_DATA\\\\1333.jpg', './datasets/processed_data\\\\RAW_DATA\\\\1003.jpg', './datasets/processed_data\\\\RAW_DATA\\\\1273.jpg', './datasets/processed_data\\\\RAW_DATA\\\\1500.jpg', './datasets/processed_data\\\\RAW_DATA\\\\1935.jpg', './datasets/processed_data\\\\RAW_DATA\\\\122.jpg', './datasets/processed_data\\\\RAW_DATA\\\\2000.jpg', './datasets/processed_data\\\\RAW_DATA\\\\1575.jpg', './datasets/processed_data\\\\RAW_DATA\\\\74.jpg', './datasets/processed_data\\\\RAW_DATA\\\\1332.jpg', './datasets/processed_data\\\\RAW_DATA\\\\771.jpg', './datasets/processed_data\\\\RAW_DATA\\\\2001.jpg', './datasets/processed_data\\\\RAW_DATA\\\\1979.jpg', './datasets/processed_data\\\\RAW_DATA\\\\1119.jpg', './datasets/processed_data\\\\RAW_DATA\\\\608.jpg', './datasets/processed_data\\\\RAW_DATA\\\\1519.jpg', './datasets/processed_data\\\\RAW_DATA\\\\2010.jpg', './datasets/processed_data\\\\RAW_DATA\\\\1898.jpg', './datasets/processed_data\\\\RAW_DATA\\\\692.jpg', './datasets/processed_data\\\\RAW_DATA\\\\983.jpg', './datasets/processed_data\\\\RAW_DATA\\\\1748.jpg', './datasets/processed_data\\\\RAW_DATA\\\\55.jpg', './datasets/processed_data\\\\RAW_DATA\\\\94.jpg', './datasets/processed_data\\\\RAW_DATA\\\\666.jpg', './datasets/processed_data\\\\RAW_DATA\\\\1981.jpg', './datasets/processed_data\\\\RAW_DATA\\\\1335.jpg', './datasets/processed_data\\\\RAW_DATA\\\\810.jpg', './datasets/processed_data\\\\RAW_DATA\\\\1323.jpg', './datasets/processed_data\\\\RAW_DATA\\\\1905.jpg', './datasets/processed_data\\\\RAW_DATA\\\\192.jpg', './datasets/processed_data\\\\RAW_DATA\\\\995.jpg', './datasets/processed_data\\\\RAW_DATA\\\\1918.jpg', './datasets/processed_data\\\\RAW_DATA\\\\1900.jpg', './datasets/processed_data\\\\RAW_DATA\\\\1423.jpg', './datasets/processed_data\\\\RAW_DATA\\\\127.jpg', './datasets/processed_data\\\\RAW_DATA\\\\768.jpg', './datasets/processed_data\\\\RAW_DATA\\\\1973.jpg', './datasets/processed_data\\\\RAW_DATA\\\\1990.jpg', './datasets/processed_data\\\\RAW_DATA\\\\116.jpg', './datasets/processed_data\\\\RAW_DATA\\\\594.jpg', './datasets/processed_data\\\\RAW_DATA\\\\1892.jpg', './datasets/processed_data\\\\RAW_DATA\\\\2013.jpg', './datasets/processed_data\\\\RAW_DATA\\\\1921.jpg', './datasets/processed_data\\\\RAW_DATA\\\\900.jpg', './datasets/processed_data\\\\RAW_DATA\\\\347.jpg', './datasets/processed_data\\\\RAW_DATA\\\\766.jpg', './datasets/processed_data\\\\RAW_DATA\\\\1995.jpg', './datasets/processed_data\\\\RAW_DATA\\\\587.jpg', './datasets/processed_data\\\\RAW_DATA\\\\1881.jpg', './datasets/processed_data\\\\RAW_DATA\\\\1738.jpg', './datasets/processed_data\\\\RAW_DATA\\\\1883.jpg', './datasets/processed_data\\\\RAW_DATA\\\\802.jpg', './datasets/processed_data\\\\RAW_DATA\\\\1598.jpg', './datasets/processed_data\\\\RAW_DATA\\\\866.jpg', './datasets/processed_data\\\\RAW_DATA\\\\1516.jpg', './datasets/processed_data\\\\RAW_DATA\\\\699.jpg', './datasets/processed_data\\\\RAW_DATA\\\\1943.jpg', './datasets/processed_data\\\\RAW_DATA\\\\1663.jpg', './datasets/processed_data\\\\RAW_DATA\\\\999.jpg', './datasets/processed_data\\\\RAW_DATA\\\\1157.jpg', './datasets/processed_data\\\\RAW_DATA\\\\1919.jpg', './datasets/processed_data\\\\RAW_DATA\\\\1475.jpg', './datasets/processed_data\\\\RAW_DATA\\\\1614.jpg', './datasets/processed_data\\\\RAW_DATA\\\\2007.jpg', './datasets/processed_data\\\\RAW_DATA\\\\779.jpg', './datasets/processed_data\\\\RAW_DATA\\\\1605.jpg']\n",
      "Number of testing  samples: ['./datasets/processed_data\\\\RAW_DATA\\\\1904.jpg', './datasets/processed_data\\\\RAW_DATA\\\\1206.jpg', './datasets/processed_data\\\\RAW_DATA\\\\1472.jpg', './datasets/processed_data\\\\RAW_DATA\\\\81.jpg', './datasets/processed_data\\\\RAW_DATA\\\\864.jpg', './datasets/processed_data\\\\RAW_DATA\\\\1505.jpg', './datasets/processed_data\\\\RAW_DATA\\\\963.jpg', './datasets/processed_data\\\\RAW_DATA\\\\990.jpg', './datasets/processed_data\\\\RAW_DATA\\\\1675.jpg', './datasets/processed_data\\\\RAW_DATA\\\\98.jpg', './datasets/processed_data\\\\RAW_DATA\\\\1510.jpg', './datasets/processed_data\\\\RAW_DATA\\\\1496.jpg', './datasets/processed_data\\\\RAW_DATA\\\\764.jpg', './datasets/processed_data\\\\RAW_DATA\\\\1897.jpg', './datasets/processed_data\\\\RAW_DATA\\\\1890.jpg', './datasets/processed_data\\\\RAW_DATA\\\\1906.jpg', './datasets/processed_data\\\\RAW_DATA\\\\1924.jpg', './datasets/processed_data\\\\RAW_DATA\\\\1907.jpg', './datasets/processed_data\\\\RAW_DATA\\\\104.jpg', './datasets/processed_data\\\\RAW_DATA\\\\1602.jpg', './datasets/processed_data\\\\RAW_DATA\\\\1658.jpg', './datasets/processed_data\\\\RAW_DATA\\\\1999.jpg', './datasets/processed_data\\\\RAW_DATA\\\\1609.jpg', './datasets/processed_data\\\\RAW_DATA\\\\1482.jpg', './datasets/processed_data\\\\RAW_DATA\\\\1523.jpg', './datasets/processed_data\\\\RAW_DATA\\\\119.jpg', './datasets/processed_data\\\\RAW_DATA\\\\1947.jpg', './datasets/processed_data\\\\RAW_DATA\\\\1371.jpg', './datasets/processed_data\\\\RAW_DATA\\\\1581.jpg', './datasets/processed_data\\\\RAW_DATA\\\\2086.jpg', './datasets/processed_data\\\\RAW_DATA\\\\1988.jpg', './datasets/processed_data\\\\RAW_DATA\\\\805.jpg', './datasets/processed_data\\\\RAW_DATA\\\\696.jpg', './datasets/processed_data\\\\RAW_DATA\\\\1650.jpg', './datasets/processed_data\\\\RAW_DATA\\\\1121.jpg', './datasets/processed_data\\\\RAW_DATA\\\\1741.jpg', './datasets/processed_data\\\\RAW_DATA\\\\100.jpg', './datasets/processed_data\\\\RAW_DATA\\\\1646.jpg', './datasets/processed_data\\\\RAW_DATA\\\\713.jpg', './datasets/processed_data\\\\RAW_DATA\\\\1743.jpg', './datasets/processed_data\\\\RAW_DATA\\\\2005.jpg', './datasets/processed_data\\\\RAW_DATA\\\\657.jpg', './datasets/processed_data\\\\RAW_DATA\\\\1986.jpg', './datasets/processed_data\\\\RAW_DATA\\\\1928.jpg', './datasets/processed_data\\\\RAW_DATA\\\\860.jpg', './datasets/processed_data\\\\RAW_DATA\\\\1376.jpg', './datasets/processed_data\\\\RAW_DATA\\\\709.jpg', './datasets/processed_data\\\\RAW_DATA\\\\589.jpg', './datasets/processed_data\\\\RAW_DATA\\\\1884.jpg', './datasets/processed_data\\\\RAW_DATA\\\\1248.jpg', './datasets/processed_data\\\\RAW_DATA\\\\1885.jpg', './datasets/processed_data\\\\RAW_DATA\\\\988.jpg', './datasets/processed_data\\\\RAW_DATA\\\\124.jpg', './datasets/processed_data\\\\RAW_DATA\\\\912.jpg', './datasets/processed_data\\\\RAW_DATA\\\\1170.jpg', './datasets/processed_data\\\\RAW_DATA\\\\888.jpg', './datasets/processed_data\\\\RAW_DATA\\\\669.jpg', './datasets/processed_data\\\\RAW_DATA\\\\1908.jpg', './datasets/processed_data\\\\RAW_DATA\\\\1880.jpg', './datasets/processed_data\\\\RAW_DATA\\\\1160.jpg', './datasets/processed_data\\\\RAW_DATA\\\\516.jpg', './datasets/processed_data\\\\RAW_DATA\\\\1266.jpg', './datasets/processed_data\\\\RAW_DATA\\\\1479.jpg', './datasets/processed_data\\\\RAW_DATA\\\\777.jpg', './datasets/processed_data\\\\RAW_DATA\\\\1493.jpg', './datasets/processed_data\\\\RAW_DATA\\\\1490.jpg', './datasets/processed_data\\\\RAW_DATA\\\\1419.jpg', './datasets/processed_data\\\\RAW_DATA\\\\1977.jpg', './datasets/processed_data\\\\RAW_DATA\\\\1166.jpg', './datasets/processed_data\\\\RAW_DATA\\\\1126.jpg', './datasets/processed_data\\\\RAW_DATA\\\\1625.jpg', './datasets/processed_data\\\\RAW_DATA\\\\1619.jpg', './datasets/processed_data\\\\RAW_DATA\\\\1203.jpg', './datasets/processed_data\\\\RAW_DATA\\\\2018.jpg', './datasets/processed_data\\\\RAW_DATA\\\\1889.jpg', './datasets/processed_data\\\\RAW_DATA\\\\1923.jpg', './datasets/processed_data\\\\RAW_DATA\\\\1975.jpg', './datasets/processed_data\\\\RAW_DATA\\\\675.jpg', './datasets/processed_data\\\\RAW_DATA\\\\708.jpg', './datasets/processed_data\\\\RAW_DATA\\\\1017.jpg', './datasets/processed_data\\\\RAW_DATA\\\\1263.jpg', './datasets/processed_data\\\\RAW_DATA\\\\1584.jpg', './datasets/processed_data\\\\RAW_DATA\\\\287.jpg']\n"
     ]
    },
    {
     "data": {
      "application/vnd.jupyter.widget-view+json": {
       "model_id": "b069ec9dddfc41afbcc8af9ba35c565f",
       "version_major": 2,
       "version_minor": 0
      },
      "text/plain": [
       "  0%|          | 0/328 [00:00<?, ?it/s]"
      ]
     },
     "metadata": {},
     "output_type": "display_data"
    },
    {
     "data": {
      "application/vnd.jupyter.widget-view+json": {
       "model_id": "166186b7f7c44ce6a31d9586689dc00e",
       "version_major": 2,
       "version_minor": 0
      },
      "text/plain": [
       "  0%|          | 0/83 [00:00<?, ?it/s]"
      ]
     },
     "metadata": {},
     "output_type": "display_data"
    }
   ],
   "source": [
    "train_out_folder = os.path.join(output_dataset_root, 'train')\n",
    "test_out_folder = os.path.join(output_dataset_root, 'test')\n",
    "\n",
    "Path(train_out_folder).mkdir(parents=True, exist_ok=True)\n",
    "Path(test_out_folder).mkdir(parents=True, exist_ok=True)\n",
    "\n",
    "train_paths, test_paths = train_test_split(find_all_image_paths(output_dataset_root), \n",
    "                                           train_size=TRAIN_TEST_RATIO, \n",
    "                                           random_state=RANDOM_SEED, \n",
    "                                           shuffle=True, \n",
    "                                           stratify=None)\n",
    "\n",
    "print(f'Number of training samples: {len(train_paths)}')\n",
    "print(f'Number of testing  samples: {len(test_paths)}')\n",
    "\n",
    "\n",
    "# do not specify the specific file so that it raise warning whe file already exists\n",
    "# to avoid potential training samples.\n",
    "\n",
    "for train_path in tqdm(train_paths):\n",
    "    shutil.move(train_path, train_out_folder)\n",
    "    \n",
    "for test_path in tqdm(test_paths):\n",
    "    shutil.move(test_path, test_out_folder)"
   ]
  }
 ],
 "metadata": {
  "kernelspec": {
   "display_name": "Python 3",
   "language": "python",
   "name": "python3"
  },
  "language_info": {
   "codemirror_mode": {
    "name": "ipython",
    "version": 3
   },
   "file_extension": ".py",
   "mimetype": "text/x-python",
   "name": "python",
   "nbconvert_exporter": "python",
   "pygments_lexer": "ipython3",
   "version": "3.8.9"
  }
 },
 "nbformat": 4,
 "nbformat_minor": 5
}
